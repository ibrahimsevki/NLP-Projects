{
 "cells": [
  {
   "cell_type": "code",
   "execution_count": 1,
   "metadata": {},
   "outputs": [],
   "source": [
    "import pandas as pd\n",
    "tweet_stimulus = pd.read_csv((\"/Users/bahtinur/Desktop/Tweet/stimulus.csv\"), index_col=0)"
   ]
  },
  {
   "cell_type": "code",
   "execution_count": 2,
   "metadata": {},
   "outputs": [
    {
     "data": {
      "text/html": [
       "<div>\n",
       "<style scoped>\n",
       "    .dataframe tbody tr th:only-of-type {\n",
       "        vertical-align: middle;\n",
       "    }\n",
       "\n",
       "    .dataframe tbody tr th {\n",
       "        vertical-align: top;\n",
       "    }\n",
       "\n",
       "    .dataframe thead th {\n",
       "        text-align: right;\n",
       "    }\n",
       "</style>\n",
       "<table border=\"1\" class=\"dataframe\">\n",
       "  <thead>\n",
       "    <tr style=\"text-align: right;\">\n",
       "      <th></th>\n",
       "      <th>id</th>\n",
       "      <th>created_at</th>\n",
       "      <th>full_text</th>\n",
       "      <th>Sentiment</th>\n",
       "      <th>SentimentClass</th>\n",
       "    </tr>\n",
       "  </thead>\n",
       "  <tbody>\n",
       "    <tr>\n",
       "      <th>0</th>\n",
       "      <td>1330775252339572737</td>\n",
       "      <td>2020-11-23 07:28:39</td>\n",
       "      <td>pandemic stimulus: cancel student loans by exe...</td>\n",
       "      <td>0.000000</td>\n",
       "      <td>Neutral</td>\n",
       "    </tr>\n",
       "    <tr>\n",
       "      <th>1</th>\n",
       "      <td>1330775251664429061</td>\n",
       "      <td>2020-11-23 07:28:39</td>\n",
       "      <td>repmichaelwaltz  senrickscott  spaceforcedod ...</td>\n",
       "      <td>0.000000</td>\n",
       "      <td>Neutral</td>\n",
       "    </tr>\n",
       "    <tr>\n",
       "      <th>2</th>\n",
       "      <td>1330775152179752964</td>\n",
       "      <td>2020-11-23 07:28:15</td>\n",
       "      <td>senrickscott  america   stimulus now   .  mil...</td>\n",
       "      <td>0.068182</td>\n",
       "      <td>Positive</td>\n",
       "    </tr>\n",
       "    <tr>\n",
       "      <th>3</th>\n",
       "      <td>1330775041685020672</td>\n",
       "      <td>2020-11-23 07:27:49</td>\n",
       "      <td>markets move higher as investors eye the   ele...</td>\n",
       "      <td>0.250000</td>\n",
       "      <td>Positive</td>\n",
       "    </tr>\n",
       "    <tr>\n",
       "      <th>4</th>\n",
       "      <td>1330775013746733057</td>\n",
       "      <td>2020-11-23 07:27:42</td>\n",
       "      <td>aerosol may not be good for the environment, b...</td>\n",
       "      <td>0.600000</td>\n",
       "      <td>Positive</td>\n",
       "    </tr>\n",
       "  </tbody>\n",
       "</table>\n",
       "</div>"
      ],
      "text/plain": [
       "                    id           created_at  \\\n",
       "0  1330775252339572737  2020-11-23 07:28:39   \n",
       "1  1330775251664429061  2020-11-23 07:28:39   \n",
       "2  1330775152179752964  2020-11-23 07:28:15   \n",
       "3  1330775041685020672  2020-11-23 07:27:49   \n",
       "4  1330775013746733057  2020-11-23 07:27:42   \n",
       "\n",
       "                                           full_text  Sentiment SentimentClass  \n",
       "0  pandemic stimulus: cancel student loans by exe...   0.000000        Neutral  \n",
       "1   repmichaelwaltz  senrickscott  spaceforcedod ...   0.000000        Neutral  \n",
       "2   senrickscott  america   stimulus now   .  mil...   0.068182       Positive  \n",
       "3  markets move higher as investors eye the   ele...   0.250000       Positive  \n",
       "4  aerosol may not be good for the environment, b...   0.600000       Positive  "
      ]
     },
     "execution_count": 2,
     "metadata": {},
     "output_type": "execute_result"
    }
   ],
   "source": [
    "tweet_stimulus.head()"
   ]
  },
  {
   "cell_type": "code",
   "execution_count": 3,
   "metadata": {},
   "outputs": [
    {
     "name": "stdout",
     "output_type": "stream",
     "text": [
      "0    pandemic stimulus: cancel student loans by exe...\n",
      "1     repmichaelwaltz  senrickscott  spaceforcedod ...\n",
      "2     senrickscott  america   stimulus now   .  mil...\n",
      "3    markets move higher as investors eye the   ele...\n",
      "4    aerosol may not be good for the environment, b...\n",
      "Name: full_text, dtype: object\n",
      "-------Remove Stop Word------\n",
      "0    pandemic stimulus: cancel student loans execut...\n",
      "1    repmichaelwaltz senrickscott spaceforcedod gov...\n",
      "2    senrickscott america stimulus . million americ...\n",
      "3    markets move higher investors eye election, on...\n",
      "4    aerosol may good environment, still remember o...\n",
      "Name: StopWords, dtype: object\n"
     ]
    }
   ],
   "source": [
    "from nltk.corpus import stopwords\n",
    "from nltk.tokenize import word_tokenize\n",
    "stop = stopwords.words(\"english\")\n",
    "\n",
    "print((tweet_stimulus['full_text']).head())\n",
    "print('-------Remove Stop Word------')\n",
    "tweet_stimulus['StopWords'] = tweet_stimulus['full_text'].astype(str).apply(lambda x: ' '.join([word for word in x.split() if word not in (stop)]))\n",
    "print((tweet_stimulus['StopWords']).head())"
   ]
  },
  {
   "cell_type": "code",
   "execution_count": 4,
   "metadata": {},
   "outputs": [
    {
     "name": "stdout",
     "output_type": "stream",
     "text": [
      "0    pandemic stimulus: cancel student loans execut...\n",
      "1    repmichaelwaltz senrickscott spaceforcedod gov...\n",
      "2    senrickscott america stimulus . million americ...\n",
      "3    markets move higher investors eye election, on...\n",
      "4    aerosol may good environment, still remember o...\n",
      "Name: StopWords, dtype: object\n",
      "-------Stemming------\n",
      "0    pandem stimulus: cancel student loan execut or...\n",
      "1    repmichaelwaltz senrickscott spaceforcedod gov...\n",
      "2    senrickscott america stimulu . million america...\n",
      "3    market move higher investor eye election, ongo...\n",
      "4    aerosol may good environment, still rememb ok ...\n",
      "Name: Stemming, dtype: object\n"
     ]
    }
   ],
   "source": [
    "from nltk.stem.porter import PorterStemmer\n",
    "ps = PorterStemmer()\n",
    "print((tweet_stimulus['StopWords']).head())\n",
    "print('-------Stemming------')\n",
    "tweet_stimulus['Stemming'] = tweet_stimulus['StopWords'].astype(str).apply(lambda x: ' '.join([ps.stem(word) for word in x.split()]))\n",
    "print((tweet_stimulus['Stemming']).head())"
   ]
  },
  {
   "cell_type": "code",
   "execution_count": 5,
   "metadata": {},
   "outputs": [
    {
     "name": "stdout",
     "output_type": "stream",
     "text": [
      "0    pandem stimulus: cancel student loan execut or...\n",
      "1    repmichaelwaltz senrickscott spaceforcedod gov...\n",
      "2    senrickscott america stimulu . million america...\n",
      "3    market move higher investor eye election, ongo...\n",
      "4    aerosol may good environment, still rememb ok ...\n",
      "Name: Stemming, dtype: object\n",
      "-------Lemmazation------\n",
      "0    pandem stimulus: cancel student loan execut or...\n",
      "1    repmichaelwaltz senrickscott spaceforcedod gov...\n",
      "2    senrickscott america stimulu . million america...\n",
      "3    market move higher investor eye election, ongo...\n",
      "4    aerosol may good environment, still rememb ok ...\n",
      "Name: Lemmatizing, dtype: object\n"
     ]
    }
   ],
   "source": [
    "from nltk.stem import WordNetLemmatizer\n",
    "lemmatizer = WordNetLemmatizer()\n",
    "print((tweet_stimulus['Stemming']).head())\n",
    "print('-------Lemmazation------')\n",
    "tweet_stimulus['Lemmatizing'] = tweet_stimulus['Stemming'].astype(str).apply(lambda x: ' '.join([lemmatizer.lemmatize(word) for word in x.split()]))\n",
    "print((tweet_stimulus['Lemmatizing']).head())"
   ]
  },
  {
   "cell_type": "code",
   "execution_count": 6,
   "metadata": {},
   "outputs": [],
   "source": [
    "from textblob import TextBlob\n",
    "text = tweet_stimulus[\"Lemmatizing\"]\n",
    "\n",
    "for i in range(0,len(text)):\n",
    "    textB = TextBlob(text[i])\n",
    "    sentiment = textB.sentiment.polarity\n",
    "    tweet_stimulus.at[i, 'Sentiment'] = sentiment\n",
    "    if sentiment <0.00:\n",
    "        SentimentClass = 'Negative'\n",
    "        tweet_stimulus.at[i, 'SentimentClass'] = SentimentClass \n",
    "    elif sentiment >0.00:\n",
    "        SentimentClass = 'Positive'\n",
    "        tweet_stimulus.at[i, 'SentimentClass'] = SentimentClass \n",
    "    else:\n",
    "        SentimentClass = 'Neutral'\n",
    "        tweet_stimulus.at[i, 'SentimentClass'] = SentimentClass "
   ]
  },
  {
   "cell_type": "code",
   "execution_count": 7,
   "metadata": {},
   "outputs": [],
   "source": [
    "tweet = tweet_stimulus.to_csv(\"/Users/bahtinur/Desktop/Tweet/stimulus.csv\")"
   ]
  },
  {
   "cell_type": "code",
   "execution_count": 8,
   "metadata": {},
   "outputs": [],
   "source": [
    "import pandas as pd\n",
    "tweet_stimulus = pd.read_csv((\"/Users/bahtinur/Desktop/Tweet/stimulus.csv\"), index_col=0)"
   ]
  },
  {
   "cell_type": "code",
   "execution_count": 9,
   "metadata": {},
   "outputs": [
    {
     "data": {
      "text/html": [
       "<div>\n",
       "<style scoped>\n",
       "    .dataframe tbody tr th:only-of-type {\n",
       "        vertical-align: middle;\n",
       "    }\n",
       "\n",
       "    .dataframe tbody tr th {\n",
       "        vertical-align: top;\n",
       "    }\n",
       "\n",
       "    .dataframe thead th {\n",
       "        text-align: right;\n",
       "    }\n",
       "</style>\n",
       "<table border=\"1\" class=\"dataframe\">\n",
       "  <thead>\n",
       "    <tr style=\"text-align: right;\">\n",
       "      <th></th>\n",
       "      <th>id</th>\n",
       "      <th>created_at</th>\n",
       "      <th>Sentiment</th>\n",
       "      <th>SentimentClass</th>\n",
       "      <th>Lemmatizing</th>\n",
       "    </tr>\n",
       "  </thead>\n",
       "  <tbody>\n",
       "    <tr>\n",
       "      <th>0</th>\n",
       "      <td>1330775252339572737</td>\n",
       "      <td>2020-11-23 07:28:39</td>\n",
       "      <td>0.000000</td>\n",
       "      <td>Neutral</td>\n",
       "      <td>pandem stimulus: cancel student loan execut or...</td>\n",
       "    </tr>\n",
       "    <tr>\n",
       "      <th>1</th>\n",
       "      <td>1330775251664429061</td>\n",
       "      <td>2020-11-23 07:28:39</td>\n",
       "      <td>0.000000</td>\n",
       "      <td>Neutral</td>\n",
       "      <td>repmichaelwaltz senrickscott spaceforcedod gov...</td>\n",
       "    </tr>\n",
       "    <tr>\n",
       "      <th>2</th>\n",
       "      <td>1330775152179752964</td>\n",
       "      <td>2020-11-23 07:28:15</td>\n",
       "      <td>0.045455</td>\n",
       "      <td>Positive</td>\n",
       "      <td>senrickscott america stimulu . million america...</td>\n",
       "    </tr>\n",
       "    <tr>\n",
       "      <th>3</th>\n",
       "      <td>1330775041685020672</td>\n",
       "      <td>2020-11-23 07:27:49</td>\n",
       "      <td>0.250000</td>\n",
       "      <td>Positive</td>\n",
       "      <td>market move higher investor eye election, ongo...</td>\n",
       "    </tr>\n",
       "    <tr>\n",
       "      <th>4</th>\n",
       "      <td>1330775013746733057</td>\n",
       "      <td>2020-11-23 07:27:42</td>\n",
       "      <td>0.600000</td>\n",
       "      <td>Positive</td>\n",
       "      <td>aerosol may good environment, still rememb ok ...</td>\n",
       "    </tr>\n",
       "  </tbody>\n",
       "</table>\n",
       "</div>"
      ],
      "text/plain": [
       "                    id           created_at  Sentiment SentimentClass  \\\n",
       "0  1330775252339572737  2020-11-23 07:28:39   0.000000        Neutral   \n",
       "1  1330775251664429061  2020-11-23 07:28:39   0.000000        Neutral   \n",
       "2  1330775152179752964  2020-11-23 07:28:15   0.045455       Positive   \n",
       "3  1330775041685020672  2020-11-23 07:27:49   0.250000       Positive   \n",
       "4  1330775013746733057  2020-11-23 07:27:42   0.600000       Positive   \n",
       "\n",
       "                                         Lemmatizing  \n",
       "0  pandem stimulus: cancel student loan execut or...  \n",
       "1  repmichaelwaltz senrickscott spaceforcedod gov...  \n",
       "2  senrickscott america stimulu . million america...  \n",
       "3  market move higher investor eye election, ongo...  \n",
       "4  aerosol may good environment, still rememb ok ...  "
      ]
     },
     "execution_count": 9,
     "metadata": {},
     "output_type": "execute_result"
    }
   ],
   "source": [
    "tweet_stimulus.drop(['StopWords', 'Stemming', 'full_text'], axis=1, inplace = True)\n",
    "tweet_stimulus.head()"
   ]
  },
  {
   "cell_type": "code",
   "execution_count": 10,
   "metadata": {},
   "outputs": [
    {
     "data": {
      "text/html": [
       "<div>\n",
       "<style scoped>\n",
       "    .dataframe tbody tr th:only-of-type {\n",
       "        vertical-align: middle;\n",
       "    }\n",
       "\n",
       "    .dataframe tbody tr th {\n",
       "        vertical-align: top;\n",
       "    }\n",
       "\n",
       "    .dataframe thead th {\n",
       "        text-align: right;\n",
       "    }\n",
       "</style>\n",
       "<table border=\"1\" class=\"dataframe\">\n",
       "  <thead>\n",
       "    <tr style=\"text-align: right;\">\n",
       "      <th></th>\n",
       "      <th>id</th>\n",
       "      <th>created_at</th>\n",
       "      <th>Sentiment</th>\n",
       "      <th>SentimentClass</th>\n",
       "      <th>text</th>\n",
       "    </tr>\n",
       "  </thead>\n",
       "  <tbody>\n",
       "    <tr>\n",
       "      <th>0</th>\n",
       "      <td>1330775252339572737</td>\n",
       "      <td>2020-11-23 07:28:39</td>\n",
       "      <td>0.000000</td>\n",
       "      <td>Neutral</td>\n",
       "      <td>pandem stimulus: cancel student loan execut or...</td>\n",
       "    </tr>\n",
       "    <tr>\n",
       "      <th>1</th>\n",
       "      <td>1330775251664429061</td>\n",
       "      <td>2020-11-23 07:28:39</td>\n",
       "      <td>0.000000</td>\n",
       "      <td>Neutral</td>\n",
       "      <td>repmichaelwaltz senrickscott spaceforcedod gov...</td>\n",
       "    </tr>\n",
       "    <tr>\n",
       "      <th>2</th>\n",
       "      <td>1330775152179752964</td>\n",
       "      <td>2020-11-23 07:28:15</td>\n",
       "      <td>0.045455</td>\n",
       "      <td>Positive</td>\n",
       "      <td>senrickscott america stimulu . million america...</td>\n",
       "    </tr>\n",
       "    <tr>\n",
       "      <th>3</th>\n",
       "      <td>1330775041685020672</td>\n",
       "      <td>2020-11-23 07:27:49</td>\n",
       "      <td>0.250000</td>\n",
       "      <td>Positive</td>\n",
       "      <td>market move higher investor eye election, ongo...</td>\n",
       "    </tr>\n",
       "    <tr>\n",
       "      <th>4</th>\n",
       "      <td>1330775013746733057</td>\n",
       "      <td>2020-11-23 07:27:42</td>\n",
       "      <td>0.600000</td>\n",
       "      <td>Positive</td>\n",
       "      <td>aerosol may good environment, still rememb ok ...</td>\n",
       "    </tr>\n",
       "  </tbody>\n",
       "</table>\n",
       "</div>"
      ],
      "text/plain": [
       "                    id           created_at  Sentiment SentimentClass  \\\n",
       "0  1330775252339572737  2020-11-23 07:28:39   0.000000        Neutral   \n",
       "1  1330775251664429061  2020-11-23 07:28:39   0.000000        Neutral   \n",
       "2  1330775152179752964  2020-11-23 07:28:15   0.045455       Positive   \n",
       "3  1330775041685020672  2020-11-23 07:27:49   0.250000       Positive   \n",
       "4  1330775013746733057  2020-11-23 07:27:42   0.600000       Positive   \n",
       "\n",
       "                                                text  \n",
       "0  pandem stimulus: cancel student loan execut or...  \n",
       "1  repmichaelwaltz senrickscott spaceforcedod gov...  \n",
       "2  senrickscott america stimulu . million america...  \n",
       "3  market move higher investor eye election, ongo...  \n",
       "4  aerosol may good environment, still rememb ok ...  "
      ]
     },
     "execution_count": 10,
     "metadata": {},
     "output_type": "execute_result"
    }
   ],
   "source": [
    "tweet_stimulus.rename(columns={'Lemmatizing':'text'}, inplace=True)\n",
    "tweet_stimulus.head()"
   ]
  },
  {
   "cell_type": "code",
   "execution_count": 12,
   "metadata": {},
   "outputs": [],
   "source": [
    "sent = {'Positive':'1','Negative':'2','Neutral':'0'}\n",
    "tweet_stimulus['SentimentClass'] = tweet_stimulus['SentimentClass'].map(sent)"
   ]
  },
  {
   "cell_type": "code",
   "execution_count": 13,
   "metadata": {},
   "outputs": [
    {
     "name": "stdout",
     "output_type": "stream",
     "text": [
      "<class 'pandas.core.frame.DataFrame'>\n",
      "Int64Index: 4690 entries, 0 to 4689\n",
      "Data columns (total 5 columns):\n",
      " #   Column          Non-Null Count  Dtype  \n",
      "---  ------          --------------  -----  \n",
      " 0   id              4690 non-null   int64  \n",
      " 1   created_at      4690 non-null   object \n",
      " 2   Sentiment       4690 non-null   float64\n",
      " 3   SentimentClass  4690 non-null   object \n",
      " 4   text            4690 non-null   object \n",
      "dtypes: float64(1), int64(1), object(3)\n",
      "memory usage: 219.8+ KB\n"
     ]
    }
   ],
   "source": [
    "tweet_stimulus.info()"
   ]
  },
  {
   "cell_type": "code",
   "execution_count": 25,
   "metadata": {},
   "outputs": [
    {
     "data": {
      "text/plain": [
       "Neutral     2576\n",
       "Positive    1387\n",
       "Negative     727\n",
       "Name: SentimentClass, dtype: int64"
      ]
     },
     "execution_count": 25,
     "metadata": {},
     "output_type": "execute_result"
    }
   ],
   "source": [
    "sent = {'1':'Positive','2':'Negative','0':'Neutral'}\n",
    "tweet_stimulus['SentimentClass'] = tweet_stimulus['SentimentClass'].map(sent)\n",
    "tweet_stimulus['SentimentClass'].value_counts()"
   ]
  },
  {
   "cell_type": "code",
   "execution_count": 26,
   "metadata": {},
   "outputs": [
    {
     "data": {
      "text/plain": [
       "<AxesSubplot:>"
      ]
     },
     "execution_count": 26,
     "metadata": {},
     "output_type": "execute_result"
    },
    {
     "data": {
      "image/png": "[encoded data removed]",
      "text/plain": [
       "<Figure size 432x288 with 1 Axes>"
      ]
     },
     "metadata": {
      "needs_background": "light"
     },
     "output_type": "display_data"
    }
   ],
   "source": [
    "import matplotlib.pyplot as plt\n",
    "tweet_stimulus['SentimentClass'].value_counts().plot(kind='bar', width=0.5)"
   ]
  },
  {
   "cell_type": "code",
   "execution_count": 15,
   "metadata": {},
   "outputs": [],
   "source": [
    "X = tweet_stimulus.iloc[:, 4].values\n",
    "y = tweet_stimulus.iloc[:, 3].values"
   ]
  },
  {
   "cell_type": "code",
   "execution_count": 16,
   "metadata": {},
   "outputs": [],
   "source": [
    "from nltk.corpus import stopwords\n",
    "from sklearn.feature_extraction.text import TfidfVectorizer\n",
    "\n",
    "vectorizer = TfidfVectorizer (max_features=250, min_df=7, max_df=0.8)\n",
    "X = vectorizer.fit_transform(X).toarray()"
   ]
  },
  {
   "cell_type": "code",
   "execution_count": 17,
   "metadata": {},
   "outputs": [],
   "source": [
    "from sklearn.model_selection import train_test_split\n",
    "X_train, X_test, y_train, y_test = train_test_split(X, y, test_size=0.1, random_state=0)"
   ]
  },
  {
   "cell_type": "code",
   "execution_count": 18,
   "metadata": {},
   "outputs": [
    {
     "data": {
      "text/plain": [
       "((4690, 250), (4690,), (4221, 250), (4221,), (469, 250), (469,))"
      ]
     },
     "execution_count": 18,
     "metadata": {},
     "output_type": "execute_result"
    }
   ],
   "source": [
    "X.shape, y.shape, X_train.shape, y_train.shape, X_test.shape, y_test.shape"
   ]
  },
  {
   "cell_type": "code",
   "execution_count": 19,
   "metadata": {},
   "outputs": [
    {
     "name": "stdout",
     "output_type": "stream",
     "text": [
      "[[252   3   7]\n",
      " [ 38  89   9]\n",
      " [ 42   6  23]]\n",
      "              precision    recall  f1-score   support\n",
      "\n",
      "           0       0.76      0.96      0.85       262\n",
      "           1       0.91      0.65      0.76       136\n",
      "           2       0.59      0.32      0.42        71\n",
      "\n",
      "    accuracy                           0.78       469\n",
      "   macro avg       0.75      0.65      0.68       469\n",
      "weighted avg       0.78      0.78      0.76       469\n",
      "\n",
      "77.61194029850746\n"
     ]
    }
   ],
   "source": [
    "from sklearn.metrics import classification_report, confusion_matrix, accuracy_score\n",
    "from sklearn.ensemble import RandomForestClassifier\n",
    "rfc = RandomForestClassifier(n_estimators=200, random_state=0)\n",
    "rfc.fit(X_train, y_train)\n",
    "y_predRF = rfc.predict(X_test)\n",
    "score_RF = rfc.score(X_test, y_test)\n",
    "print(confusion_matrix(y_test,y_predRF))\n",
    "print(classification_report(y_test,y_predRF))\n",
    "print(accuracy_score(y_test, y_predRF) * 100)"
   ]
  },
  {
   "cell_type": "code",
   "execution_count": 20,
   "metadata": {},
   "outputs": [
    {
     "name": "stdout",
     "output_type": "stream",
     "text": [
      "[[262   0   0]\n",
      " [ 49  83   4]\n",
      " [ 45   5  21]]\n",
      "              precision    recall  f1-score   support\n",
      "\n",
      "           0       0.74      1.00      0.85       262\n",
      "           1       0.94      0.61      0.74       136\n",
      "           2       0.84      0.30      0.44        71\n",
      "\n",
      "    accuracy                           0.78       469\n",
      "   macro avg       0.84      0.64      0.68       469\n",
      "weighted avg       0.81      0.78      0.75       469\n",
      "\n",
      "78.03837953091684\n"
     ]
    }
   ],
   "source": [
    "from sklearn.svm import SVC\n",
    "svclassifier = SVC(kernel='linear')\n",
    "svclassifier.fit(X_train, y_train)\n",
    "y_predSVC = svclassifier.predict(X_test)\n",
    "score_SVC = svclassifier.score(X_test, y_test)\n",
    "print(confusion_matrix(y_test,y_predSVC))\n",
    "print(classification_report(y_test,y_predSVC))\n",
    "print(accuracy_score(y_test, y_predSVC) * 100)"
   ]
  },
  {
   "cell_type": "code",
   "execution_count": 21,
   "metadata": {},
   "outputs": [
    {
     "name": "stdout",
     "output_type": "stream",
     "text": [
      "[[247  14   1]\n",
      " [ 50  83   3]\n",
      " [ 46   4  21]]\n",
      "              precision    recall  f1-score   support\n",
      "\n",
      "           0       0.72      0.94      0.82       262\n",
      "           1       0.82      0.61      0.70       136\n",
      "           2       0.84      0.30      0.44        71\n",
      "\n",
      "    accuracy                           0.75       469\n",
      "   macro avg       0.79      0.62      0.65       469\n",
      "weighted avg       0.77      0.75      0.73       469\n",
      "\n",
      "74.84008528784648\n"
     ]
    }
   ],
   "source": [
    "from sklearn.naive_bayes import MultinomialNB\n",
    "from sklearn.linear_model import LogisticRegression\n",
    "from sklearn.svm import SVC\n",
    "NB_model = MultinomialNB()\n",
    "NB_model.fit(X_train, y_train)\n",
    "y_predNB = NB_model.predict(X_test)\n",
    "score_NB = NB_model.score(X_test, y_test)\n",
    "print(confusion_matrix(y_test,y_predNB))\n",
    "print(classification_report(y_test,y_predNB))\n",
    "print(accuracy_score(y_test, y_predNB) * 100)"
   ]
  },
  {
   "cell_type": "code",
   "execution_count": 22,
   "metadata": {},
   "outputs": [
    {
     "name": "stdout",
     "output_type": "stream",
     "text": [
      "[[257   2   3]\n",
      " [ 46  87   3]\n",
      " [ 44   6  21]]\n",
      "              precision    recall  f1-score   support\n",
      "\n",
      "           0       0.74      0.98      0.84       262\n",
      "           1       0.92      0.64      0.75       136\n",
      "           2       0.78      0.30      0.43        71\n",
      "\n",
      "    accuracy                           0.78       469\n",
      "   macro avg       0.81      0.64      0.68       469\n",
      "weighted avg       0.80      0.78      0.75       469\n",
      "\n",
      "77.82515991471215\n"
     ]
    }
   ],
   "source": [
    "LR_model = LogisticRegression(solver='lbfgs')\n",
    "LR_model.fit(X_train, y_train)\n",
    "y_predLR = LR_model.predict(X_test)\n",
    "score_LR = LR_model.score(X_test, y_test)\n",
    "print(confusion_matrix(y_test,y_predLR))\n",
    "print(classification_report(y_test,y_predLR))\n",
    "print(accuracy_score(y_test, y_predLR) * 100)"
   ]
  },
  {
   "cell_type": "code",
   "execution_count": 23,
   "metadata": {},
   "outputs": [
    {
     "name": "stdout",
     "output_type": "stream",
     "text": [
      "[[244  12   6]\n",
      " [ 79  53   4]\n",
      " [ 61   1   9]]\n",
      "              precision    recall  f1-score   support\n",
      "\n",
      "           0       0.64      0.93      0.76       262\n",
      "           1       0.80      0.39      0.52       136\n",
      "           2       0.47      0.13      0.20        71\n",
      "\n",
      "    accuracy                           0.65       469\n",
      "   macro avg       0.64      0.48      0.49       469\n",
      "weighted avg       0.66      0.65      0.60       469\n",
      "\n",
      "65.2452025586354\n"
     ]
    }
   ],
   "source": [
    "from sklearn.neighbors import KNeighborsClassifier #K nearest neighbors\n",
    "model_KNN = KNeighborsClassifier(n_neighbors=5)\n",
    "model_KNN.fit(X_train, y_train)\n",
    "y_predKNN = model_KNN.predict(X_test)\n",
    "score_KNN = model_KNN.score(X_test,y_test)\n",
    "\n",
    "print(confusion_matrix(y_test,y_predKNN))\n",
    "print(classification_report(y_test,y_predKNN))\n",
    "print(accuracy_score(y_test, y_predKNN) * 100)"
   ]
  },
  {
   "cell_type": "code",
   "execution_count": 24,
   "metadata": {},
   "outputs": [
    {
     "name": "stdout",
     "output_type": "stream",
     "text": [
      "+------------------------+----------+\n",
      "|     CLASSIFICATION     | ACCURACY |\n",
      "+========================+==========+\n",
      "| LogisticRegression     | 77.825   |\n",
      "+------------------------+----------+\n",
      "| RandomForest           | 77.612   |\n",
      "+------------------------+----------+\n",
      "| K-NearestNeighbors     | 65.245   |\n",
      "+------------------------+----------+\n",
      "| MultinominalNaiveBayes | 74.840   |\n",
      "+------------------------+----------+\n",
      "| SupportVector          | 78.038   |\n",
      "+------------------------+----------+\n"
     ]
    }
   ],
   "source": [
    "from texttable import Texttable\n",
    "# texttable takes the first reocrd in the list as the column names\n",
    "# of the table\n",
    "l = [[\"CLASSIFICATION\", \"ACCURACY\"],['LogisticRegression', (score_LR * 100)],['RandomForest', (score_RF * 100)],['K-NearestNeighbors',(score_KNN * 100)],['MultinominalNaiveBayes',(score_NB * 100)], ['SupportVector', (score_SVC * 100)]]\n",
    "table = Texttable()\n",
    "table.add_rows(l)\n",
    "print(table.draw())"
   ]
  },
  {
   "cell_type": "code",
   "execution_count": null,
   "metadata": {},
   "outputs": [],
   "source": []
  }
 ],
 "metadata": {
  "kernelspec": {
   "display_name": "Python 3",
   "language": "python",
   "name": "python3"
  },
  "language_info": {
   "codemirror_mode": {
    "name": "ipython",
    "version": 3
   },
   "file_extension": ".py",
   "mimetype": "text/x-python",
   "name": "python",
   "nbconvert_exporter": "python",
   "pygments_lexer": "ipython3",
   "version": "3.7.6"
  }
 },
 "nbformat": 4,
 "nbformat_minor": 4
}
