{
 "cells": [
  {
   "cell_type": "code",
   "execution_count": 1,
   "metadata": {},
   "outputs": [],
   "source": [
    "import pandas as pd\n",
    "tweet_vaccine = pd.read_csv((\"/Users/bahtinur/Desktop/Tweet/vaccine.csv\"), index_col=0)"
   ]
  },
  {
   "cell_type": "code",
   "execution_count": 2,
   "metadata": {},
   "outputs": [
    {
     "data": {
      "text/html": [
       "<div>\n",
       "<style scoped>\n",
       "    .dataframe tbody tr th:only-of-type {\n",
       "        vertical-align: middle;\n",
       "    }\n",
       "\n",
       "    .dataframe tbody tr th {\n",
       "        vertical-align: top;\n",
       "    }\n",
       "\n",
       "    .dataframe thead th {\n",
       "        text-align: right;\n",
       "    }\n",
       "</style>\n",
       "<table border=\"1\" class=\"dataframe\">\n",
       "  <thead>\n",
       "    <tr style=\"text-align: right;\">\n",
       "      <th></th>\n",
       "      <th>id</th>\n",
       "      <th>created_at</th>\n",
       "      <th>full_text</th>\n",
       "      <th>Sentiment</th>\n",
       "      <th>SentimentClass</th>\n",
       "    </tr>\n",
       "  </thead>\n",
       "  <tbody>\n",
       "    <tr>\n",
       "      <th>0</th>\n",
       "      <td>1330833397120454656</td>\n",
       "      <td>2020-11-23 11:19:42</td>\n",
       "      <td>oxford uni newsletter confirms the key princip...</td>\n",
       "      <td>-0.200000</td>\n",
       "      <td>Negative</td>\n",
       "    </tr>\n",
       "    <tr>\n",
       "      <th>1</th>\n",
       "      <td>1330833393026621441</td>\n",
       "      <td>2020-11-23 11:19:41</td>\n",
       "      <td>kaarnama   vinayak jain bcoz vaccine isafe by...</td>\n",
       "      <td>0.000000</td>\n",
       "      <td>Neutral</td>\n",
       "    </tr>\n",
       "    <tr>\n",
       "      <th>2</th>\n",
       "      <td>1330833388987699201</td>\n",
       "      <td>2020-11-23 11:19:40</td>\n",
       "      <td>kieranmurphy   lilyallen yes it is. this is t...</td>\n",
       "      <td>0.136364</td>\n",
       "      <td>Positive</td>\n",
       "    </tr>\n",
       "    <tr>\n",
       "      <th>3</th>\n",
       "      <td>1330833387469332485</td>\n",
       "      <td>2020-11-23 11:19:39</td>\n",
       "      <td>lynnehall  uniofoxford   is enough to protect...</td>\n",
       "      <td>0.100000</td>\n",
       "      <td>Positive</td>\n",
       "    </tr>\n",
       "    <tr>\n",
       "      <th>4</th>\n",
       "      <td>1330833386185908225</td>\n",
       "      <td>2020-11-23 11:19:39</td>\n",
       "      <td>cjhancock ah, vaccine peak. one standout sess...</td>\n",
       "      <td>0.000000</td>\n",
       "      <td>Neutral</td>\n",
       "    </tr>\n",
       "  </tbody>\n",
       "</table>\n",
       "</div>"
      ],
      "text/plain": [
       "                    id           created_at  \\\n",
       "0  1330833397120454656  2020-11-23 11:19:42   \n",
       "1  1330833393026621441  2020-11-23 11:19:41   \n",
       "2  1330833388987699201  2020-11-23 11:19:40   \n",
       "3  1330833387469332485  2020-11-23 11:19:39   \n",
       "4  1330833386185908225  2020-11-23 11:19:39   \n",
       "\n",
       "                                           full_text  Sentiment SentimentClass  \n",
       "0  oxford uni newsletter confirms the key princip...  -0.200000       Negative  \n",
       "1   kaarnama   vinayak jain bcoz vaccine isafe by...   0.000000        Neutral  \n",
       "2   kieranmurphy   lilyallen yes it is. this is t...   0.136364       Positive  \n",
       "3   lynnehall  uniofoxford   is enough to protect...   0.100000       Positive  \n",
       "4   cjhancock ah, vaccine peak. one standout sess...   0.000000        Neutral  "
      ]
     },
     "execution_count": 2,
     "metadata": {},
     "output_type": "execute_result"
    }
   ],
   "source": [
    "tweet_vaccine.head()"
   ]
  },
  {
   "cell_type": "code",
   "execution_count": 3,
   "metadata": {},
   "outputs": [
    {
     "name": "stdout",
     "output_type": "stream",
     "text": [
      "0    oxford uni newsletter confirms the key princip...\n",
      "1     kaarnama   vinayak jain bcoz vaccine isafe by...\n",
      "2     kieranmurphy   lilyallen yes it is. this is t...\n",
      "3     lynnehall  uniofoxford   is enough to protect...\n",
      "4     cjhancock ah, vaccine peak. one standout sess...\n",
      "Name: full_text, dtype: object\n",
      "-------Remove Stop Word------\n",
      "0    oxford uni newsletter confirms key principle a...\n",
      "1    kaarnama vinayak jain bcoz vaccine isafe kafir...\n",
      "2    kieranmurphy lilyallen yes is. oxford/astrazen...\n",
      "3    lynnehall uniofoxford enough protect whole cou...\n",
      "4    cjhancock ah, vaccine peak. one standout sessi...\n",
      "Name: StopWords, dtype: object\n"
     ]
    }
   ],
   "source": [
    "from nltk.corpus import stopwords\n",
    "from nltk.tokenize import word_tokenize\n",
    "stop = stopwords.words(\"english\")\n",
    "\n",
    "print((tweet_vaccine['full_text']).head())\n",
    "print('-------Remove Stop Word------')\n",
    "tweet_vaccine['StopWords'] = tweet_vaccine['full_text'].astype(str).apply(lambda x: ' '.join([word for word in x.split() if word not in (stop)]))\n",
    "print((tweet_vaccine['StopWords']).head())"
   ]
  },
  {
   "cell_type": "code",
   "execution_count": 4,
   "metadata": {},
   "outputs": [
    {
     "name": "stdout",
     "output_type": "stream",
     "text": [
      "0    oxford uni newsletter confirms key principle a...\n",
      "1    kaarnama vinayak jain bcoz vaccine isafe kafir...\n",
      "2    kieranmurphy lilyallen yes is. oxford/astrazen...\n",
      "3    lynnehall uniofoxford enough protect whole cou...\n",
      "4    cjhancock ah, vaccine peak. one standout sessi...\n",
      "Name: StopWords, dtype: object\n",
      "-------Stemming------\n",
      "0    oxford uni newslett confirm key principl acces...\n",
      "1    kaarnama vinayak jain bcoz vaccin isaf kafir k...\n",
      "2    kieranmurphi lilyallen ye is. oxford/astrazene...\n",
      "3    lynnehal uniofoxford enough protect whole coun...\n",
      "4    cjhancock ah, vaccin peak. one standout sessio...\n",
      "Name: Stemming, dtype: object\n"
     ]
    }
   ],
   "source": [
    "from nltk.stem.porter import PorterStemmer\n",
    "ps = PorterStemmer()\n",
    "print((tweet_vaccine['StopWords']).head())\n",
    "print('-------Stemming------')\n",
    "tweet_vaccine['Stemming'] = tweet_vaccine['StopWords'].astype(str).apply(lambda x: ' '.join([ps.stem(word) for word in x.split()]))\n",
    "print((tweet_vaccine['Stemming']).head())"
   ]
  },
  {
   "cell_type": "code",
   "execution_count": 5,
   "metadata": {},
   "outputs": [
    {
     "name": "stdout",
     "output_type": "stream",
     "text": [
      "0    oxford uni newslett confirm key principl acces...\n",
      "1    kaarnama vinayak jain bcoz vaccin isaf kafir k...\n",
      "2    kieranmurphi lilyallen ye is. oxford/astrazene...\n",
      "3    lynnehal uniofoxford enough protect whole coun...\n",
      "4    cjhancock ah, vaccin peak. one standout sessio...\n",
      "Name: Stemming, dtype: object\n",
      "-------Lemmazation------\n",
      "0    oxford uni newslett confirm key principl acces...\n",
      "1    kaarnama vinayak jain bcoz vaccin isaf kafir k...\n",
      "2    kieranmurphi lilyallen ye is. oxford/astrazene...\n",
      "3    lynnehal uniofoxford enough protect whole coun...\n",
      "4    cjhancock ah, vaccin peak. one standout sessio...\n",
      "Name: Lemmatizing, dtype: object\n"
     ]
    }
   ],
   "source": [
    "from nltk.stem import WordNetLemmatizer\n",
    "lemmatizer = WordNetLemmatizer()\n",
    "print((tweet_vaccine['Stemming']).head())\n",
    "print('-------Lemmazation------')\n",
    "tweet_vaccine['Lemmatizing'] = tweet_vaccine['Stemming'].astype(str).apply(lambda x: ' '.join([lemmatizer.lemmatize(word) for word in x.split()]))\n",
    "print((tweet_vaccine['Lemmatizing']).head())"
   ]
  },
  {
   "cell_type": "code",
   "execution_count": 6,
   "metadata": {},
   "outputs": [],
   "source": [
    "from textblob import TextBlob\n",
    "text = tweet_vaccine[\"Lemmatizing\"]\n",
    "\n",
    "for i in range(0,len(text)):\n",
    "    textB = TextBlob(text[i])\n",
    "    sentiment = textB.sentiment.polarity\n",
    "    tweet_vaccine.at[i, 'Sentiment'] = sentiment\n",
    "    if sentiment <0.00:\n",
    "        SentimentClass = 'Negative'\n",
    "        tweet_vaccine.at[i, 'SentimentClass'] = SentimentClass \n",
    "    elif sentiment >0.00:\n",
    "        SentimentClass = 'Positive'\n",
    "        tweet_vaccine.at[i, 'SentimentClass'] = SentimentClass \n",
    "    else:\n",
    "        SentimentClass = 'Neutral'\n",
    "        tweet_vaccine.at[i, 'SentimentClass'] = SentimentClass "
   ]
  },
  {
   "cell_type": "code",
   "execution_count": 7,
   "metadata": {},
   "outputs": [],
   "source": [
    "tweet = tweet_vaccine.to_csv(\"/Users/bahtinur/Desktop/Tweet/vaccine.csv\")"
   ]
  },
  {
   "cell_type": "code",
   "execution_count": 8,
   "metadata": {},
   "outputs": [],
   "source": [
    "import pandas as pd\n",
    "\n",
    "tweet_vaccine = pd.read_csv((\"/Users/bahtinur/Desktop/Tweet/vaccine.csv\"), index_col=0)"
   ]
  },
  {
   "cell_type": "code",
   "execution_count": 9,
   "metadata": {},
   "outputs": [
    {
     "data": {
      "text/html": [
       "<div>\n",
       "<style scoped>\n",
       "    .dataframe tbody tr th:only-of-type {\n",
       "        vertical-align: middle;\n",
       "    }\n",
       "\n",
       "    .dataframe tbody tr th {\n",
       "        vertical-align: top;\n",
       "    }\n",
       "\n",
       "    .dataframe thead th {\n",
       "        text-align: right;\n",
       "    }\n",
       "</style>\n",
       "<table border=\"1\" class=\"dataframe\">\n",
       "  <thead>\n",
       "    <tr style=\"text-align: right;\">\n",
       "      <th></th>\n",
       "      <th>id</th>\n",
       "      <th>created_at</th>\n",
       "      <th>Sentiment</th>\n",
       "      <th>SentimentClass</th>\n",
       "      <th>Lemmatizing</th>\n",
       "    </tr>\n",
       "  </thead>\n",
       "  <tbody>\n",
       "    <tr>\n",
       "      <th>0</th>\n",
       "      <td>1330833397120454656</td>\n",
       "      <td>2020-11-23 11:19:42</td>\n",
       "      <td>-0.200000</td>\n",
       "      <td>Negative</td>\n",
       "      <td>oxford uni newslett confirm key principl acces...</td>\n",
       "    </tr>\n",
       "    <tr>\n",
       "      <th>1</th>\n",
       "      <td>1330833393026621441</td>\n",
       "      <td>2020-11-23 11:19:41</td>\n",
       "      <td>0.000000</td>\n",
       "      <td>Neutral</td>\n",
       "      <td>kaarnama vinayak jain bcoz vaccin isaf kafir k...</td>\n",
       "    </tr>\n",
       "    <tr>\n",
       "      <th>2</th>\n",
       "      <td>1330833388987699201</td>\n",
       "      <td>2020-11-23 11:19:40</td>\n",
       "      <td>0.136364</td>\n",
       "      <td>Positive</td>\n",
       "      <td>kieranmurphi lilyallen ye is. oxford/astrazene...</td>\n",
       "    </tr>\n",
       "    <tr>\n",
       "      <th>3</th>\n",
       "      <td>1330833387469332485</td>\n",
       "      <td>2020-11-23 11:19:39</td>\n",
       "      <td>0.100000</td>\n",
       "      <td>Positive</td>\n",
       "      <td>lynnehal uniofoxford enough protect whole coun...</td>\n",
       "    </tr>\n",
       "    <tr>\n",
       "      <th>4</th>\n",
       "      <td>1330833386185908225</td>\n",
       "      <td>2020-11-23 11:19:39</td>\n",
       "      <td>0.000000</td>\n",
       "      <td>Neutral</td>\n",
       "      <td>cjhancock ah, vaccin peak. one standout sessio...</td>\n",
       "    </tr>\n",
       "  </tbody>\n",
       "</table>\n",
       "</div>"
      ],
      "text/plain": [
       "                    id           created_at  Sentiment SentimentClass  \\\n",
       "0  1330833397120454656  2020-11-23 11:19:42  -0.200000       Negative   \n",
       "1  1330833393026621441  2020-11-23 11:19:41   0.000000        Neutral   \n",
       "2  1330833388987699201  2020-11-23 11:19:40   0.136364       Positive   \n",
       "3  1330833387469332485  2020-11-23 11:19:39   0.100000       Positive   \n",
       "4  1330833386185908225  2020-11-23 11:19:39   0.000000        Neutral   \n",
       "\n",
       "                                         Lemmatizing  \n",
       "0  oxford uni newslett confirm key principl acces...  \n",
       "1  kaarnama vinayak jain bcoz vaccin isaf kafir k...  \n",
       "2  kieranmurphi lilyallen ye is. oxford/astrazene...  \n",
       "3  lynnehal uniofoxford enough protect whole coun...  \n",
       "4  cjhancock ah, vaccin peak. one standout sessio...  "
      ]
     },
     "execution_count": 9,
     "metadata": {},
     "output_type": "execute_result"
    }
   ],
   "source": [
    "tweet_vaccine.drop(['StopWords', 'Stemming', 'full_text'], axis=1, inplace = True)\n",
    "tweet_vaccine.head()"
   ]
  },
  {
   "cell_type": "code",
   "execution_count": 10,
   "metadata": {},
   "outputs": [
    {
     "data": {
      "text/html": [
       "<div>\n",
       "<style scoped>\n",
       "    .dataframe tbody tr th:only-of-type {\n",
       "        vertical-align: middle;\n",
       "    }\n",
       "\n",
       "    .dataframe tbody tr th {\n",
       "        vertical-align: top;\n",
       "    }\n",
       "\n",
       "    .dataframe thead th {\n",
       "        text-align: right;\n",
       "    }\n",
       "</style>\n",
       "<table border=\"1\" class=\"dataframe\">\n",
       "  <thead>\n",
       "    <tr style=\"text-align: right;\">\n",
       "      <th></th>\n",
       "      <th>id</th>\n",
       "      <th>created_at</th>\n",
       "      <th>Sentiment</th>\n",
       "      <th>SentimentClass</th>\n",
       "      <th>text</th>\n",
       "    </tr>\n",
       "  </thead>\n",
       "  <tbody>\n",
       "    <tr>\n",
       "      <th>0</th>\n",
       "      <td>1330833397120454656</td>\n",
       "      <td>2020-11-23 11:19:42</td>\n",
       "      <td>-0.200000</td>\n",
       "      <td>Negative</td>\n",
       "      <td>oxford uni newslett confirm key principl acces...</td>\n",
       "    </tr>\n",
       "    <tr>\n",
       "      <th>1</th>\n",
       "      <td>1330833393026621441</td>\n",
       "      <td>2020-11-23 11:19:41</td>\n",
       "      <td>0.000000</td>\n",
       "      <td>Neutral</td>\n",
       "      <td>kaarnama vinayak jain bcoz vaccin isaf kafir k...</td>\n",
       "    </tr>\n",
       "    <tr>\n",
       "      <th>2</th>\n",
       "      <td>1330833388987699201</td>\n",
       "      <td>2020-11-23 11:19:40</td>\n",
       "      <td>0.136364</td>\n",
       "      <td>Positive</td>\n",
       "      <td>kieranmurphi lilyallen ye is. oxford/astrazene...</td>\n",
       "    </tr>\n",
       "    <tr>\n",
       "      <th>3</th>\n",
       "      <td>1330833387469332485</td>\n",
       "      <td>2020-11-23 11:19:39</td>\n",
       "      <td>0.100000</td>\n",
       "      <td>Positive</td>\n",
       "      <td>lynnehal uniofoxford enough protect whole coun...</td>\n",
       "    </tr>\n",
       "    <tr>\n",
       "      <th>4</th>\n",
       "      <td>1330833386185908225</td>\n",
       "      <td>2020-11-23 11:19:39</td>\n",
       "      <td>0.000000</td>\n",
       "      <td>Neutral</td>\n",
       "      <td>cjhancock ah, vaccin peak. one standout sessio...</td>\n",
       "    </tr>\n",
       "  </tbody>\n",
       "</table>\n",
       "</div>"
      ],
      "text/plain": [
       "                    id           created_at  Sentiment SentimentClass  \\\n",
       "0  1330833397120454656  2020-11-23 11:19:42  -0.200000       Negative   \n",
       "1  1330833393026621441  2020-11-23 11:19:41   0.000000        Neutral   \n",
       "2  1330833388987699201  2020-11-23 11:19:40   0.136364       Positive   \n",
       "3  1330833387469332485  2020-11-23 11:19:39   0.100000       Positive   \n",
       "4  1330833386185908225  2020-11-23 11:19:39   0.000000        Neutral   \n",
       "\n",
       "                                                text  \n",
       "0  oxford uni newslett confirm key principl acces...  \n",
       "1  kaarnama vinayak jain bcoz vaccin isaf kafir k...  \n",
       "2  kieranmurphi lilyallen ye is. oxford/astrazene...  \n",
       "3  lynnehal uniofoxford enough protect whole coun...  \n",
       "4  cjhancock ah, vaccin peak. one standout sessio...  "
      ]
     },
     "execution_count": 10,
     "metadata": {},
     "output_type": "execute_result"
    }
   ],
   "source": [
    "tweet_vaccine.rename(columns={'Lemmatizing':'text'}, inplace=True)\n",
    "tweet_vaccine.head()"
   ]
  },
  {
   "cell_type": "code",
   "execution_count": 11,
   "metadata": {},
   "outputs": [],
   "source": [
    "sent = {'Positive':'1','Negative':'2','Neutral':'0'}\n",
    "tweet_vaccine['SentimentClass'] = tweet_vaccine['SentimentClass'].map(sent)"
   ]
  },
  {
   "cell_type": "code",
   "execution_count": 12,
   "metadata": {},
   "outputs": [
    {
     "name": "stdout",
     "output_type": "stream",
     "text": [
      "<class 'pandas.core.frame.DataFrame'>\n",
      "Int64Index: 4670 entries, 0 to 4669\n",
      "Data columns (total 5 columns):\n",
      " #   Column          Non-Null Count  Dtype  \n",
      "---  ------          --------------  -----  \n",
      " 0   id              4670 non-null   int64  \n",
      " 1   created_at      4670 non-null   object \n",
      " 2   Sentiment       4670 non-null   float64\n",
      " 3   SentimentClass  4670 non-null   object \n",
      " 4   text            4670 non-null   object \n",
      "dtypes: float64(1), int64(1), object(3)\n",
      "memory usage: 218.9+ KB\n"
     ]
    }
   ],
   "source": [
    "tweet_vaccine.info()"
   ]
  },
  {
   "cell_type": "code",
   "execution_count": 37,
   "metadata": {},
   "outputs": [
    {
     "data": {
      "text/plain": [
       "Neutral     2634\n",
       "Positive    1467\n",
       "Negative     569\n",
       "Name: SentimentClass, dtype: int64"
      ]
     },
     "execution_count": 37,
     "metadata": {},
     "output_type": "execute_result"
    }
   ],
   "source": [
    "sent = {'1':'Positive','2':'Negative','0':'Neutral'}\n",
    "tweet_vaccine['SentimentClass'] = tweet_vaccine['SentimentClass'].map(sent)\n",
    "tweet_vaccine['SentimentClass'].value_counts()"
   ]
  },
  {
   "cell_type": "code",
   "execution_count": 38,
   "metadata": {},
   "outputs": [
    {
     "data": {
      "text/plain": [
       "<AxesSubplot:>"
      ]
     },
     "execution_count": 38,
     "metadata": {},
     "output_type": "execute_result"
    },
    {
     "data": {
      "image/png": "[encoded data removed]",
      "text/plain": [
       "<Figure size 432x288 with 1 Axes>"
      ]
     },
     "metadata": {
      "needs_background": "light"
     },
     "output_type": "display_data"
    }
   ],
   "source": [
    "import matplotlib.pyplot as plt\n",
    "tweet_vaccine['SentimentClass'].value_counts().plot(kind='bar', width=0.5)"
   ]
  },
  {
   "cell_type": "code",
   "execution_count": 14,
   "metadata": {},
   "outputs": [],
   "source": [
    "X = tweet_vaccine.iloc[:, 4].values\n",
    "y = tweet_vaccine.iloc[:, 3].values"
   ]
  },
  {
   "cell_type": "code",
   "execution_count": 15,
   "metadata": {},
   "outputs": [],
   "source": [
    "from nltk.corpus import stopwords\n",
    "from sklearn.feature_extraction.text import TfidfVectorizer\n",
    "\n",
    "vectorizer = TfidfVectorizer (max_features=250, min_df=7, max_df=0.8)\n",
    "X = vectorizer.fit_transform(X).toarray()"
   ]
  },
  {
   "cell_type": "code",
   "execution_count": 16,
   "metadata": {},
   "outputs": [],
   "source": [
    "from sklearn.model_selection import train_test_split\n",
    "X_train, X_test, y_train, y_test = train_test_split(X, y, test_size=0.1, random_state=0)"
   ]
  },
  {
   "cell_type": "code",
   "execution_count": 17,
   "metadata": {},
   "outputs": [
    {
     "data": {
      "text/plain": [
       "((4670, 250), (4670,), (4203, 250), (4203,), (467, 250), (467,))"
      ]
     },
     "execution_count": 17,
     "metadata": {},
     "output_type": "execute_result"
    }
   ],
   "source": [
    "X.shape, y.shape, X_train.shape, y_train.shape, X_test.shape, y_test.shape"
   ]
  },
  {
   "cell_type": "code",
   "execution_count": 33,
   "metadata": {},
   "outputs": [
    {
     "name": "stdout",
     "output_type": "stream",
     "text": [
      "[[246   3   2]\n",
      " [ 47 115   2]\n",
      " [ 30   6  16]]\n",
      "              precision    recall  f1-score   support\n",
      "\n",
      "           0       0.76      0.98      0.86       251\n",
      "           1       0.93      0.70      0.80       164\n",
      "           2       0.80      0.31      0.44        52\n",
      "\n",
      "    accuracy                           0.81       467\n",
      "   macro avg       0.83      0.66      0.70       467\n",
      "weighted avg       0.82      0.81      0.79       467\n",
      "\n",
      "80.72805139186295\n"
     ]
    }
   ],
   "source": [
    "from sklearn.metrics import classification_report, confusion_matrix, accuracy_score\n",
    "from sklearn.ensemble import RandomForestClassifier\n",
    "rfc = RandomForestClassifier(n_estimators=200, random_state=0)\n",
    "rfc.fit(X_train, y_train)\n",
    "y_predRF = rfc.predict(X_test)\n",
    "score_RF = rfc.score(X_test, y_test)\n",
    "print(confusion_matrix(y_test,y_predRF))\n",
    "print(classification_report(y_test,y_predRF))\n",
    "print(accuracy_score(y_test, y_predRF) * 100)"
   ]
  },
  {
   "cell_type": "code",
   "execution_count": 27,
   "metadata": {},
   "outputs": [
    {
     "name": "stdout",
     "output_type": "stream",
     "text": [
      "[[250   1   0]\n",
      " [ 52 110   2]\n",
      " [ 31   5  16]]\n",
      "              precision    recall  f1-score   support\n",
      "\n",
      "           0       0.75      1.00      0.86       251\n",
      "           1       0.95      0.67      0.79       164\n",
      "           2       0.89      0.31      0.46        52\n",
      "\n",
      "    accuracy                           0.81       467\n",
      "   macro avg       0.86      0.66      0.70       467\n",
      "weighted avg       0.84      0.81      0.79       467\n",
      "\n",
      "80.51391862955032\n"
     ]
    }
   ],
   "source": [
    "from sklearn.svm import SVC\n",
    "svclassifier = SVC(kernel='linear')\n",
    "svclassifier.fit(X_train, y_train)\n",
    "y_predSVC = svclassifier.predict(X_test)\n",
    "score_SVC = svclassifier.score(X_test, y_test)\n",
    "print(confusion_matrix(y_test,y_predSVC))\n",
    "print(classification_report(y_test,y_predSVC))\n",
    "print(accuracy_score(y_test, y_predSVC) * 100)"
   ]
  },
  {
   "cell_type": "code",
   "execution_count": 28,
   "metadata": {},
   "outputs": [
    {
     "name": "stdout",
     "output_type": "stream",
     "text": [
      "[[247   4   0]\n",
      " [ 47 115   2]\n",
      " [ 33   7  12]]\n",
      "              precision    recall  f1-score   support\n",
      "\n",
      "           0       0.76      0.98      0.85       251\n",
      "           1       0.91      0.70      0.79       164\n",
      "           2       0.86      0.23      0.36        52\n",
      "\n",
      "    accuracy                           0.80       467\n",
      "   macro avg       0.84      0.64      0.67       467\n",
      "weighted avg       0.82      0.80      0.78       467\n",
      "\n",
      "80.08565310492506\n"
     ]
    }
   ],
   "source": [
    "from sklearn.naive_bayes import MultinomialNB\n",
    "from sklearn.linear_model import LogisticRegression\n",
    "from sklearn.svm import SVC\n",
    "NB_model = MultinomialNB()\n",
    "NB_model.fit(X_train, y_train)\n",
    "y_predNB = NB_model.predict(X_test)\n",
    "score_NB = NB_model.score(X_test, y_test)\n",
    "print(confusion_matrix(y_test,y_predNB))\n",
    "print(classification_report(y_test,y_predNB))\n",
    "print(accuracy_score(y_test, y_predNB) * 100)"
   ]
  },
  {
   "cell_type": "code",
   "execution_count": 29,
   "metadata": {},
   "outputs": [
    {
     "name": "stdout",
     "output_type": "stream",
     "text": [
      "[[247   4   0]\n",
      " [ 46 117   1]\n",
      " [ 33   5  14]]\n",
      "              precision    recall  f1-score   support\n",
      "\n",
      "           0       0.76      0.98      0.86       251\n",
      "           1       0.93      0.71      0.81       164\n",
      "           2       0.93      0.27      0.42        52\n",
      "\n",
      "    accuracy                           0.81       467\n",
      "   macro avg       0.87      0.66      0.69       467\n",
      "weighted avg       0.84      0.81      0.79       467\n",
      "\n",
      "80.94218415417559\n"
     ]
    }
   ],
   "source": [
    "LR_model = LogisticRegression(solver='lbfgs')\n",
    "LR_model.fit(X_train, y_train)\n",
    "y_predLR = LR_model.predict(X_test)\n",
    "score_LR = LR_model.score(X_test, y_test)\n",
    "print(confusion_matrix(y_test,y_predLR))\n",
    "print(classification_report(y_test,y_predLR))\n",
    "print(accuracy_score(y_test, y_predLR) * 100)"
   ]
  },
  {
   "cell_type": "code",
   "execution_count": 30,
   "metadata": {},
   "outputs": [
    {
     "name": "stdout",
     "output_type": "stream",
     "text": [
      "[[235  13   3]\n",
      " [111  51   2]\n",
      " [ 41   1  10]]\n",
      "              precision    recall  f1-score   support\n",
      "\n",
      "           0       0.61      0.94      0.74       251\n",
      "           1       0.78      0.31      0.45       164\n",
      "           2       0.67      0.19      0.30        52\n",
      "\n",
      "    accuracy                           0.63       467\n",
      "   macro avg       0.69      0.48      0.49       467\n",
      "weighted avg       0.68      0.63      0.59       467\n",
      "\n",
      "63.38329764453962\n"
     ]
    }
   ],
   "source": [
    "from sklearn.neighbors import KNeighborsClassifier #K nearest neighbors\n",
    "model_KNN = KNeighborsClassifier(n_neighbors=5)\n",
    "model_KNN.fit(X_train, y_train)\n",
    "y_predKNN = model_KNN.predict(X_test)\n",
    "score_KNN = model_KNN.score(X_test,y_test)\n",
    "\n",
    "print(confusion_matrix(y_test,y_predKNN))\n",
    "print(classification_report(y_test,y_predKNN))\n",
    "print(accuracy_score(y_test, y_predKNN) * 100)"
   ]
  },
  {
   "cell_type": "code",
   "execution_count": 36,
   "metadata": {},
   "outputs": [
    {
     "name": "stdout",
     "output_type": "stream",
     "text": [
      "+------------------------+----------+\n",
      "|     CLASSIFICATION     | ACCURACY |\n",
      "+========================+==========+\n",
      "| LogisticRegression     | 80.942   |\n",
      "+------------------------+----------+\n",
      "| RandomForest           | 80.728   |\n",
      "+------------------------+----------+\n",
      "| K-NearestNeighbors     | 63.383   |\n",
      "+------------------------+----------+\n",
      "| MultinominalNaiveBayes | 80.086   |\n",
      "+------------------------+----------+\n",
      "| SupportVector          | 80.514   |\n",
      "+------------------------+----------+\n"
     ]
    }
   ],
   "source": [
    "from texttable import Texttable\n",
    "# texttable takes the first reocrd in the list as the column names\n",
    "# of the table\n",
    "l = [[\"CLASSIFICATION\", \"ACCURACY\"],['LogisticRegression', (score_LR * 100)],['RandomForest', (score_RF * 100)],['K-NearestNeighbors',(score_KNN * 100)],['MultinominalNaiveBayes',(score_NB * 100)], ['SupportVector', (score_SVC * 100)]]\n",
    "table = Texttable()\n",
    "table.add_rows(l)\n",
    "print(table.draw())"
   ]
  },
  {
   "cell_type": "code",
   "execution_count": null,
   "metadata": {},
   "outputs": [],
   "source": []
  }
 ],
 "metadata": {
  "kernelspec": {
   "display_name": "Python 3",
   "language": "python",
   "name": "python3"
  },
  "language_info": {
   "codemirror_mode": {
    "name": "ipython",
    "version": 3
   },
   "file_extension": ".py",
   "mimetype": "text/x-python",
   "name": "python",
   "nbconvert_exporter": "python",
   "pygments_lexer": "ipython3",
   "version": "3.7.6"
  }
 },
 "nbformat": 4,
 "nbformat_minor": 4
}
