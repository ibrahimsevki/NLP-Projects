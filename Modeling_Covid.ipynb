{
 "cells": [
  {
   "cell_type": "code",
   "execution_count": 1,
   "metadata": {},
   "outputs": [],
   "source": [
    "import pandas as pd\n",
    "tweet_Covid = pd.read_csv((\"/Users/bahtinur/Desktop/Tweet/Covid.csv\"), index_col=0)"
   ]
  },
  {
   "cell_type": "code",
   "execution_count": 2,
   "metadata": {},
   "outputs": [
    {
     "data": {
      "text/html": [
       "<div>\n",
       "<style scoped>\n",
       "    .dataframe tbody tr th:only-of-type {\n",
       "        vertical-align: middle;\n",
       "    }\n",
       "\n",
       "    .dataframe tbody tr th {\n",
       "        vertical-align: top;\n",
       "    }\n",
       "\n",
       "    .dataframe thead th {\n",
       "        text-align: right;\n",
       "    }\n",
       "</style>\n",
       "<table border=\"1\" class=\"dataframe\">\n",
       "  <thead>\n",
       "    <tr style=\"text-align: right;\">\n",
       "      <th></th>\n",
       "      <th>id</th>\n",
       "      <th>created_at</th>\n",
       "      <th>full_text</th>\n",
       "      <th>Sentiment</th>\n",
       "      <th>SentimentClass</th>\n",
       "    </tr>\n",
       "  </thead>\n",
       "  <tbody>\n",
       "    <tr>\n",
       "      <th>0</th>\n",
       "      <td>1330567120091025412</td>\n",
       "      <td>2020-11-22 17:41:36</td>\n",
       "      <td>hairymarx   keithwmacdonal   maajidnawaz  lbc...</td>\n",
       "      <td>-0.60000</td>\n",
       "      <td>Negative</td>\n",
       "    </tr>\n",
       "    <tr>\n",
       "      <th>1</th>\n",
       "      <td>1330567119264681985</td>\n",
       "      <td>2020-11-22 17:41:36</td>\n",
       "      <td>anti vaxxers think that if they don t get the ...</td>\n",
       "      <td>0.45625</td>\n",
       "      <td>Positive</td>\n",
       "    </tr>\n",
       "    <tr>\n",
       "      <th>2</th>\n",
       "      <td>1330567118765506560</td>\n",
       "      <td>2020-11-22 17:41:36</td>\n",
       "      <td>joncoopertweets i ve said all along if it s d...</td>\n",
       "      <td>0.00000</td>\n",
       "      <td>Neutral</td>\n",
       "    </tr>\n",
       "    <tr>\n",
       "      <th>3</th>\n",
       "      <td>1330567113078169606</td>\n",
       "      <td>2020-11-22 17:41:35</td>\n",
       "      <td>lkgwin  mmpadellan will that trigger drumoft?...</td>\n",
       "      <td>0.50000</td>\n",
       "      <td>Positive</td>\n",
       "    </tr>\n",
       "    <tr>\n",
       "      <th>4</th>\n",
       "      <td>1330567108707676162</td>\n",
       "      <td>2020-11-22 17:41:34</td>\n",
       "      <td>government exploring modalities of emergency a...</td>\n",
       "      <td>0.00000</td>\n",
       "      <td>Neutral</td>\n",
       "    </tr>\n",
       "  </tbody>\n",
       "</table>\n",
       "</div>"
      ],
      "text/plain": [
       "                    id           created_at  \\\n",
       "0  1330567120091025412  2020-11-22 17:41:36   \n",
       "1  1330567119264681985  2020-11-22 17:41:36   \n",
       "2  1330567118765506560  2020-11-22 17:41:36   \n",
       "3  1330567113078169606  2020-11-22 17:41:35   \n",
       "4  1330567108707676162  2020-11-22 17:41:34   \n",
       "\n",
       "                                           full_text  Sentiment SentimentClass  \n",
       "0   hairymarx   keithwmacdonal   maajidnawaz  lbc...   -0.60000       Negative  \n",
       "1  anti vaxxers think that if they don t get the ...    0.45625       Positive  \n",
       "2   joncoopertweets i ve said all along if it s d...    0.00000        Neutral  \n",
       "3   lkgwin  mmpadellan will that trigger drumoft?...    0.50000       Positive  \n",
       "4  government exploring modalities of emergency a...    0.00000        Neutral  "
      ]
     },
     "execution_count": 2,
     "metadata": {},
     "output_type": "execute_result"
    }
   ],
   "source": [
    "tweet_Covid.head()"
   ]
  },
  {
   "cell_type": "code",
   "execution_count": 3,
   "metadata": {},
   "outputs": [
    {
     "name": "stdout",
     "output_type": "stream",
     "text": [
      "0     hairymarx   keithwmacdonal   maajidnawaz  lbc...\n",
      "1    anti vaxxers think that if they don t get the ...\n",
      "2     joncoopertweets i ve said all along if it s d...\n",
      "3     lkgwin  mmpadellan will that trigger drumoft?...\n",
      "4    government exploring modalities of emergency a...\n",
      "Name: full_text, dtype: object\n",
      "-------Remove Stop Word------\n",
      "0    hairymarx keithwmacdonal maajidnawaz lbc bbcne...\n",
      "1    anti vaxxers think get covid vaccine going lin...\n",
      "2    joncoopertweets said along dr. fauci approved ...\n",
      "3    lkgwin mmpadellan trigger drumoft? so, ok matt...\n",
      "4    government exploring modalities emergency auth...\n",
      "Name: StopWords, dtype: object\n"
     ]
    }
   ],
   "source": [
    "from nltk.corpus import stopwords\n",
    "from nltk.tokenize import word_tokenize\n",
    "stop = stopwords.words(\"english\")\n",
    "\n",
    "print((tweet_Covid['full_text']).head())\n",
    "print('-------Remove Stop Word------')\n",
    "tweet_Covid['StopWords'] = tweet_Covid['full_text'].astype(str).apply(lambda x: ' '.join([word for word in x.split() if word not in (stop)]))\n",
    "print((tweet_Covid['StopWords']).head())"
   ]
  },
  {
   "cell_type": "code",
   "execution_count": 4,
   "metadata": {},
   "outputs": [
    {
     "name": "stdout",
     "output_type": "stream",
     "text": [
      "0    hairymarx keithwmacdonal maajidnawaz lbc bbcne...\n",
      "1    anti vaxxers think get covid vaccine going lin...\n",
      "2    joncoopertweets said along dr. fauci approved ...\n",
      "3    lkgwin mmpadellan trigger drumoft? so, ok matt...\n",
      "4    government exploring modalities emergency auth...\n",
      "Name: StopWords, dtype: object\n",
      "-------Stemming------\n",
      "0    hairymarx keithwmacdon maajidnawaz lbc bbcnew ...\n",
      "1    anti vaxxer think get covid vaccin go line sho...\n",
      "2    joncoopertweet said along dr. fauci approv get...\n",
      "3    lkgwin mmpadellan trigger drumoft? so, ok matt...\n",
      "4    govern explor modal emerg authoris covid vacci...\n",
      "Name: Stemming, dtype: object\n"
     ]
    }
   ],
   "source": [
    "from nltk.stem.porter import PorterStemmer\n",
    "ps = PorterStemmer()\n",
    "print((tweet_Covid['StopWords']).head())\n",
    "print('-------Stemming------')\n",
    "tweet_Covid['Stemming'] = tweet_Covid['StopWords'].astype(str).apply(lambda x: ' '.join([ps.stem(word) for word in x.split()]))\n",
    "print((tweet_Covid['Stemming']).head())"
   ]
  },
  {
   "cell_type": "code",
   "execution_count": 5,
   "metadata": {},
   "outputs": [
    {
     "name": "stdout",
     "output_type": "stream",
     "text": [
      "0    hairymarx keithwmacdon maajidnawaz lbc bbcnew ...\n",
      "1    anti vaxxer think get covid vaccin go line sho...\n",
      "2    joncoopertweet said along dr. fauci approv get...\n",
      "3    lkgwin mmpadellan trigger drumoft? so, ok matt...\n",
      "4    govern explor modal emerg authoris covid vacci...\n",
      "Name: Stemming, dtype: object\n",
      "-------Lemmazation------\n",
      "0    hairymarx keithwmacdon maajidnawaz lbc bbcnew ...\n",
      "1    anti vaxxer think get covid vaccin go line sho...\n",
      "2    joncoopertweet said along dr. fauci approv get...\n",
      "3    lkgwin mmpadellan trigger drumoft? so, ok matt...\n",
      "4    govern explor modal emerg authoris covid vacci...\n",
      "Name: Lemmatizing, dtype: object\n"
     ]
    }
   ],
   "source": [
    "from nltk.stem import WordNetLemmatizer\n",
    "lemmatizer = WordNetLemmatizer()\n",
    "print((tweet_Covid['Stemming']).head())\n",
    "print('-------Lemmazation------')\n",
    "tweet_Covid['Lemmatizing'] = tweet_Covid['Stemming'].astype(str).apply(lambda x: ' '.join([lemmatizer.lemmatize(word) for word in x.split()]))\n",
    "print((tweet_Covid['Lemmatizing']).head())"
   ]
  },
  {
   "cell_type": "code",
   "execution_count": 6,
   "metadata": {},
   "outputs": [],
   "source": [
    "from textblob import TextBlob\n",
    "text = tweet_Covid[\"Lemmatizing\"]\n",
    "\n",
    "for i in range(0,len(text)):\n",
    "    textB = TextBlob(text[i])\n",
    "    sentiment = textB.sentiment.polarity\n",
    "    tweet_Covid.at[i, 'Sentiment'] = sentiment\n",
    "    if sentiment <0.00:\n",
    "        SentimentClass = 'Negative'\n",
    "        tweet_Covid.at[i, 'SentimentClass'] = SentimentClass \n",
    "    elif sentiment >0.00:\n",
    "        SentimentClass = 'Positive'\n",
    "        tweet_Covid.at[i, 'SentimentClass'] = SentimentClass \n",
    "    else:\n",
    "        SentimentClass = 'Neutral'\n",
    "        tweet_Covid.at[i, 'SentimentClass'] = SentimentClass "
   ]
  },
  {
   "cell_type": "code",
   "execution_count": 7,
   "metadata": {},
   "outputs": [],
   "source": [
    "tweet = tweet_Covid.to_csv(\"/Users/bahtinur/Desktop/Tweet/Covid.csv\")"
   ]
  },
  {
   "cell_type": "code",
   "execution_count": 8,
   "metadata": {},
   "outputs": [],
   "source": [
    "import pandas as pd\n",
    "\n",
    "tweet_Covid = pd.read_csv((\"/Users/bahtinur/Desktop/Tweet/Covid.csv\"), index_col=0)"
   ]
  },
  {
   "cell_type": "code",
   "execution_count": 9,
   "metadata": {},
   "outputs": [
    {
     "data": {
      "text/html": [
       "<div>\n",
       "<style scoped>\n",
       "    .dataframe tbody tr th:only-of-type {\n",
       "        vertical-align: middle;\n",
       "    }\n",
       "\n",
       "    .dataframe tbody tr th {\n",
       "        vertical-align: top;\n",
       "    }\n",
       "\n",
       "    .dataframe thead th {\n",
       "        text-align: right;\n",
       "    }\n",
       "</style>\n",
       "<table border=\"1\" class=\"dataframe\">\n",
       "  <thead>\n",
       "    <tr style=\"text-align: right;\">\n",
       "      <th></th>\n",
       "      <th>id</th>\n",
       "      <th>created_at</th>\n",
       "      <th>Sentiment</th>\n",
       "      <th>SentimentClass</th>\n",
       "      <th>Lemmatizing</th>\n",
       "    </tr>\n",
       "  </thead>\n",
       "  <tbody>\n",
       "    <tr>\n",
       "      <th>0</th>\n",
       "      <td>1330567120091025412</td>\n",
       "      <td>2020-11-22 17:41:36</td>\n",
       "      <td>-0.8000</td>\n",
       "      <td>Negative</td>\n",
       "      <td>hairymarx keithwmacdon maajidnawaz lbc bbcnew ...</td>\n",
       "    </tr>\n",
       "    <tr>\n",
       "      <th>1</th>\n",
       "      <td>1330567119264681985</td>\n",
       "      <td>2020-11-22 17:41:36</td>\n",
       "      <td>0.6875</td>\n",
       "      <td>Positive</td>\n",
       "      <td>anti vaxxer think get covid vaccin go line sho...</td>\n",
       "    </tr>\n",
       "    <tr>\n",
       "      <th>2</th>\n",
       "      <td>1330567118765506560</td>\n",
       "      <td>2020-11-22 17:41:36</td>\n",
       "      <td>0.0000</td>\n",
       "      <td>Neutral</td>\n",
       "      <td>joncoopertweet said along dr. fauci approv get...</td>\n",
       "    </tr>\n",
       "    <tr>\n",
       "      <th>3</th>\n",
       "      <td>1330567113078169606</td>\n",
       "      <td>2020-11-22 17:41:35</td>\n",
       "      <td>0.5000</td>\n",
       "      <td>Positive</td>\n",
       "      <td>lkgwin mmpadellan trigger drumoft? so, ok matt...</td>\n",
       "    </tr>\n",
       "    <tr>\n",
       "      <th>4</th>\n",
       "      <td>1330567108707676162</td>\n",
       "      <td>2020-11-22 17:41:34</td>\n",
       "      <td>0.0000</td>\n",
       "      <td>Neutral</td>\n",
       "      <td>govern explor modal emerg authoris covid vacci...</td>\n",
       "    </tr>\n",
       "  </tbody>\n",
       "</table>\n",
       "</div>"
      ],
      "text/plain": [
       "                    id           created_at  Sentiment SentimentClass  \\\n",
       "0  1330567120091025412  2020-11-22 17:41:36    -0.8000       Negative   \n",
       "1  1330567119264681985  2020-11-22 17:41:36     0.6875       Positive   \n",
       "2  1330567118765506560  2020-11-22 17:41:36     0.0000        Neutral   \n",
       "3  1330567113078169606  2020-11-22 17:41:35     0.5000       Positive   \n",
       "4  1330567108707676162  2020-11-22 17:41:34     0.0000        Neutral   \n",
       "\n",
       "                                         Lemmatizing  \n",
       "0  hairymarx keithwmacdon maajidnawaz lbc bbcnew ...  \n",
       "1  anti vaxxer think get covid vaccin go line sho...  \n",
       "2  joncoopertweet said along dr. fauci approv get...  \n",
       "3  lkgwin mmpadellan trigger drumoft? so, ok matt...  \n",
       "4  govern explor modal emerg authoris covid vacci...  "
      ]
     },
     "execution_count": 9,
     "metadata": {},
     "output_type": "execute_result"
    }
   ],
   "source": [
    "tweet_Covid.drop(['StopWords', 'Stemming', 'full_text'], axis=1, inplace = True)\n",
    "\n",
    "tweet_Covid.head()"
   ]
  },
  {
   "cell_type": "code",
   "execution_count": 10,
   "metadata": {},
   "outputs": [
    {
     "data": {
      "text/html": [
       "<div>\n",
       "<style scoped>\n",
       "    .dataframe tbody tr th:only-of-type {\n",
       "        vertical-align: middle;\n",
       "    }\n",
       "\n",
       "    .dataframe tbody tr th {\n",
       "        vertical-align: top;\n",
       "    }\n",
       "\n",
       "    .dataframe thead th {\n",
       "        text-align: right;\n",
       "    }\n",
       "</style>\n",
       "<table border=\"1\" class=\"dataframe\">\n",
       "  <thead>\n",
       "    <tr style=\"text-align: right;\">\n",
       "      <th></th>\n",
       "      <th>id</th>\n",
       "      <th>created_at</th>\n",
       "      <th>Sentiment</th>\n",
       "      <th>SentimentClass</th>\n",
       "      <th>text</th>\n",
       "    </tr>\n",
       "  </thead>\n",
       "  <tbody>\n",
       "    <tr>\n",
       "      <th>0</th>\n",
       "      <td>1330567120091025412</td>\n",
       "      <td>2020-11-22 17:41:36</td>\n",
       "      <td>-0.8000</td>\n",
       "      <td>Negative</td>\n",
       "      <td>hairymarx keithwmacdon maajidnawaz lbc bbcnew ...</td>\n",
       "    </tr>\n",
       "    <tr>\n",
       "      <th>1</th>\n",
       "      <td>1330567119264681985</td>\n",
       "      <td>2020-11-22 17:41:36</td>\n",
       "      <td>0.6875</td>\n",
       "      <td>Positive</td>\n",
       "      <td>anti vaxxer think get covid vaccin go line sho...</td>\n",
       "    </tr>\n",
       "    <tr>\n",
       "      <th>2</th>\n",
       "      <td>1330567118765506560</td>\n",
       "      <td>2020-11-22 17:41:36</td>\n",
       "      <td>0.0000</td>\n",
       "      <td>Neutral</td>\n",
       "      <td>joncoopertweet said along dr. fauci approv get...</td>\n",
       "    </tr>\n",
       "    <tr>\n",
       "      <th>3</th>\n",
       "      <td>1330567113078169606</td>\n",
       "      <td>2020-11-22 17:41:35</td>\n",
       "      <td>0.5000</td>\n",
       "      <td>Positive</td>\n",
       "      <td>lkgwin mmpadellan trigger drumoft? so, ok matt...</td>\n",
       "    </tr>\n",
       "    <tr>\n",
       "      <th>4</th>\n",
       "      <td>1330567108707676162</td>\n",
       "      <td>2020-11-22 17:41:34</td>\n",
       "      <td>0.0000</td>\n",
       "      <td>Neutral</td>\n",
       "      <td>govern explor modal emerg authoris covid vacci...</td>\n",
       "    </tr>\n",
       "  </tbody>\n",
       "</table>\n",
       "</div>"
      ],
      "text/plain": [
       "                    id           created_at  Sentiment SentimentClass  \\\n",
       "0  1330567120091025412  2020-11-22 17:41:36    -0.8000       Negative   \n",
       "1  1330567119264681985  2020-11-22 17:41:36     0.6875       Positive   \n",
       "2  1330567118765506560  2020-11-22 17:41:36     0.0000        Neutral   \n",
       "3  1330567113078169606  2020-11-22 17:41:35     0.5000       Positive   \n",
       "4  1330567108707676162  2020-11-22 17:41:34     0.0000        Neutral   \n",
       "\n",
       "                                                text  \n",
       "0  hairymarx keithwmacdon maajidnawaz lbc bbcnew ...  \n",
       "1  anti vaxxer think get covid vaccin go line sho...  \n",
       "2  joncoopertweet said along dr. fauci approv get...  \n",
       "3  lkgwin mmpadellan trigger drumoft? so, ok matt...  \n",
       "4  govern explor modal emerg authoris covid vacci...  "
      ]
     },
     "execution_count": 10,
     "metadata": {},
     "output_type": "execute_result"
    }
   ],
   "source": [
    "tweet_Covid.rename(columns={'Lemmatizing':'text'}, inplace=True)\n",
    "tweet_Covid.head()"
   ]
  },
  {
   "cell_type": "code",
   "execution_count": 11,
   "metadata": {},
   "outputs": [],
   "source": [
    "sent = {'Positive':'1','Negative':'2','Neutral':'0'}\n",
    "tweet_Covid['SentimentClass'] = tweet_Covid['SentimentClass'].map(sent)"
   ]
  },
  {
   "cell_type": "code",
   "execution_count": 12,
   "metadata": {},
   "outputs": [
    {
     "name": "stdout",
     "output_type": "stream",
     "text": [
      "<class 'pandas.core.frame.DataFrame'>\n",
      "Int64Index: 4813 entries, 0 to 4812\n",
      "Data columns (total 5 columns):\n",
      " #   Column          Non-Null Count  Dtype  \n",
      "---  ------          --------------  -----  \n",
      " 0   id              4813 non-null   int64  \n",
      " 1   created_at      4813 non-null   object \n",
      " 2   Sentiment       4813 non-null   float64\n",
      " 3   SentimentClass  4813 non-null   object \n",
      " 4   text            4813 non-null   object \n",
      "dtypes: float64(1), int64(1), object(3)\n",
      "memory usage: 225.6+ KB\n"
     ]
    }
   ],
   "source": [
    "tweet_Covid.info()"
   ]
  },
  {
   "cell_type": "code",
   "execution_count": 26,
   "metadata": {},
   "outputs": [
    {
     "data": {
      "text/plain": [
       "Neutral     1891\n",
       "Positive    1886\n",
       "Negative    1036\n",
       "Name: SentimentClass, dtype: int64"
      ]
     },
     "execution_count": 26,
     "metadata": {},
     "output_type": "execute_result"
    }
   ],
   "source": [
    "sent = {'1':'Positive','2':'Negative','0':'Neutral'}\n",
    "tweet_Covid['SentimentClass'] = tweet_Covid['SentimentClass'].map(sent)\n",
    "tweet_Covid['SentimentClass'].value_counts()"
   ]
  },
  {
   "cell_type": "code",
   "execution_count": 27,
   "metadata": {},
   "outputs": [
    {
     "data": {
      "text/plain": [
       "<AxesSubplot:>"
      ]
     },
     "execution_count": 27,
     "metadata": {},
     "output_type": "execute_result"
    },
    {
     "data": {
      "image/png": "[encoded data removed]",
      "text/plain": [
       "<Figure size 432x288 with 1 Axes>"
      ]
     },
     "metadata": {
      "needs_background": "light"
     },
     "output_type": "display_data"
    }
   ],
   "source": [
    "import matplotlib.pyplot as plt\n",
    "tweet_Covid['SentimentClass'].value_counts().plot(kind='bar', width=0.5)"
   ]
  },
  {
   "cell_type": "code",
   "execution_count": 14,
   "metadata": {},
   "outputs": [],
   "source": [
    "X = tweet_Covid.iloc[:, 4].values\n",
    "y = tweet_Covid.iloc[:, 3].values"
   ]
  },
  {
   "cell_type": "code",
   "execution_count": 15,
   "metadata": {},
   "outputs": [],
   "source": [
    "from nltk.corpus import stopwords\n",
    "from sklearn.feature_extraction.text import TfidfVectorizer\n",
    "\n",
    "vectorizer = TfidfVectorizer (max_features=250, min_df=7, max_df=0.8)\n",
    "X = vectorizer.fit_transform(X).toarray()"
   ]
  },
  {
   "cell_type": "code",
   "execution_count": 16,
   "metadata": {},
   "outputs": [],
   "source": [
    "from sklearn.model_selection import train_test_split\n",
    "X_train, X_test, y_train, y_test = train_test_split(X, y, test_size=0.1, random_state=0)"
   ]
  },
  {
   "cell_type": "code",
   "execution_count": 17,
   "metadata": {},
   "outputs": [
    {
     "data": {
      "text/plain": [
       "((4813, 250), (4813,), (4331, 250), (4331,), (482, 250), (482,))"
      ]
     },
     "execution_count": 17,
     "metadata": {},
     "output_type": "execute_result"
    }
   ],
   "source": [
    "X.shape, y.shape, X_train.shape, y_train.shape, X_test.shape, y_test.shape"
   ]
  },
  {
   "cell_type": "code",
   "execution_count": 18,
   "metadata": {},
   "outputs": [
    {
     "name": "stdout",
     "output_type": "stream",
     "text": [
      "[[179  10  10]\n",
      " [ 47 139   7]\n",
      " [ 44  24  22]]\n",
      "              precision    recall  f1-score   support\n",
      "\n",
      "           0       0.66      0.90      0.76       199\n",
      "           1       0.80      0.72      0.76       193\n",
      "           2       0.56      0.24      0.34        90\n",
      "\n",
      "    accuracy                           0.71       482\n",
      "   macro avg       0.68      0.62      0.62       482\n",
      "weighted avg       0.70      0.71      0.68       482\n",
      "\n",
      "0.7053941908713693\n"
     ]
    }
   ],
   "source": [
    "from sklearn.metrics import classification_report, confusion_matrix, accuracy_score\n",
    "from sklearn.ensemble import RandomForestClassifier\n",
    "rfc = RandomForestClassifier(n_estimators=200, random_state=0)\n",
    "rfc.fit(X_train, y_train)\n",
    "y_predRF = rfc.predict(X_test)\n",
    "score_RF = rfc.score(X_test, y_test)\n",
    "print(confusion_matrix(y_test,y_predRF))\n",
    "print(classification_report(y_test,y_predRF))\n",
    "print(accuracy_score(y_test, y_predRF))"
   ]
  },
  {
   "cell_type": "code",
   "execution_count": 19,
   "metadata": {},
   "outputs": [
    {
     "name": "stdout",
     "output_type": "stream",
     "text": [
      "[[193   5   1]\n",
      " [ 59 125   9]\n",
      " [ 53  24  13]]\n",
      "              precision    recall  f1-score   support\n",
      "\n",
      "           0       0.63      0.97      0.77       199\n",
      "           1       0.81      0.65      0.72       193\n",
      "           2       0.57      0.14      0.23        90\n",
      "\n",
      "    accuracy                           0.69       482\n",
      "   macro avg       0.67      0.59      0.57       482\n",
      "weighted avg       0.69      0.69      0.65       482\n",
      "\n",
      "0.6867219917012448\n"
     ]
    }
   ],
   "source": [
    "from sklearn.svm import SVC\n",
    "svclassifier = SVC(kernel='linear')\n",
    "svclassifier.fit(X_train, y_train)\n",
    "y_predSVC = svclassifier.predict(X_test)\n",
    "score_SVC = svclassifier.score(X_test, y_test)\n",
    "print(confusion_matrix(y_test,y_predSVC))\n",
    "print(classification_report(y_test,y_predSVC))\n",
    "print(accuracy_score(y_test, y_predSVC))"
   ]
  },
  {
   "cell_type": "code",
   "execution_count": 20,
   "metadata": {},
   "outputs": [
    {
     "name": "stdout",
     "output_type": "stream",
     "text": [
      "[[157  40   2]\n",
      " [ 43 148   2]\n",
      " [ 43  35  12]]\n",
      "              precision    recall  f1-score   support\n",
      "\n",
      "           0       0.65      0.79      0.71       199\n",
      "           1       0.66      0.77      0.71       193\n",
      "           2       0.75      0.13      0.23        90\n",
      "\n",
      "    accuracy                           0.66       482\n",
      "   macro avg       0.69      0.56      0.55       482\n",
      "weighted avg       0.67      0.66      0.62       482\n",
      "\n",
      "0.6576763485477178\n"
     ]
    }
   ],
   "source": [
    "from sklearn.naive_bayes import MultinomialNB\n",
    "from sklearn.linear_model import LogisticRegression\n",
    "from sklearn.svm import SVC\n",
    "NB_model = MultinomialNB()\n",
    "NB_model.fit(X_train, y_train)\n",
    "y_predNB = NB_model.predict(X_test)\n",
    "score_NB = NB_model.score(X_test, y_test)\n",
    "print(confusion_matrix(y_test,y_predNB))\n",
    "print(classification_report(y_test,y_predNB))\n",
    "print(accuracy_score(y_test, y_predNB))"
   ]
  },
  {
   "cell_type": "code",
   "execution_count": 21,
   "metadata": {},
   "outputs": [
    {
     "name": "stdout",
     "output_type": "stream",
     "text": [
      "[[178  13   8]\n",
      " [ 48 136   9]\n",
      " [ 46  25  19]]\n",
      "              precision    recall  f1-score   support\n",
      "\n",
      "           0       0.65      0.89      0.76       199\n",
      "           1       0.78      0.70      0.74       193\n",
      "           2       0.53      0.21      0.30        90\n",
      "\n",
      "    accuracy                           0.69       482\n",
      "   macro avg       0.65      0.60      0.60       482\n",
      "weighted avg       0.68      0.69      0.67       482\n",
      "\n",
      "0.6908713692946058\n"
     ]
    }
   ],
   "source": [
    "LR_model = LogisticRegression(solver='lbfgs')\n",
    "LR_model.fit(X_train, y_train)\n",
    "y_predLR = LR_model.predict(X_test)\n",
    "score_LR = LR_model.score(X_test, y_test)\n",
    "print(confusion_matrix(y_test,y_predLR))\n",
    "print(classification_report(y_test,y_predLR))\n",
    "print(accuracy_score(y_test, y_predLR))"
   ]
  },
  {
   "cell_type": "code",
   "execution_count": 24,
   "metadata": {},
   "outputs": [
    {
     "name": "stdout",
     "output_type": "stream",
     "text": [
      "[[184   7   8]\n",
      " [146  44   3]\n",
      " [ 77   6   7]]\n",
      "              precision    recall  f1-score   support\n",
      "\n",
      "           0       0.45      0.92      0.61       199\n",
      "           1       0.77      0.23      0.35       193\n",
      "           2       0.39      0.08      0.13        90\n",
      "\n",
      "    accuracy                           0.49       482\n",
      "   macro avg       0.54      0.41      0.36       482\n",
      "weighted avg       0.57      0.49      0.42       482\n",
      "\n",
      "0.487551867219917\n"
     ]
    }
   ],
   "source": [
    "from sklearn.neighbors import KNeighborsClassifier #K nearest neighbors\n",
    "model_KNN = KNeighborsClassifier(n_neighbors=5)\n",
    "model_KNN.fit(X_train, y_train)\n",
    "y_predKNN = model_KNN.predict(X_test)\n",
    "score_KNN = model_KNN.score(X_test,y_test)\n",
    "\n",
    "print(confusion_matrix(y_test,y_predKNN))\n",
    "print(classification_report(y_test,y_predKNN))\n",
    "print(accuracy_score(y_test, y_predKNN))"
   ]
  },
  {
   "cell_type": "code",
   "execution_count": 25,
   "metadata": {},
   "outputs": [
    {
     "name": "stdout",
     "output_type": "stream",
     "text": [
      "+------------------------+----------+\n",
      "|     CLASSIFICATION     | ACCURACY |\n",
      "+========================+==========+\n",
      "| LogisticRegression     | 0.691    |\n",
      "+------------------------+----------+\n",
      "| RandomForest           | 0.705    |\n",
      "+------------------------+----------+\n",
      "| K-NearestNeighbors     | 0.488    |\n",
      "+------------------------+----------+\n",
      "| MultinominalNaiveBayes | 0.658    |\n",
      "+------------------------+----------+\n",
      "| SupportVector          | 0.687    |\n",
      "+------------------------+----------+\n"
     ]
    }
   ],
   "source": [
    "from texttable import Texttable\n",
    "# texttable takes the first reocrd in the list as the column names\n",
    "# of the table\n",
    "l = [[\"CLASSIFICATION\", \"ACCURACY\"],['LogisticRegression', score_LR],['RandomForest', score_RF],['K-NearestNeighbors',score_KNN],['MultinominalNaiveBayes',score_NB], ['SupportVector', score_SVC]]\n",
    "table = Texttable()\n",
    "table.add_rows(l)\n",
    "print(table.draw())"
   ]
  },
  {
   "cell_type": "code",
   "execution_count": null,
   "metadata": {},
   "outputs": [],
   "source": []
  }
 ],
 "metadata": {
  "kernelspec": {
   "display_name": "Python 3",
   "language": "python",
   "name": "python3"
  },
  "language_info": {
   "codemirror_mode": {
    "name": "ipython",
    "version": 3
   },
   "file_extension": ".py",
   "mimetype": "text/x-python",
   "name": "python",
   "nbconvert_exporter": "python",
   "pygments_lexer": "ipython3",
   "version": "3.7.6"
  }
 },
 "nbformat": 4,
 "nbformat_minor": 4
}
