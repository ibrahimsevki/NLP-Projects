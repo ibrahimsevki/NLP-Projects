{
 "cells": [
  {
   "cell_type": "markdown",
   "metadata": {},
   "source": [
    "   # \"Sentiment Analysis of Trendy Twitter Subjects in US\"\n",
    "\n",
    "Twitter is one of the best indicators of the wider pulse of the world and what’s happening within it among the social media tools. In this era, people are exposing their thoughts, perspectives and ideas about a specific topic or subject via Twitter  mostly.\n",
    "\n",
    "Smart companies are learning what’s required to extract the insights that are flowing  through the Tweets, sent every moment and it has been used as an important tool to  detect relevant trends, emotions of the public about those trends.\n",
    "\n",
    "The ability to categorize opinions in the text of tweets-and specially to determine  whether the user’s attitude is positive, negative, or neutral-is highly valuable.  People are just a click away from getting huge chunk of information. With information comes people’s opinion and with this comes the positive, negative or neutral outlook of people regarding a topic. \n",
    "\n",
    "So in this project I will use a data set containing a collection of tweets about given-subjects to detect the sentiment associated with and detect the output as negative, neutral or positive accordingly using Machine Learning. \n",
    "\n",
    "Sentiment Analysis involves Natural Language Processing because it deals with  human-written text and a classification task which will classify people’s opinion expressed about different subjects chosen to be evaluated. Sentiment Analysis can help us decipher the mood and emotions of general public and gather insightful information regarding the context. Sentiment Analysis is a process of analyzing data and classifying it based on the need of the research.\n",
    "\n",
    "The tweets on a specific time period, on a specific location, and on a specific subject  either an individual or anything will be the focus of this project. These tweets will  be classified by sentiment analysis and output of this analysis will be evaluated. \n",
    "\n"
   ]
  },
  {
   "cell_type": "markdown",
   "metadata": {},
   "source": [
    "__Importing the Data__\n",
    "\n",
    "In the project, I will use Twitter data by connecting the Twitter API. I will retrieve 5000 tweets about the subject I will focus with the extended mode. All the tweets will be in English as language. This project will use Streaming API that allows to collect tweets on a real-time basis based on search terms, user ids or locations.\n",
    "\n",
    "Twitter API stands for Application Programming Interface that makes interaction with computer programs and web services easy. This project will download tweets related to 5 keywords: \"Covid\", \"stimulus\", \"Trump\", \"Biden\", \"vaccine\". I intentionaly select these subjects because, these topics are the most popular keywords for last months and still they have more attractions than other issues in the thoughts of public.\n",
    "\n",
    "In order to access Twitter Streaming API, we need to get 4 pieces of information from Twitter: API key, API secret, Access token and Access token secret.\n",
    "\n",
    "I will be using a Python library called \"Tweepy\" to connect to Twitter API and download the data."
   ]
  },
  {
   "cell_type": "code",
   "execution_count": 295,
   "metadata": {},
   "outputs": [
    {
     "name": "stdout",
     "output_type": "stream",
     "text": [
      "<class 'list'>\n",
      "5000\n"
     ]
    }
   ],
   "source": [
    "import tweepy\n",
    "import json\n",
    "from tweepy import StreamListener\n",
    "import tweepy as tw\n",
    "import pandas as pd\n",
    "consumer_key=\"5TxMWtOP65BODdT82xCv9uAiX\"\n",
    "consumer_secret=\"oO6z8z4T4JQSV8fM7YW1aGXg3jAScuIJHsPewVdboXJ35CnDUu\"\n",
    "access_token=\"1327052206659559430-YrCsGJeWFYn3C7owysQ1k423TG16V2\"\n",
    "access_token_secret=\"Z09W1GoZ1YJ7zqnusxNL4ZF4WzRVBcR2w9tHtPouEpqCa\"\n",
    "auth = tw.OAuthHandler(consumer_key, consumer_secret)\n",
    "auth.set_access_token(access_token, access_token_secret)\n",
    "api = tw.API(auth, wait_on_rate_limit=True)\n",
    "results = []\n",
    "for tweet in tweepy.Cursor (api.search, q = 'Trump -filter:retweets', lang = \"en\", tweet_mode='extended').items(5000): \n",
    "    results.append(tweet)\n",
    "    \n",
    "print (type(results))\n",
    "print (len(results))"
   ]
  },
  {
   "cell_type": "markdown",
   "metadata": {},
   "source": [
    "# __Preprocessing__\n",
    "\n",
    "The process of converting data to something a computer can understand is referred to as pre-processing. One of the major forms of pre-processing is to filter out useless data.\n",
    "\n",
    "Here I parse the response from the twitter API into a structured table. The response from twitter streaming API’s is in the below format:\n",
    "\n",
    "I run the codes and get the output. The data stored the relevant tweets in a dataframe which involves various variables, but in this project I will only extract the \"full_text\", \"id\" and \"the date (created_at)\" of the tweet. The data has extracted \"full_text\" because when using 'extended' mode, the text is replaced by \"full_text\" attribute. "
   ]
  },
  {
   "cell_type": "markdown",
   "metadata": {},
   "source": [
    "I found that some tweets have the exact same text but have been re-tweeted by different users. In order to extract a variety of hashtags from the tweets and to make the analysis unbiased, I decided to remove the duplicate tweets."
   ]
  },
  {
   "cell_type": "code",
   "execution_count": null,
   "metadata": {},
   "outputs": [],
   "source": [
    "def tweets_df(results):\n",
    "    id_list = [tweet.id for tweet  in results]\n",
    "    data_set = pd.DataFrame(id_list, columns = [\"id\"])\n",
    "    \n",
    "    data_set[\"full_text\"] = [tweet.text for tweet in results]\n",
    "    data_set[\"created_at\"] = [tweet.created_at for tweet in results]\n",
    "    \n",
    "    return data_set\n",
    "data_set = tweets_df(results)"
   ]
  },
  {
   "cell_type": "code",
   "execution_count": 297,
   "metadata": {},
   "outputs": [],
   "source": [
    "text = data_set[\"full_text\"]\n",
    "for i in range(0,len(text)):\n",
    "    txt = ' '.join(word for word in text[i] .split() if not word.startswith('https:'))\n",
    "    data_set.at[i, 'text2'] = txt\n",
    "    \n",
    "data_set.drop_duplicates('text2', inplace=True)\n",
    "data_set.reset_index(drop = True, inplace=True)\n",
    "data_set.drop('full_text', axis = 1, inplace = True)\n",
    "data_set.rename(columns={'text2': 'full_text'}, inplace=True)"
   ]
  },
  {
   "cell_type": "markdown",
   "metadata": {},
   "source": [
    "# __Data Wrangling__\n",
    "\n",
    "This project will look at the full_text of the data which involves special characters and punctuations. In Sentiment analysis, understanding and being able to use regular expressions is a prerequisite for doing any task. You can remove URLs (links) using regular expressions accessed from the \"re\" package which stands for \"regular expressions\". \n",
    "\n",
    "Below codes will remove special characters other than alphanumerics and replace it with nothing. \"re.sub\" allows to substitute a selection of characters defined using a regular expression, with something else.\n",
    "\n",
    "Capitalization is also a challenge when analyzing text data. If you are trying to create a list of unique words in your tweets, words with capitalization will be different from words that are all lowercase. To account for this, I made each word lowercase using the string method \".lower()\""
   ]
  },
  {
   "cell_type": "code",
   "execution_count": 298,
   "metadata": {},
   "outputs": [],
   "source": [
    "import re\n",
    "    #print(re.sub(r\"[^a-zA-Z0-9]+\", ' ', k))\n",
    "f = lambda x: re.sub(r\"[^a-zA-Z.,!?/:;\\\"\\'\\s]+\", ' ', x)\n",
    "data_set['full_text'] = data_set['full_text'].apply(f)"
   ]
  },
  {
   "cell_type": "code",
   "execution_count": 299,
   "metadata": {},
   "outputs": [],
   "source": [
    "f = lambda x: x.lower()\n",
    "data_set['full_text'] = data_set['full_text'].apply(f)"
   ]
  },
  {
   "cell_type": "markdown",
   "metadata": {},
   "source": [
    "# Modeling (Sentiment Analysis)\n",
    "\n",
    "\n",
    "People express their opinions via tweets and these usually have sentiment associated with it i.e. positive, negative or neutral. Analysis of this sentiment may lead to some useful insight on the topic being discussed.\n",
    "\n",
    "Python has an inbuilt library (TextBlob) to do this. TextBlob is a python library for Natural Language Processing (NLP). TextBlob is a simple library which supports complex analysis and operations on textual data.\n",
    "\n",
    "Sentiment of the each tweet will consist of 3 (three) range:\n",
    "\n",
    "if sentiment < 0.00, this will correspond to negative\n",
    "\n",
    "if sentiment = 0.00, this will correspond to neutral\n",
    "\n",
    "if sentiment > 0.00, this will correspond to positive.\n",
    "\n"
   ]
  },
  {
   "cell_type": "code",
   "execution_count": 300,
   "metadata": {},
   "outputs": [],
   "source": [
    "from textblob import TextBlob\n",
    "text = data_set[\"full_text\"]\n",
    "\n",
    "for i in range(0,len(text)):\n",
    "    textB = TextBlob(text[i])\n",
    "    sentiment = textB.sentiment.polarity\n",
    "    data_set.at[i, 'Sentiment'] = sentiment\n",
    "    if sentiment <0.00:\n",
    "        SentimentClass = 'Negative'\n",
    "        data_set.at[i, 'SentimentClass'] = SentimentClass \n",
    "    elif sentiment >0.00:\n",
    "        SentimentClass = 'Positive'\n",
    "        data_set.at[i, 'SentimentClass'] = SentimentClass \n",
    "    else:\n",
    "        SentimentClass = 'Neutral'\n",
    "        data_set.at[i, 'SentimentClass'] = SentimentClass "
   ]
  },
  {
   "cell_type": "markdown",
   "metadata": {},
   "source": [
    "After making the sentiment analysis, I will save the output as a csv file. Until this step, I applied the same codes and NLP Sentiment Analysis model to each subject. I saved each output data as a seperate file to run them seperately.\n",
    "\n",
    "I will start with the analysis of Tweets about Trump:"
   ]
  },
  {
   "cell_type": "code",
   "execution_count": null,
   "metadata": {},
   "outputs": [],
   "source": [
    "tweet = data_set.to_csv(\"/Users/bahtinur/Desktop/Tweet/Trump.csv\")"
   ]
  },
  {
   "cell_type": "markdown",
   "metadata": {},
   "source": [
    "I will read the file and reveal the output."
   ]
  },
  {
   "cell_type": "code",
   "execution_count": 302,
   "metadata": {},
   "outputs": [],
   "source": [
    "tweet_Trump = pd.read_csv((\"/Users/bahtinur/Desktop/Tweet/Trump.csv\"), index_col=0)"
   ]
  },
  {
   "cell_type": "markdown",
   "metadata": {},
   "source": [
    "I am going to display the Sentiment value in % format to make it easily understandable."
   ]
  },
  {
   "cell_type": "code",
   "execution_count": 303,
   "metadata": {},
   "outputs": [],
   "source": [
    "tweet_Trump['Sentiment'] = pd.Series([\"{0:.2f}%\".format(val * 100) for val in tweet_Trump['Sentiment']], index = tweet_Trump.index)"
   ]
  },
  {
   "cell_type": "markdown",
   "metadata": {},
   "source": [
    "The first 5 rows of the dataset related to Trump tweets."
   ]
  },
  {
   "cell_type": "code",
   "execution_count": 304,
   "metadata": {},
   "outputs": [
    {
     "data": {
      "text/html": [
       "<div>\n",
       "<style scoped>\n",
       "    .dataframe tbody tr th:only-of-type {\n",
       "        vertical-align: middle;\n",
       "    }\n",
       "\n",
       "    .dataframe tbody tr th {\n",
       "        vertical-align: top;\n",
       "    }\n",
       "\n",
       "    .dataframe thead th {\n",
       "        text-align: right;\n",
       "    }\n",
       "</style>\n",
       "<table border=\"1\" class=\"dataframe\">\n",
       "  <thead>\n",
       "    <tr style=\"text-align: right;\">\n",
       "      <th></th>\n",
       "      <th>id</th>\n",
       "      <th>created_at</th>\n",
       "      <th>full_text</th>\n",
       "      <th>Sentiment</th>\n",
       "      <th>SentimentClass</th>\n",
       "    </tr>\n",
       "  </thead>\n",
       "  <tbody>\n",
       "    <tr>\n",
       "      <th>0</th>\n",
       "      <td>1330756653721948162</td>\n",
       "      <td>2020-11-23 06:14:45</td>\n",
       "      <td>excitedamerica  msnbc you are correct, the st...</td>\n",
       "      <td>5.00%</td>\n",
       "      <td>Positive</td>\n",
       "    </tr>\n",
       "    <tr>\n",
       "      <th>1</th>\n",
       "      <td>1330756652631433218</td>\n",
       "      <td>2020-11-23 06:14:44</td>\n",
       "      <td>realdonaldtrump at a saturday session on inte...</td>\n",
       "      <td>-6.67%</td>\n",
       "      <td>Negative</td>\n",
       "    </tr>\n",
       "    <tr>\n",
       "      <th>2</th>\n",
       "      <td>1330756651910094849</td>\n",
       "      <td>2020-11-23 06:14:44</td>\n",
       "      <td>jeepmtn  matthew trump there is integrity in ...</td>\n",
       "      <td>-5.00%</td>\n",
       "      <td>Negative</td>\n",
       "    </tr>\n",
       "    <tr>\n",
       "      <th>3</th>\n",
       "      <td>1330756650827911171</td>\n",
       "      <td>2020-11-23 06:14:44</td>\n",
       "      <td>meidas kelly seems kinda cheap for trump, i d...</td>\n",
       "      <td>45.00%</td>\n",
       "      <td>Positive</td>\n",
       "    </tr>\n",
       "    <tr>\n",
       "      <th>4</th>\n",
       "      <td>1330756650584530944</td>\n",
       "      <td>2020-11-23 06:14:44</td>\n",
       "      <td>brianinmississ  steb  hoping trump   his gang...</td>\n",
       "      <td>12.67%</td>\n",
       "      <td>Positive</td>\n",
       "    </tr>\n",
       "  </tbody>\n",
       "</table>\n",
       "</div>"
      ],
      "text/plain": [
       "                    id           created_at  \\\n",
       "0  1330756653721948162  2020-11-23 06:14:45   \n",
       "1  1330756652631433218  2020-11-23 06:14:44   \n",
       "2  1330756651910094849  2020-11-23 06:14:44   \n",
       "3  1330756650827911171  2020-11-23 06:14:44   \n",
       "4  1330756650584530944  2020-11-23 06:14:44   \n",
       "\n",
       "                                           full_text Sentiment SentimentClass  \n",
       "0   excitedamerica  msnbc you are correct, the st...     5.00%       Positive  \n",
       "1   realdonaldtrump at a saturday session on inte...    -6.67%       Negative  \n",
       "2   jeepmtn  matthew trump there is integrity in ...    -5.00%       Negative  \n",
       "3   meidas kelly seems kinda cheap for trump, i d...    45.00%       Positive  \n",
       "4   brianinmississ  steb  hoping trump   his gang...    12.67%       Positive  "
      ]
     },
     "execution_count": 304,
     "metadata": {},
     "output_type": "execute_result"
    }
   ],
   "source": [
    "tweet_Trump.head()"
   ]
  },
  {
   "cell_type": "markdown",
   "metadata": {},
   "source": [
    "The \"id\" column is not relevant on our analysis and will be dropped from the data. Also, I will rename \"created_at\" as \"date\" to make the dataset more clarified."
   ]
  },
  {
   "cell_type": "code",
   "execution_count": 305,
   "metadata": {},
   "outputs": [],
   "source": [
    "del tweet_Trump['id']"
   ]
  },
  {
   "cell_type": "code",
   "execution_count": 306,
   "metadata": {},
   "outputs": [],
   "source": [
    "tweet_Trump.rename(columns={'created_at':'date'}, inplace=True)\n"
   ]
  },
  {
   "cell_type": "markdown",
   "metadata": {},
   "source": [
    "Lets look at the first 5 rows of the dataset."
   ]
  },
  {
   "cell_type": "code",
   "execution_count": 307,
   "metadata": {},
   "outputs": [
    {
     "data": {
      "text/html": [
       "<div>\n",
       "<style scoped>\n",
       "    .dataframe tbody tr th:only-of-type {\n",
       "        vertical-align: middle;\n",
       "    }\n",
       "\n",
       "    .dataframe tbody tr th {\n",
       "        vertical-align: top;\n",
       "    }\n",
       "\n",
       "    .dataframe thead th {\n",
       "        text-align: right;\n",
       "    }\n",
       "</style>\n",
       "<table border=\"1\" class=\"dataframe\">\n",
       "  <thead>\n",
       "    <tr style=\"text-align: right;\">\n",
       "      <th></th>\n",
       "      <th>date</th>\n",
       "      <th>full_text</th>\n",
       "      <th>Sentiment</th>\n",
       "      <th>SentimentClass</th>\n",
       "    </tr>\n",
       "  </thead>\n",
       "  <tbody>\n",
       "    <tr>\n",
       "      <th>0</th>\n",
       "      <td>2020-11-23 06:14:45</td>\n",
       "      <td>excitedamerica  msnbc you are correct, the st...</td>\n",
       "      <td>5.00%</td>\n",
       "      <td>Positive</td>\n",
       "    </tr>\n",
       "    <tr>\n",
       "      <th>1</th>\n",
       "      <td>2020-11-23 06:14:44</td>\n",
       "      <td>realdonaldtrump at a saturday session on inte...</td>\n",
       "      <td>-6.67%</td>\n",
       "      <td>Negative</td>\n",
       "    </tr>\n",
       "    <tr>\n",
       "      <th>2</th>\n",
       "      <td>2020-11-23 06:14:44</td>\n",
       "      <td>jeepmtn  matthew trump there is integrity in ...</td>\n",
       "      <td>-5.00%</td>\n",
       "      <td>Negative</td>\n",
       "    </tr>\n",
       "    <tr>\n",
       "      <th>3</th>\n",
       "      <td>2020-11-23 06:14:44</td>\n",
       "      <td>meidas kelly seems kinda cheap for trump, i d...</td>\n",
       "      <td>45.00%</td>\n",
       "      <td>Positive</td>\n",
       "    </tr>\n",
       "    <tr>\n",
       "      <th>4</th>\n",
       "      <td>2020-11-23 06:14:44</td>\n",
       "      <td>brianinmississ  steb  hoping trump   his gang...</td>\n",
       "      <td>12.67%</td>\n",
       "      <td>Positive</td>\n",
       "    </tr>\n",
       "  </tbody>\n",
       "</table>\n",
       "</div>"
      ],
      "text/plain": [
       "                  date                                          full_text  \\\n",
       "0  2020-11-23 06:14:45   excitedamerica  msnbc you are correct, the st...   \n",
       "1  2020-11-23 06:14:44   realdonaldtrump at a saturday session on inte...   \n",
       "2  2020-11-23 06:14:44   jeepmtn  matthew trump there is integrity in ...   \n",
       "3  2020-11-23 06:14:44   meidas kelly seems kinda cheap for trump, i d...   \n",
       "4  2020-11-23 06:14:44   brianinmississ  steb  hoping trump   his gang...   \n",
       "\n",
       "  Sentiment SentimentClass  \n",
       "0     5.00%       Positive  \n",
       "1    -6.67%       Negative  \n",
       "2    -5.00%       Negative  \n",
       "3    45.00%       Positive  \n",
       "4    12.67%       Positive  "
      ]
     },
     "execution_count": 307,
     "metadata": {},
     "output_type": "execute_result"
    }
   ],
   "source": [
    "tweet_Trump.head()"
   ]
  },
  {
   "cell_type": "code",
   "execution_count": 308,
   "metadata": {},
   "outputs": [
    {
     "name": "stdout",
     "output_type": "stream",
     "text": [
      "<class 'pandas.core.frame.DataFrame'>\n",
      "Int64Index: 4893 entries, 0 to 4892\n",
      "Data columns (total 4 columns):\n",
      " #   Column          Non-Null Count  Dtype \n",
      "---  ------          --------------  ----- \n",
      " 0   date            4893 non-null   object\n",
      " 1   full_text       4893 non-null   object\n",
      " 2   Sentiment       4893 non-null   object\n",
      " 3   SentimentClass  4893 non-null   object\n",
      "dtypes: object(4)\n",
      "memory usage: 191.1+ KB\n"
     ]
    }
   ],
   "source": [
    "tweet_Trump.info()"
   ]
  },
  {
   "cell_type": "markdown",
   "metadata": {},
   "source": [
    "In the dataset of the tweets those have subject of \"Trump\", has 4893 non-null entries and all of them are object type."
   ]
  },
  {
   "cell_type": "code",
   "execution_count": 309,
   "metadata": {},
   "outputs": [
    {
     "data": {
      "text/plain": [
       "Positive    2095\n",
       "Neutral     1465\n",
       "Negative    1333\n",
       "Name: SentimentClass, dtype: int64"
      ]
     },
     "execution_count": 309,
     "metadata": {},
     "output_type": "execute_result"
    }
   ],
   "source": [
    "tweet_Trump['SentimentClass'].value_counts()"
   ]
  },
  {
   "cell_type": "markdown",
   "metadata": {},
   "source": [
    "When we reveal the counts of the each sentiment class, the positive tweets about Trump are the highest when we compare with other two classes. "
   ]
  },
  {
   "cell_type": "code",
   "execution_count": 310,
   "metadata": {},
   "outputs": [
    {
     "data": {
      "text/plain": [
       "Positive    42.737658\n",
       "Neutral     29.885761\n",
       "Negative    27.192982\n",
       "Name: SentimentClass, dtype: float64"
      ]
     },
     "execution_count": 310,
     "metadata": {},
     "output_type": "execute_result"
    }
   ],
   "source": [
    "tweet_Trump['SentimentClass'].value_counts()/len(tweet_Covid) * 100"
   ]
  },
  {
   "cell_type": "markdown",
   "metadata": {},
   "source": [
    "The count of the each sentiment class, the dataset reveals that almost %43 of the tweets used \"Trump\" as subject are positive that reveals that users of these tweets have positive perspective on President Trump. %42 of these tweets were positive, %29 are neutral and %27 of the tweets have negative perspective."
   ]
  },
  {
   "cell_type": "markdown",
   "metadata": {},
   "source": [
    "We can also look at the highest and lowest size tweets about Trump."
   ]
  },
  {
   "cell_type": "code",
   "execution_count": null,
   "metadata": {},
   "outputs": [],
   "source": [
    "length_text = tweet_Trump['full_text'].str.len()"
   ]
  },
  {
   "cell_type": "code",
   "execution_count": 312,
   "metadata": {},
   "outputs": [
    {
     "data": {
      "text/plain": [
       "756"
      ]
     },
     "execution_count": 312,
     "metadata": {},
     "output_type": "execute_result"
    }
   ],
   "source": [
    "max(length_text)"
   ]
  },
  {
   "cell_type": "code",
   "execution_count": 313,
   "metadata": {},
   "outputs": [
    {
     "data": {
      "text/plain": [
       "5"
      ]
     },
     "execution_count": 313,
     "metadata": {},
     "output_type": "execute_result"
    }
   ],
   "source": [
    "min(length_text)"
   ]
  },
  {
   "cell_type": "markdown",
   "metadata": {},
   "source": [
    "Here is the visualization of the tweet about Trump which reveals that the count of negative and neutral tweets are almost same and positive ones have the highest number of counts."
   ]
  },
  {
   "cell_type": "code",
   "execution_count": 314,
   "metadata": {},
   "outputs": [
    {
     "data": {
      "text/plain": [
       "<AxesSubplot:>"
      ]
     },
     "execution_count": 314,
     "metadata": {},
     "output_type": "execute_result"
    },
    {
     "data": {
      "image/png": "[encoded data removed]",
      "text/plain": [
       "<Figure size 432x288 with 1 Axes>"
      ]
     },
     "metadata": {
      "needs_background": "light"
     },
     "output_type": "display_data"
    }
   ],
   "source": [
    "import matplotlib.pyplot as plt\n",
    "tweet_Trump['SentimentClass'].value_counts().plot(kind='bar', width=0.5)"
   ]
  },
  {
   "cell_type": "markdown",
   "metadata": {},
   "source": [
    "It is time to look at the 2nd subject of this project which will be the rival of the President Trump during the election: \"Biden\". \n",
    "\n",
    "As I mentioned above, I retrieved the tweets about Biden with using Twitter API and save it as a csv file."
   ]
  },
  {
   "cell_type": "code",
   "execution_count": 55,
   "metadata": {},
   "outputs": [],
   "source": [
    "tweet_Biden = pd.read_csv((\"/Users/bahtinur/Desktop/Tweet/Biden.csv\"), index_col=0)"
   ]
  },
  {
   "cell_type": "code",
   "execution_count": 56,
   "metadata": {},
   "outputs": [],
   "source": [
    "tweet_Biden['Sentiment'] = pd.Series([\"{0:.2f}%\".format(val * 100) for val in tweet_Biden['Sentiment']], index = tweet_Biden.index)"
   ]
  },
  {
   "cell_type": "code",
   "execution_count": 57,
   "metadata": {},
   "outputs": [
    {
     "data": {
      "text/html": [
       "<div>\n",
       "<style scoped>\n",
       "    .dataframe tbody tr th:only-of-type {\n",
       "        vertical-align: middle;\n",
       "    }\n",
       "\n",
       "    .dataframe tbody tr th {\n",
       "        vertical-align: top;\n",
       "    }\n",
       "\n",
       "    .dataframe thead th {\n",
       "        text-align: right;\n",
       "    }\n",
       "</style>\n",
       "<table border=\"1\" class=\"dataframe\">\n",
       "  <thead>\n",
       "    <tr style=\"text-align: right;\">\n",
       "      <th></th>\n",
       "      <th>id</th>\n",
       "      <th>created_at</th>\n",
       "      <th>full_text</th>\n",
       "      <th>Sentiment</th>\n",
       "      <th>SentimentClass</th>\n",
       "    </tr>\n",
       "  </thead>\n",
       "  <tbody>\n",
       "    <tr>\n",
       "      <th>0</th>\n",
       "      <td>1330752855066763264</td>\n",
       "      <td>2020-11-23 05:59:39</td>\n",
       "      <td>whitehouse how about u post a plan   cv , don...</td>\n",
       "      <td>25.00%</td>\n",
       "      <td>Positive</td>\n",
       "    </tr>\n",
       "    <tr>\n",
       "      <th>1</th>\n",
       "      <td>1330752854072692736</td>\n",
       "      <td>2020-11-23 05:59:39</td>\n",
       "      <td>biden and harris will have a hard time getting...</td>\n",
       "      <td>25.42%</td>\n",
       "      <td>Positive</td>\n",
       "    </tr>\n",
       "    <tr>\n",
       "      <th>2</th>\n",
       "      <td>1330752853913128960</td>\n",
       "      <td>2020-11-23 05:59:39</td>\n",
       "      <td>joenbc  jonlemire with not a shred of evidenc...</td>\n",
       "      <td>0.00%</td>\n",
       "      <td>Neutral</td>\n",
       "    </tr>\n",
       "    <tr>\n",
       "      <th>3</th>\n",
       "      <td>1330752851543470081</td>\n",
       "      <td>2020-11-23 05:59:38</td>\n",
       "      <td>blinken was a key adviser to biden when the s...</td>\n",
       "      <td>0.00%</td>\n",
       "      <td>Neutral</td>\n",
       "    </tr>\n",
       "    <tr>\n",
       "      <th>4</th>\n",
       "      <td>1330752850889203719</td>\n",
       "      <td>2020-11-23 05:59:38</td>\n",
       "      <td>snl got jim carrey to okay biden because he is...</td>\n",
       "      <td>-15.00%</td>\n",
       "      <td>Negative</td>\n",
       "    </tr>\n",
       "  </tbody>\n",
       "</table>\n",
       "</div>"
      ],
      "text/plain": [
       "                    id           created_at  \\\n",
       "0  1330752855066763264  2020-11-23 05:59:39   \n",
       "1  1330752854072692736  2020-11-23 05:59:39   \n",
       "2  1330752853913128960  2020-11-23 05:59:39   \n",
       "3  1330752851543470081  2020-11-23 05:59:38   \n",
       "4  1330752850889203719  2020-11-23 05:59:38   \n",
       "\n",
       "                                           full_text Sentiment SentimentClass  \n",
       "0   whitehouse how about u post a plan   cv , don...    25.00%       Positive  \n",
       "1  biden and harris will have a hard time getting...    25.42%       Positive  \n",
       "2   joenbc  jonlemire with not a shred of evidenc...     0.00%        Neutral  \n",
       "3   blinken was a key adviser to biden when the s...     0.00%        Neutral  \n",
       "4  snl got jim carrey to okay biden because he is...   -15.00%       Negative  "
      ]
     },
     "execution_count": 57,
     "metadata": {},
     "output_type": "execute_result"
    }
   ],
   "source": [
    "tweet_Biden.head()"
   ]
  },
  {
   "cell_type": "markdown",
   "metadata": {},
   "source": [
    "I followed the same process as I did in the previous subject during the data wrangling process."
   ]
  },
  {
   "cell_type": "code",
   "execution_count": 58,
   "metadata": {},
   "outputs": [],
   "source": [
    "del tweet_Biden['id']"
   ]
  },
  {
   "cell_type": "code",
   "execution_count": 59,
   "metadata": {},
   "outputs": [],
   "source": [
    "tweet_Biden.rename(columns={'created_at':'date'}, inplace=True)\n"
   ]
  },
  {
   "cell_type": "code",
   "execution_count": 60,
   "metadata": {},
   "outputs": [
    {
     "name": "stdout",
     "output_type": "stream",
     "text": [
      "<class 'pandas.core.frame.DataFrame'>\n",
      "Int64Index: 4862 entries, 0 to 4861\n",
      "Data columns (total 4 columns):\n",
      " #   Column          Non-Null Count  Dtype \n",
      "---  ------          --------------  ----- \n",
      " 0   date            4862 non-null   object\n",
      " 1   full_text       4861 non-null   object\n",
      " 2   Sentiment       4862 non-null   object\n",
      " 3   SentimentClass  4862 non-null   object\n",
      "dtypes: object(4)\n",
      "memory usage: 189.9+ KB\n"
     ]
    }
   ],
   "source": [
    "tweet_Biden.info()"
   ]
  },
  {
   "cell_type": "markdown",
   "metadata": {},
   "source": [
    "When I checked the counts of the each column, I realized that the column \"full_text\" has an NaN value and it has to be dropped."
   ]
  },
  {
   "cell_type": "code",
   "execution_count": 67,
   "metadata": {},
   "outputs": [],
   "source": [
    "tweet_Biden[tweet_Biden.isna().any(axis=1)]\n",
    "tweet_Biden = tweet_Biden.dropna(how='any')"
   ]
  },
  {
   "cell_type": "code",
   "execution_count": 68,
   "metadata": {},
   "outputs": [
    {
     "name": "stdout",
     "output_type": "stream",
     "text": [
      "<class 'pandas.core.frame.DataFrame'>\n",
      "Int64Index: 4861 entries, 0 to 4861\n",
      "Data columns (total 4 columns):\n",
      " #   Column          Non-Null Count  Dtype \n",
      "---  ------          --------------  ----- \n",
      " 0   date            4861 non-null   object\n",
      " 1   full_text       4861 non-null   object\n",
      " 2   Sentiment       4861 non-null   object\n",
      " 3   SentimentClass  4861 non-null   object\n",
      "dtypes: object(4)\n",
      "memory usage: 189.9+ KB\n"
     ]
    }
   ],
   "source": [
    "tweet_Biden.info()"
   ]
  },
  {
   "cell_type": "code",
   "execution_count": 69,
   "metadata": {},
   "outputs": [
    {
     "data": {
      "text/plain": [
       "Neutral     2051\n",
       "Positive    1881\n",
       "Negative     929\n",
       "Name: SentimentClass, dtype: int64"
      ]
     },
     "execution_count": 69,
     "metadata": {},
     "output_type": "execute_result"
    }
   ],
   "source": [
    "tweet_Biden['SentimentClass'].value_counts()"
   ]
  },
  {
   "cell_type": "code",
   "execution_count": 70,
   "metadata": {},
   "outputs": [
    {
     "data": {
      "text/plain": [
       "Neutral     42.192964\n",
       "Positive    38.695742\n",
       "Negative    19.111294\n",
       "Name: SentimentClass, dtype: float64"
      ]
     },
     "execution_count": 70,
     "metadata": {},
     "output_type": "execute_result"
    }
   ],
   "source": [
    "tweet_Biden['SentimentClass'].value_counts()/len(tweet_Biden) * 100"
   ]
  },
  {
   "cell_type": "markdown",
   "metadata": {},
   "source": [
    "The count of the each sentiment class, the dataset reveals that almost %42 of the tweets used \"Biden\" as subject are neutral that reveals that users of these tweets have neutral perspective on President-elect Biden. %39 of these tweets were positive, %19 of the tweets have negative perspective. We can understand that, most of the tweets about Biden have neutral and positive emotion."
   ]
  },
  {
   "cell_type": "code",
   "execution_count": 346,
   "metadata": {},
   "outputs": [],
   "source": [
    "length_text = tweet_Biden['full_text'].str.len()"
   ]
  },
  {
   "cell_type": "code",
   "execution_count": 347,
   "metadata": {},
   "outputs": [
    {
     "data": {
      "text/plain": [
       "140.0"
      ]
     },
     "execution_count": 347,
     "metadata": {},
     "output_type": "execute_result"
    }
   ],
   "source": [
    "max(length_text)"
   ]
  },
  {
   "cell_type": "code",
   "execution_count": 348,
   "metadata": {},
   "outputs": [
    {
     "data": {
      "text/plain": [
       "7.0"
      ]
     },
     "execution_count": 348,
     "metadata": {},
     "output_type": "execute_result"
    }
   ],
   "source": [
    "min(length_text)"
   ]
  },
  {
   "cell_type": "code",
   "execution_count": 349,
   "metadata": {},
   "outputs": [
    {
     "data": {
      "text/plain": [
       "<AxesSubplot:>"
      ]
     },
     "execution_count": 349,
     "metadata": {},
     "output_type": "execute_result"
    },
    {
     "data": {
      "image/png": "[encoded data removed]",
      "text/plain": [
       "<Figure size 432x288 with 1 Axes>"
      ]
     },
     "metadata": {
      "needs_background": "light"
     },
     "output_type": "display_data"
    }
   ],
   "source": [
    "import matplotlib.pyplot as plt\n",
    "tweet_Biden['SentimentClass'].value_counts().plot(kind='bar', width=0.5)"
   ]
  },
  {
   "cell_type": "code",
   "execution_count": 14,
   "metadata": {},
   "outputs": [],
   "source": [
    "tweet_Covid = pd.read_csv((\"/Users/bahtinur/Desktop/Tweet/Covid.csv\"), index_col=0)"
   ]
  },
  {
   "cell_type": "code",
   "execution_count": 15,
   "metadata": {},
   "outputs": [],
   "source": [
    "tweet_Covid['Sentiment'] = pd.Series([\"{0:.2f}%\".format(val * 100) for val in tweet_Covid['Sentiment']], index = tweet_Covid.index)"
   ]
  },
  {
   "cell_type": "code",
   "execution_count": 16,
   "metadata": {},
   "outputs": [
    {
     "data": {
      "text/html": [
       "<div>\n",
       "<style scoped>\n",
       "    .dataframe tbody tr th:only-of-type {\n",
       "        vertical-align: middle;\n",
       "    }\n",
       "\n",
       "    .dataframe tbody tr th {\n",
       "        vertical-align: top;\n",
       "    }\n",
       "\n",
       "    .dataframe thead th {\n",
       "        text-align: right;\n",
       "    }\n",
       "</style>\n",
       "<table border=\"1\" class=\"dataframe\">\n",
       "  <thead>\n",
       "    <tr style=\"text-align: right;\">\n",
       "      <th></th>\n",
       "      <th>id</th>\n",
       "      <th>created_at</th>\n",
       "      <th>full_text</th>\n",
       "      <th>Sentiment</th>\n",
       "      <th>SentimentClass</th>\n",
       "    </tr>\n",
       "  </thead>\n",
       "  <tbody>\n",
       "    <tr>\n",
       "      <th>0</th>\n",
       "      <td>1330567120091025412</td>\n",
       "      <td>2020-11-22 17:41:36</td>\n",
       "      <td>hairymarx   keithwmacdonal   maajidnawaz  lbc...</td>\n",
       "      <td>-60.00%</td>\n",
       "      <td>Negative</td>\n",
       "    </tr>\n",
       "    <tr>\n",
       "      <th>1</th>\n",
       "      <td>1330567119264681985</td>\n",
       "      <td>2020-11-22 17:41:36</td>\n",
       "      <td>anti vaxxers think that if they don t get the ...</td>\n",
       "      <td>45.62%</td>\n",
       "      <td>Positive</td>\n",
       "    </tr>\n",
       "    <tr>\n",
       "      <th>2</th>\n",
       "      <td>1330567118765506560</td>\n",
       "      <td>2020-11-22 17:41:36</td>\n",
       "      <td>joncoopertweets i ve said all along if it s d...</td>\n",
       "      <td>0.00%</td>\n",
       "      <td>Neutral</td>\n",
       "    </tr>\n",
       "    <tr>\n",
       "      <th>3</th>\n",
       "      <td>1330567113078169606</td>\n",
       "      <td>2020-11-22 17:41:35</td>\n",
       "      <td>lkgwin  mmpadellan will that trigger drumoft?...</td>\n",
       "      <td>50.00%</td>\n",
       "      <td>Positive</td>\n",
       "    </tr>\n",
       "    <tr>\n",
       "      <th>4</th>\n",
       "      <td>1330567108707676162</td>\n",
       "      <td>2020-11-22 17:41:34</td>\n",
       "      <td>government exploring modalities of emergency a...</td>\n",
       "      <td>0.00%</td>\n",
       "      <td>Neutral</td>\n",
       "    </tr>\n",
       "  </tbody>\n",
       "</table>\n",
       "</div>"
      ],
      "text/plain": [
       "                    id           created_at  \\\n",
       "0  1330567120091025412  2020-11-22 17:41:36   \n",
       "1  1330567119264681985  2020-11-22 17:41:36   \n",
       "2  1330567118765506560  2020-11-22 17:41:36   \n",
       "3  1330567113078169606  2020-11-22 17:41:35   \n",
       "4  1330567108707676162  2020-11-22 17:41:34   \n",
       "\n",
       "                                           full_text Sentiment SentimentClass  \n",
       "0   hairymarx   keithwmacdonal   maajidnawaz  lbc...   -60.00%       Negative  \n",
       "1  anti vaxxers think that if they don t get the ...    45.62%       Positive  \n",
       "2   joncoopertweets i ve said all along if it s d...     0.00%        Neutral  \n",
       "3   lkgwin  mmpadellan will that trigger drumoft?...    50.00%       Positive  \n",
       "4  government exploring modalities of emergency a...     0.00%        Neutral  "
      ]
     },
     "execution_count": 16,
     "metadata": {},
     "output_type": "execute_result"
    }
   ],
   "source": [
    "tweet_Covid.head()"
   ]
  },
  {
   "cell_type": "code",
   "execution_count": 17,
   "metadata": {},
   "outputs": [],
   "source": [
    "del tweet_Covid['id']\n",
    "tweet_Covid.rename(columns={'created_at':'date'}, inplace=True)"
   ]
  },
  {
   "cell_type": "code",
   "execution_count": 18,
   "metadata": {},
   "outputs": [
    {
     "name": "stdout",
     "output_type": "stream",
     "text": [
      "<class 'pandas.core.frame.DataFrame'>\n",
      "Int64Index: 4813 entries, 0 to 4812\n",
      "Data columns (total 4 columns):\n",
      " #   Column          Non-Null Count  Dtype \n",
      "---  ------          --------------  ----- \n",
      " 0   date            4813 non-null   object\n",
      " 1   full_text       4813 non-null   object\n",
      " 2   Sentiment       4813 non-null   object\n",
      " 3   SentimentClass  4813 non-null   object\n",
      "dtypes: object(4)\n",
      "memory usage: 188.0+ KB\n"
     ]
    }
   ],
   "source": [
    "tweet_Covid.info()"
   ]
  },
  {
   "cell_type": "code",
   "execution_count": 19,
   "metadata": {},
   "outputs": [
    {
     "data": {
      "text/plain": [
       "Positive    2403\n",
       "Neutral     1350\n",
       "Negative    1060\n",
       "Name: SentimentClass, dtype: int64"
      ]
     },
     "execution_count": 19,
     "metadata": {},
     "output_type": "execute_result"
    }
   ],
   "source": [
    "tweet_Covid['SentimentClass'].value_counts()"
   ]
  },
  {
   "cell_type": "code",
   "execution_count": 20,
   "metadata": {},
   "outputs": [
    {
     "data": {
      "text/plain": [
       "Positive    49.927280\n",
       "Neutral     28.049034\n",
       "Negative    22.023686\n",
       "Name: SentimentClass, dtype: float64"
      ]
     },
     "execution_count": 20,
     "metadata": {},
     "output_type": "execute_result"
    }
   ],
   "source": [
    "tweet_Covid['SentimentClass'].value_counts()/len(tweet_Covid) * 100"
   ]
  },
  {
   "cell_type": "markdown",
   "metadata": {},
   "source": [
    "When I look at the count of the each sentiment class, the dataset reveals that half of the tweets used \"Covid\" as subject are positive that reveals that users of these tweets have positive perspective on Covid pandamic. %50 of these tweets were positive, %28 are neutral and %22 of the tweets have negative emotion."
   ]
  },
  {
   "cell_type": "code",
   "execution_count": 21,
   "metadata": {},
   "outputs": [
    {
     "data": {
      "text/plain": [
       "Positive    49.927280\n",
       "Neutral     28.049034\n",
       "Negative    22.023686\n",
       "Name: SentimentClass, dtype: float64"
      ]
     },
     "execution_count": 21,
     "metadata": {},
     "output_type": "execute_result"
    }
   ],
   "source": [
    "tweet_Covid['SentimentClass'].value_counts()/len(tweet_Covid) * 100"
   ]
  },
  {
   "cell_type": "code",
   "execution_count": 22,
   "metadata": {},
   "outputs": [],
   "source": [
    "length_text = tweet_Covid['full_text'].str.len()"
   ]
  },
  {
   "cell_type": "code",
   "execution_count": 23,
   "metadata": {},
   "outputs": [
    {
     "data": {
      "text/plain": [
       "908"
      ]
     },
     "execution_count": 23,
     "metadata": {},
     "output_type": "execute_result"
    }
   ],
   "source": [
    "max(length_text)"
   ]
  },
  {
   "cell_type": "code",
   "execution_count": 24,
   "metadata": {},
   "outputs": [
    {
     "data": {
      "text/plain": [
       "4"
      ]
     },
     "execution_count": 24,
     "metadata": {},
     "output_type": "execute_result"
    }
   ],
   "source": [
    "min(length_text)"
   ]
  },
  {
   "cell_type": "code",
   "execution_count": 25,
   "metadata": {},
   "outputs": [
    {
     "data": {
      "text/plain": [
       "<AxesSubplot:>"
      ]
     },
     "execution_count": 25,
     "metadata": {},
     "output_type": "execute_result"
    },
    {
     "data": {
      "image/png": "[encoded data removed]",
      "text/plain": [
       "<Figure size 432x288 with 1 Axes>"
      ]
     },
     "metadata": {
      "needs_background": "light"
     },
     "output_type": "display_data"
    }
   ],
   "source": [
    "import matplotlib.pyplot as plt\n",
    "tweet_Covid['SentimentClass'].value_counts().plot(kind='bar', width=0.5)"
   ]
  },
  {
   "cell_type": "code",
   "execution_count": 26,
   "metadata": {},
   "outputs": [],
   "source": [
    "import tweepy\n",
    "import json\n",
    "from tweepy import StreamListener\n",
    "import tweepy as tw\n",
    "import pandas as pd"
   ]
  },
  {
   "cell_type": "code",
   "execution_count": 27,
   "metadata": {},
   "outputs": [],
   "source": [
    "tweet_stimulus = pd.read_csv((\"/Users/bahtinur/Desktop/Tweet/stimulus.csv\"), index_col=0)"
   ]
  },
  {
   "cell_type": "code",
   "execution_count": 28,
   "metadata": {},
   "outputs": [],
   "source": [
    "tweet_stimulus['Sentiment'] = pd.Series([\"{0:.2f}%\".format(val * 100) for val in tweet_stimulus['Sentiment']], index = tweet_stimulus.index)"
   ]
  },
  {
   "cell_type": "code",
   "execution_count": 29,
   "metadata": {},
   "outputs": [
    {
     "data": {
      "text/html": [
       "<div>\n",
       "<style scoped>\n",
       "    .dataframe tbody tr th:only-of-type {\n",
       "        vertical-align: middle;\n",
       "    }\n",
       "\n",
       "    .dataframe tbody tr th {\n",
       "        vertical-align: top;\n",
       "    }\n",
       "\n",
       "    .dataframe thead th {\n",
       "        text-align: right;\n",
       "    }\n",
       "</style>\n",
       "<table border=\"1\" class=\"dataframe\">\n",
       "  <thead>\n",
       "    <tr style=\"text-align: right;\">\n",
       "      <th></th>\n",
       "      <th>id</th>\n",
       "      <th>created_at</th>\n",
       "      <th>full_text</th>\n",
       "      <th>Sentiment</th>\n",
       "      <th>SentimentClass</th>\n",
       "    </tr>\n",
       "  </thead>\n",
       "  <tbody>\n",
       "    <tr>\n",
       "      <th>0</th>\n",
       "      <td>1330775252339572737</td>\n",
       "      <td>2020-11-23 07:28:39</td>\n",
       "      <td>pandemic stimulus: cancel student loans by exe...</td>\n",
       "      <td>0.00%</td>\n",
       "      <td>Neutral</td>\n",
       "    </tr>\n",
       "    <tr>\n",
       "      <th>1</th>\n",
       "      <td>1330775251664429061</td>\n",
       "      <td>2020-11-23 07:28:39</td>\n",
       "      <td>repmichaelwaltz  senrickscott  spaceforcedod ...</td>\n",
       "      <td>0.00%</td>\n",
       "      <td>Neutral</td>\n",
       "    </tr>\n",
       "    <tr>\n",
       "      <th>2</th>\n",
       "      <td>1330775152179752964</td>\n",
       "      <td>2020-11-23 07:28:15</td>\n",
       "      <td>senrickscott  america   stimulus now   .  mil...</td>\n",
       "      <td>6.82%</td>\n",
       "      <td>Positive</td>\n",
       "    </tr>\n",
       "    <tr>\n",
       "      <th>3</th>\n",
       "      <td>1330775041685020672</td>\n",
       "      <td>2020-11-23 07:27:49</td>\n",
       "      <td>markets move higher as investors eye the   ele...</td>\n",
       "      <td>25.00%</td>\n",
       "      <td>Positive</td>\n",
       "    </tr>\n",
       "    <tr>\n",
       "      <th>4</th>\n",
       "      <td>1330775013746733057</td>\n",
       "      <td>2020-11-23 07:27:42</td>\n",
       "      <td>aerosol may not be good for the environment, b...</td>\n",
       "      <td>60.00%</td>\n",
       "      <td>Positive</td>\n",
       "    </tr>\n",
       "  </tbody>\n",
       "</table>\n",
       "</div>"
      ],
      "text/plain": [
       "                    id           created_at  \\\n",
       "0  1330775252339572737  2020-11-23 07:28:39   \n",
       "1  1330775251664429061  2020-11-23 07:28:39   \n",
       "2  1330775152179752964  2020-11-23 07:28:15   \n",
       "3  1330775041685020672  2020-11-23 07:27:49   \n",
       "4  1330775013746733057  2020-11-23 07:27:42   \n",
       "\n",
       "                                           full_text Sentiment SentimentClass  \n",
       "0  pandemic stimulus: cancel student loans by exe...     0.00%        Neutral  \n",
       "1   repmichaelwaltz  senrickscott  spaceforcedod ...     0.00%        Neutral  \n",
       "2   senrickscott  america   stimulus now   .  mil...     6.82%       Positive  \n",
       "3  markets move higher as investors eye the   ele...    25.00%       Positive  \n",
       "4  aerosol may not be good for the environment, b...    60.00%       Positive  "
      ]
     },
     "execution_count": 29,
     "metadata": {},
     "output_type": "execute_result"
    }
   ],
   "source": [
    "tweet_stimulus.head()"
   ]
  },
  {
   "cell_type": "code",
   "execution_count": 30,
   "metadata": {},
   "outputs": [],
   "source": [
    "del tweet_stimulus['id']\n",
    "tweet_stimulus.rename(columns={'created_at':'date'}, inplace=True)"
   ]
  },
  {
   "cell_type": "code",
   "execution_count": 31,
   "metadata": {},
   "outputs": [
    {
     "name": "stdout",
     "output_type": "stream",
     "text": [
      "<class 'pandas.core.frame.DataFrame'>\n",
      "Int64Index: 4690 entries, 0 to 4689\n",
      "Data columns (total 4 columns):\n",
      " #   Column          Non-Null Count  Dtype \n",
      "---  ------          --------------  ----- \n",
      " 0   date            4690 non-null   object\n",
      " 1   full_text       4690 non-null   object\n",
      " 2   Sentiment       4690 non-null   object\n",
      " 3   SentimentClass  4690 non-null   object\n",
      "dtypes: object(4)\n",
      "memory usage: 183.2+ KB\n"
     ]
    }
   ],
   "source": [
    "tweet_stimulus.info()"
   ]
  },
  {
   "cell_type": "code",
   "execution_count": 32,
   "metadata": {},
   "outputs": [
    {
     "data": {
      "text/plain": [
       "Neutral     2103\n",
       "Positive    1723\n",
       "Negative     864\n",
       "Name: SentimentClass, dtype: int64"
      ]
     },
     "execution_count": 32,
     "metadata": {},
     "output_type": "execute_result"
    }
   ],
   "source": [
    "tweet_stimulus['SentimentClass'].value_counts()"
   ]
  },
  {
   "cell_type": "markdown",
   "metadata": {},
   "source": [
    "The count of the each sentiment class, the dataset reveals that almost %45 of the tweets used \"stimulus\" as subject are neutral that reveals that users of these tweets have neutral perspective on stimulus relief package. %38 of these tweets were positive, %18 of the tweets have negative perspective. We can understand that, most of the tweets about stimulus have neutral and positive emotion."
   ]
  },
  {
   "cell_type": "code",
   "execution_count": 33,
   "metadata": {},
   "outputs": [
    {
     "data": {
      "text/plain": [
       "Neutral     44.840085\n",
       "Positive    36.737740\n",
       "Negative    18.422175\n",
       "Name: SentimentClass, dtype: float64"
      ]
     },
     "execution_count": 33,
     "metadata": {},
     "output_type": "execute_result"
    }
   ],
   "source": [
    "tweet_stimulus['SentimentClass'].value_counts()/len(tweet_stimulus) * 100"
   ]
  },
  {
   "cell_type": "code",
   "execution_count": 37,
   "metadata": {},
   "outputs": [],
   "source": [
    "length_text = tweet_stimulus['full_text'].str.len()"
   ]
  },
  {
   "cell_type": "code",
   "execution_count": 38,
   "metadata": {},
   "outputs": [
    {
     "data": {
      "text/plain": [
       "143"
      ]
     },
     "execution_count": 38,
     "metadata": {},
     "output_type": "execute_result"
    }
   ],
   "source": [
    "max(length_text)"
   ]
  },
  {
   "cell_type": "code",
   "execution_count": 39,
   "metadata": {},
   "outputs": [
    {
     "data": {
      "text/plain": [
       "12"
      ]
     },
     "execution_count": 39,
     "metadata": {},
     "output_type": "execute_result"
    }
   ],
   "source": [
    "min(length_text)"
   ]
  },
  {
   "cell_type": "code",
   "execution_count": 40,
   "metadata": {},
   "outputs": [
    {
     "data": {
      "text/plain": [
       "<AxesSubplot:>"
      ]
     },
     "execution_count": 40,
     "metadata": {},
     "output_type": "execute_result"
    },
    {
     "data": {
      "image/png": "[encoded data removed]",
      "text/plain": [
       "<Figure size 432x288 with 1 Axes>"
      ]
     },
     "metadata": {
      "needs_background": "light"
     },
     "output_type": "display_data"
    }
   ],
   "source": [
    "import matplotlib.pyplot as plt\n",
    "tweet_stimulus['SentimentClass'].value_counts().plot(kind='bar', width=0.5)"
   ]
  },
  {
   "cell_type": "code",
   "execution_count": 41,
   "metadata": {},
   "outputs": [],
   "source": [
    "tweet_vaccine = pd.read_csv((\"/Users/bahtinur/Desktop/Tweet/vaccine.csv\"), index_col=0)"
   ]
  },
  {
   "cell_type": "code",
   "execution_count": 42,
   "metadata": {},
   "outputs": [],
   "source": [
    "tweet_vaccine['Sentiment'] = pd.Series([\"{0:.2f}%\".format(val * 100) for val in tweet_vaccine['Sentiment']], index = tweet_vaccine.index)"
   ]
  },
  {
   "cell_type": "code",
   "execution_count": 43,
   "metadata": {},
   "outputs": [
    {
     "data": {
      "text/html": [
       "<div>\n",
       "<style scoped>\n",
       "    .dataframe tbody tr th:only-of-type {\n",
       "        vertical-align: middle;\n",
       "    }\n",
       "\n",
       "    .dataframe tbody tr th {\n",
       "        vertical-align: top;\n",
       "    }\n",
       "\n",
       "    .dataframe thead th {\n",
       "        text-align: right;\n",
       "    }\n",
       "</style>\n",
       "<table border=\"1\" class=\"dataframe\">\n",
       "  <thead>\n",
       "    <tr style=\"text-align: right;\">\n",
       "      <th></th>\n",
       "      <th>id</th>\n",
       "      <th>created_at</th>\n",
       "      <th>full_text</th>\n",
       "      <th>Sentiment</th>\n",
       "      <th>SentimentClass</th>\n",
       "    </tr>\n",
       "  </thead>\n",
       "  <tbody>\n",
       "    <tr>\n",
       "      <th>0</th>\n",
       "      <td>1330833397120454656</td>\n",
       "      <td>2020-11-23 11:19:42</td>\n",
       "      <td>oxford uni newsletter confirms the key princip...</td>\n",
       "      <td>-20.00%</td>\n",
       "      <td>Negative</td>\n",
       "    </tr>\n",
       "    <tr>\n",
       "      <th>1</th>\n",
       "      <td>1330833393026621441</td>\n",
       "      <td>2020-11-23 11:19:41</td>\n",
       "      <td>kaarnama   vinayak jain bcoz vaccine isafe by...</td>\n",
       "      <td>0.00%</td>\n",
       "      <td>Neutral</td>\n",
       "    </tr>\n",
       "    <tr>\n",
       "      <th>2</th>\n",
       "      <td>1330833388987699201</td>\n",
       "      <td>2020-11-23 11:19:40</td>\n",
       "      <td>kieranmurphy   lilyallen yes it is. this is t...</td>\n",
       "      <td>13.64%</td>\n",
       "      <td>Positive</td>\n",
       "    </tr>\n",
       "    <tr>\n",
       "      <th>3</th>\n",
       "      <td>1330833387469332485</td>\n",
       "      <td>2020-11-23 11:19:39</td>\n",
       "      <td>lynnehall  uniofoxford   is enough to protect...</td>\n",
       "      <td>10.00%</td>\n",
       "      <td>Positive</td>\n",
       "    </tr>\n",
       "    <tr>\n",
       "      <th>4</th>\n",
       "      <td>1330833386185908225</td>\n",
       "      <td>2020-11-23 11:19:39</td>\n",
       "      <td>cjhancock ah, vaccine peak. one standout sess...</td>\n",
       "      <td>0.00%</td>\n",
       "      <td>Neutral</td>\n",
       "    </tr>\n",
       "  </tbody>\n",
       "</table>\n",
       "</div>"
      ],
      "text/plain": [
       "                    id           created_at  \\\n",
       "0  1330833397120454656  2020-11-23 11:19:42   \n",
       "1  1330833393026621441  2020-11-23 11:19:41   \n",
       "2  1330833388987699201  2020-11-23 11:19:40   \n",
       "3  1330833387469332485  2020-11-23 11:19:39   \n",
       "4  1330833386185908225  2020-11-23 11:19:39   \n",
       "\n",
       "                                           full_text Sentiment SentimentClass  \n",
       "0  oxford uni newsletter confirms the key princip...   -20.00%       Negative  \n",
       "1   kaarnama   vinayak jain bcoz vaccine isafe by...     0.00%        Neutral  \n",
       "2   kieranmurphy   lilyallen yes it is. this is t...    13.64%       Positive  \n",
       "3   lynnehall  uniofoxford   is enough to protect...    10.00%       Positive  \n",
       "4   cjhancock ah, vaccine peak. one standout sess...     0.00%        Neutral  "
      ]
     },
     "execution_count": 43,
     "metadata": {},
     "output_type": "execute_result"
    }
   ],
   "source": [
    "tweet_vaccine.head()"
   ]
  },
  {
   "cell_type": "code",
   "execution_count": 44,
   "metadata": {},
   "outputs": [
    {
     "name": "stdout",
     "output_type": "stream",
     "text": [
      "<class 'pandas.core.frame.DataFrame'>\n",
      "Int64Index: 4670 entries, 0 to 4669\n",
      "Data columns (total 5 columns):\n",
      " #   Column          Non-Null Count  Dtype \n",
      "---  ------          --------------  ----- \n",
      " 0   id              4670 non-null   int64 \n",
      " 1   created_at      4670 non-null   object\n",
      " 2   full_text       4670 non-null   object\n",
      " 3   Sentiment       4670 non-null   object\n",
      " 4   SentimentClass  4670 non-null   object\n",
      "dtypes: int64(1), object(4)\n",
      "memory usage: 218.9+ KB\n"
     ]
    }
   ],
   "source": [
    "tweet_vaccine.info()"
   ]
  },
  {
   "cell_type": "code",
   "execution_count": 45,
   "metadata": {},
   "outputs": [
    {
     "data": {
      "text/plain": [
       "Positive    2139\n",
       "Neutral     1867\n",
       "Negative     664\n",
       "Name: SentimentClass, dtype: int64"
      ]
     },
     "execution_count": 45,
     "metadata": {},
     "output_type": "execute_result"
    }
   ],
   "source": [
    "tweet_vaccine['SentimentClass'].value_counts()"
   ]
  },
  {
   "cell_type": "markdown",
   "metadata": {},
   "source": [
    "The count of the each sentiment class, the dataset reveals that almost %46 of the tweets used \"vaccine\" as subject are positive that reveals that users of these tweets have positive perspective on vaccine about Covid-19. %40 of these tweets were neutral, %15 of the tweets have negative perspective. We can understand that, most of the tweets about vaccine have neutral and positive emotion."
   ]
  },
  {
   "cell_type": "code",
   "execution_count": 46,
   "metadata": {},
   "outputs": [
    {
     "data": {
      "text/plain": [
       "Positive    45.802998\n",
       "Neutral     39.978587\n",
       "Negative    14.218415\n",
       "Name: SentimentClass, dtype: float64"
      ]
     },
     "execution_count": 46,
     "metadata": {},
     "output_type": "execute_result"
    }
   ],
   "source": [
    "tweet_vaccine['SentimentClass'].value_counts()/len(tweet_vaccine) * 100"
   ]
  },
  {
   "cell_type": "code",
   "execution_count": 47,
   "metadata": {},
   "outputs": [],
   "source": [
    "length_text = tweet_vaccine['full_text'].str.len()"
   ]
  },
  {
   "cell_type": "code",
   "execution_count": 48,
   "metadata": {},
   "outputs": [
    {
     "data": {
      "text/plain": [
       "140"
      ]
     },
     "execution_count": 48,
     "metadata": {},
     "output_type": "execute_result"
    }
   ],
   "source": [
    "max(length_text)"
   ]
  },
  {
   "cell_type": "code",
   "execution_count": 49,
   "metadata": {},
   "outputs": [
    {
     "data": {
      "text/plain": [
       "7"
      ]
     },
     "execution_count": 49,
     "metadata": {},
     "output_type": "execute_result"
    }
   ],
   "source": [
    "min(length_text)"
   ]
  },
  {
   "cell_type": "code",
   "execution_count": 50,
   "metadata": {},
   "outputs": [
    {
     "data": {
      "text/plain": [
       "<AxesSubplot:>"
      ]
     },
     "execution_count": 50,
     "metadata": {},
     "output_type": "execute_result"
    },
    {
     "data": {
      "image/png": "[encoded data removed]",
      "text/plain": [
       "<Figure size 432x288 with 1 Axes>"
      ]
     },
     "metadata": {
      "needs_background": "light"
     },
     "output_type": "display_data"
    }
   ],
   "source": [
    "import matplotlib.pyplot as plt\n",
    "tweet_vaccine['SentimentClass'].value_counts().plot(kind='bar', width=0.5)"
   ]
  },
  {
   "cell_type": "code",
   "execution_count": null,
   "metadata": {},
   "outputs": [],
   "source": []
  }
 ],
 "metadata": {
  "kernelspec": {
   "display_name": "Python 3",
   "language": "python",
   "name": "python3"
  },
  "language_info": {
   "codemirror_mode": {
    "name": "ipython",
    "version": 3
   },
   "file_extension": ".py",
   "mimetype": "text/x-python",
   "name": "python",
   "nbconvert_exporter": "python",
   "pygments_lexer": "ipython3",
   "version": "3.7.6"
  }
 },
 "nbformat": 4,
 "nbformat_minor": 4
}
