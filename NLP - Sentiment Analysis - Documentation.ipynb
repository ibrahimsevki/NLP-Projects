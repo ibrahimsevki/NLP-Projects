{
 "cells": [
  {
   "cell_type": "markdown",
   "metadata": {},
   "source": [
    "# TABLE OF CONTENT\n",
    "\n",
    "1-Sentiment Analysis of Trendy Subjects on Twitter in U.S.\n",
    "\n",
    "2-Importing the Data\n",
    "\n",
    "3-Preprocessing\n",
    "\n",
    "4-Data Wrangling\n",
    "\n",
    "5-Modeling (Natural Language Processing)\n",
    "\n",
    "     5a-Sentiment Analysis\n",
    "\n",
    "     5b-Visualization\n",
    "  \n",
    "6-Findings\n",
    "\n",
    "7-Conclusion"
   ]
  },
  {
   "cell_type": "markdown",
   "metadata": {},
   "source": [
    "   # \"Sentiment Analysis of Trendy Subjects on Twitter in US\"\n",
    "\n",
    "Twitter is one of the best indicators of the wider pulse of the world and what’s happening within it among the social media tools. In this era, people are exposing their thoughts, perspectives and ideas about a specific topic or subject via Twitter  mostly.\n",
    "\n",
    "Smart companies are learning what’s required to extract the insights that are flowing  through the Tweets, sent every moment and it has been used as an important tool to  detect relevant trends, emotions of the public about those trends.\n",
    "\n",
    "The ability to categorize opinions in the text of tweets-and specially to determine  whether the user’s attitude is positive, negative, or neutral-is highly valuable.  People are just a click away from getting huge chunk of information. With information comes people’s opinion and with this comes the positive, negative or neutral outlook of people regarding a topic. \n",
    "\n",
    "So in this project I will use a data set containing a collection of tweets about given-subjects to detect the sentiment associated with and detect the output as negative, neutral or positive accordingly using Machine Learning. \n",
    "\n",
    "Social media data is unstructured and needs to be cleaned before using it to train a sentiment analysis model-good quality data will lead to more accurate results.\n",
    "\n",
    "Sentiment Analysis involves Natural Language Processing because it deals with  human-written text and a classification task which will classify people’s opinion expressed about different subjects chosen to be evaluated. Sentiment Analysis can help us decipher the mood and emotions of general public and gather insightful information regarding the context. Sentiment Analysis is a process of analyzing data and classifying it based on the need of the research.\n",
    "\n",
    "The tweets on a specific time period, on a specific location, and on a specific subject  either an individual or anything will be the focus of this project. These tweets will  be classified by sentiment analysis and output of this analysis will be evaluated. \n",
    "\n"
   ]
  },
  {
   "cell_type": "markdown",
   "metadata": {},
   "source": [
    "__Importing the Data__\n",
    "\n",
    "In the project, I will use Twitter data by connecting the Twitter API. I will retrieve 5000 tweets about the subject I will focus with the extended mode. All the tweets will be in English as language. This project will use Streaming API that allows to collect tweets on a real-time basis based on search terms, user ids or locations.\n",
    "\n",
    "Twitter API stands for Application Programming Interface that makes interaction with computer programs and web services easy. This project will download tweets related to 5 keywords: \"Covid\", \"stimulus\", \"Trump\", \"Biden\", \"vaccine\". I intentionaly select these subjects because, these topics are the most popular keywords for last months and still they have more attractions than other issues in the thoughts of public.\n",
    "\n",
    "In order to access Twitter Streaming API, we need to get 4 pieces of information from Twitter: API key, API secret, Access token and Access token secret.\n",
    "\n",
    "I will be using a Python library called \"Tweepy\" to connect to Twitter API and download the data."
   ]
  },
  {
   "cell_type": "code",
   "execution_count": 295,
   "metadata": {},
   "outputs": [
    {
     "name": "stdout",
     "output_type": "stream",
     "text": [
      "<class 'list'>\n",
      "5000\n"
     ]
    }
   ],
   "source": [
    "import tweepy\n",
    "import json\n",
    "from tweepy import StreamListener\n",
    "import tweepy as tw\n",
    "import pandas as pd\n",
    "consumer_key=\n",
    "consumer_secret=\n",
    "access_token=\n",
    "access_token_secret=\n",
    "auth = tw.OAuthHandler(consumer_key, consumer_secret)\n",
    "auth.set_access_token(access_token, access_token_secret)\n",
    "api = tw.API(auth, wait_on_rate_limit=True)\n",
    "results = []\n",
    "for tweet in tweepy.Cursor (api.search, q = 'Trump -filter:retweets', lang = \"en\", tweet_mode='extended').items(5000): \n",
    "    results.append(tweet)\n",
    "    \n",
    "print (type(results))\n",
    "print (len(results))"
   ]
  },
  {
   "cell_type": "markdown",
   "metadata": {},
   "source": [
    "# __Preprocessing__\n",
    "\n",
    "The process of converting data to something a computer can understand is referred to as pre-processing. One of the major forms of pre-processing is to filter out useless data.\n",
    "\n",
    "Here I parse the response from the twitter API into a structured table. The response from twitter streaming API’s is in the below format:\n",
    "\n",
    "I run the codes and get the output. The data stored the relevant tweets in a dataframe which involves various variables, but in this project I will only extract the \"full_text\", \"id\" and \"the date (created_at)\" of the tweet. The data has extracted \"full_text\" because when using 'extended' mode, the text is replaced by \"full_text\" attribute. "
   ]
  },
  {
   "cell_type": "markdown",
   "metadata": {},
   "source": [
    "I found that some tweets have the exact same text but have been re-tweeted by different users. In order to extract a variety of hashtags from the tweets and to make the analysis unbiased, I decided to remove the duplicate tweets."
   ]
  },
  {
   "cell_type": "code",
   "execution_count": 78,
   "metadata": {},
   "outputs": [
    {
     "ename": "NameError",
     "evalue": "name 'results' is not defined",
     "output_type": "error",
     "traceback": [
      "\u001b[0;31m---------------------------------------------------------------------------\u001b[0m",
      "\u001b[0;31mNameError\u001b[0m                                 Traceback (most recent call last)",
      "\u001b[0;32m<ipython-input-78-88adb782c28f>\u001b[0m in \u001b[0;36m<module>\u001b[0;34m\u001b[0m\n\u001b[1;32m      7\u001b[0m \u001b[0;34m\u001b[0m\u001b[0m\n\u001b[1;32m      8\u001b[0m     \u001b[0;32mreturn\u001b[0m \u001b[0mdata_set\u001b[0m\u001b[0;34m\u001b[0m\u001b[0;34m\u001b[0m\u001b[0m\n\u001b[0;32m----> 9\u001b[0;31m \u001b[0mdata_set\u001b[0m \u001b[0;34m=\u001b[0m \u001b[0mtweets_df\u001b[0m\u001b[0;34m(\u001b[0m\u001b[0mresults\u001b[0m\u001b[0;34m)\u001b[0m\u001b[0;34m\u001b[0m\u001b[0;34m\u001b[0m\u001b[0m\n\u001b[0m",
      "\u001b[0;31mNameError\u001b[0m: name 'results' is not defined"
     ]
    }
   ],
   "source": [
    "def tweets_df(results):\n",
    "    id_list = [tweet.id for tweet  in results]\n",
    "    data_set = pd.DataFrame(id_list, columns = [\"id\"])\n",
    "    \n",
    "    data_set[\"full_text\"] = [tweet.text for tweet in results]\n",
    "    data_set[\"created_at\"] = [tweet.created_at for tweet in results]\n",
    "    \n",
    "    return data_set\n",
    "data_set = tweets_df(results)"
   ]
  },
  {
   "cell_type": "code",
   "execution_count": 297,
   "metadata": {},
   "outputs": [],
   "source": [
    "text = data_set[\"full_text\"]\n",
    "for i in range(0,len(text)):\n",
    "    txt = ' '.join(word for word in text[i] .split() if not word.startswith('https:'))\n",
    "    data_set.at[i, 'text2'] = txt\n",
    "    \n",
    "data_set.drop_duplicates('text2', inplace=True)\n",
    "data_set.reset_index(drop = True, inplace=True)\n",
    "data_set.drop('full_text', axis = 1, inplace = True)\n",
    "data_set.rename(columns={'text2': 'full_text'}, inplace=True)"
   ]
  },
  {
   "cell_type": "markdown",
   "metadata": {},
   "source": [
    "# __Data Wrangling__\n",
    "\n",
    "This project will look at the full_text of the data which involves special characters and punctuations. In Sentiment analysis, understanding and being able to use regular expressions is a prerequisite for doing any task. You can remove URLs (links) using regular expressions accessed from the \"re\" package which stands for \"regular expressions\". \n",
    "\n",
    "Below codes will remove special characters other than alphanumerics and replace it with nothing. \"re.sub\" allows to substitute a selection of characters defined using a regular expression, with something else.\n",
    "\n",
    "Capitalization is also a challenge when analyzing text data. If you are trying to create a list of unique words in your tweets, words with capitalization will be different from words that are all lowercase. To account for this, I made each word lowercase using the string method \".lower()\""
   ]
  },
  {
   "cell_type": "code",
   "execution_count": 298,
   "metadata": {},
   "outputs": [],
   "source": [
    "import re\n",
    "    #print(re.sub(r\"[^a-zA-Z0-9]+\", ' ', k))\n",
    "f = lambda x: re.sub(r\"[^a-zA-Z.,!?/:;\\\"\\'\\s]+\", ' ', x)\n",
    "data_set['full_text'] = data_set['full_text'].apply(f)"
   ]
  },
  {
   "cell_type": "code",
   "execution_count": 299,
   "metadata": {},
   "outputs": [],
   "source": [
    "f = lambda x: x.lower()\n",
    "data_set['full_text'] = data_set['full_text'].apply(f)"
   ]
  },
  {
   "attachments": {
    "image.png": {
     "image/png": "[encoded data removed]"
    }
   },
   "cell_type": "markdown",
   "metadata": {},
   "source": [
    "# Modeling (Sentiment Analysis)\n",
    "\n",
    "\n",
    "People express their opinions via tweets and these usually have sentiment associated with it i.e. positive, negative or neutral. This project will use sentiment analysis classification technique where mainly focus on the detection of sentiments in the \"full_text\". In the training process (a), our model learns to associate a particular input (\"full_text) to the corresponding output (tag) based on the \"full_test\" samples used for training. The feature extractor transfers the text input into a feature vector. Pairs of feature vectors and tags (e.g. positive, negative, or neutral) are fed into the machine learning algorithm to generate a model.\n",
    "\n",
    "In the prediction process (b), the feature extractor is used to transform unseen \"full_text\" inputs into feature vectors. These feature vectors are then fed into the model, which generates predicted tags (again, positive, negative, or neutral).\n",
    "\n",
    "![image.png](attachment:image.png)\n",
    "\n",
    "Python has an inbuilt library (TextBlob) to do this. TextBlob is a python library for Natural Language Processing (NLP). TextBlob is a simple library which supports complex analysis and operations on textual data.\n",
    "\n",
    "Sentiment of the each tweet will consist of 3 (three) range:\n",
    "\n",
    "if sentiment < 0.00, this will correspond to negative\n",
    "\n",
    "if sentiment = 0.00, this will correspond to neutral\n",
    "\n",
    "if sentiment > 0.00, this will correspond to positive.\n",
    "\n",
    "\n",
    "\n",
    "\n",
    "\n",
    "\n"
   ]
  },
  {
   "cell_type": "code",
   "execution_count": null,
   "metadata": {},
   "outputs": [],
   "source": [
    "from textblob import TextBlob\n",
    "text = data_set[\"full_text\"]\n",
    "\n",
    "for i in range(0,len(text)):\n",
    "    textB = TextBlob(text[i])\n",
    "    sentiment = textB.sentiment.polarity\n",
    "    data_set.at[i, 'Sentiment'] = sentiment\n",
    "    if sentiment <0.00:\n",
    "        SentimentClass = 'Negative'\n",
    "        data_set.at[i, 'SentimentClass'] = SentimentClass \n",
    "    elif sentiment >0.00:\n",
    "        SentimentClass = 'Positive'\n",
    "        data_set.at[i, 'SentimentClass'] = SentimentClass \n",
    "    else:\n",
    "        SentimentClass = 'Neutral'\n",
    "        data_set.at[i, 'SentimentClass'] = SentimentClass "
   ]
  },
  {
   "cell_type": "markdown",
   "metadata": {},
   "source": [
    "After making the sentiment analysis, I will save the output as a csv file. Until this step, I applied the same codes and NLP Sentiment Analysis model to each subject. I saved each output data as a seperate file to run them seperately.\n",
    "\n",
    "I will start with the analysis of Tweets about Trump:"
   ]
  },
  {
   "cell_type": "code",
   "execution_count": null,
   "metadata": {},
   "outputs": [],
   "source": [
    "tweet = data_set.to_csv(\"/Users/bahtinur/Desktop/Tweet/Trump.csv\")"
   ]
  },
  {
   "cell_type": "markdown",
   "metadata": {},
   "source": [
    "I will read the file and reveal the output."
   ]
  },
  {
   "cell_type": "code",
   "execution_count": 79,
   "metadata": {},
   "outputs": [],
   "source": [
    "import pandas as pd\n",
    "\n",
    "tweet_Trump = pd.read_csv((\"/Users/bahtinur/Desktop/Tweet/Trump.csv\"), index_col=0)"
   ]
  },
  {
   "cell_type": "code",
   "execution_count": 80,
   "metadata": {},
   "outputs": [
    {
     "data": {
      "text/html": [
       "<div>\n",
       "<style scoped>\n",
       "    .dataframe tbody tr th:only-of-type {\n",
       "        vertical-align: middle;\n",
       "    }\n",
       "\n",
       "    .dataframe tbody tr th {\n",
       "        vertical-align: top;\n",
       "    }\n",
       "\n",
       "    .dataframe thead th {\n",
       "        text-align: right;\n",
       "    }\n",
       "</style>\n",
       "<table border=\"1\" class=\"dataframe\">\n",
       "  <thead>\n",
       "    <tr style=\"text-align: right;\">\n",
       "      <th></th>\n",
       "      <th>id</th>\n",
       "      <th>created_at</th>\n",
       "      <th>full_text</th>\n",
       "      <th>Sentiment</th>\n",
       "      <th>SentimentClass</th>\n",
       "      <th>StopWords</th>\n",
       "      <th>Stemming</th>\n",
       "      <th>Lemmatizing</th>\n",
       "    </tr>\n",
       "  </thead>\n",
       "  <tbody>\n",
       "    <tr>\n",
       "      <th>0</th>\n",
       "      <td>1330756653721948162</td>\n",
       "      <td>2020-11-23 06:14:45</td>\n",
       "      <td>excitedamerica  msnbc you are correct, the st...</td>\n",
       "      <td>0.100000</td>\n",
       "      <td>Positive</td>\n",
       "      <td>excitedamerica msnbc correct, states elections...</td>\n",
       "      <td>excitedamerica msnbc correct, state elections,...</td>\n",
       "      <td>excitedamerica msnbc correct, state elections,...</td>\n",
       "    </tr>\n",
       "    <tr>\n",
       "      <th>1</th>\n",
       "      <td>1330756652631433218</td>\n",
       "      <td>2020-11-23 06:14:44</td>\n",
       "      <td>realdonaldtrump at a saturday session on inte...</td>\n",
       "      <td>-0.100000</td>\n",
       "      <td>Negative</td>\n",
       "      <td>realdonaldtrump saturday session international...</td>\n",
       "      <td>realdonaldtrump saturday session intern vaccin...</td>\n",
       "      <td>realdonaldtrump saturday session intern vaccin...</td>\n",
       "    </tr>\n",
       "    <tr>\n",
       "      <th>2</th>\n",
       "      <td>1330756651910094849</td>\n",
       "      <td>2020-11-23 06:14:44</td>\n",
       "      <td>jeepmtn  matthew trump there is integrity in ...</td>\n",
       "      <td>0.233333</td>\n",
       "      <td>Positive</td>\n",
       "      <td>jeepmtn matthew trump integrity election proce...</td>\n",
       "      <td>jeepmtn matthew trump integr elect process. th...</td>\n",
       "      <td>jeepmtn matthew trump integr elect process. th...</td>\n",
       "    </tr>\n",
       "    <tr>\n",
       "      <th>3</th>\n",
       "      <td>1330756650827911171</td>\n",
       "      <td>2020-11-23 06:14:44</td>\n",
       "      <td>meidas kelly seems kinda cheap for trump, i d...</td>\n",
       "      <td>0.400000</td>\n",
       "      <td>Positive</td>\n",
       "      <td>meidas kelly seems kinda cheap trump, think want</td>\n",
       "      <td>meida kelli seem kinda cheap trump, think want</td>\n",
       "      <td>meida kelli seem kinda cheap trump, think want</td>\n",
       "    </tr>\n",
       "    <tr>\n",
       "      <th>4</th>\n",
       "      <td>1330756650584530944</td>\n",
       "      <td>2020-11-23 06:14:44</td>\n",
       "      <td>brianinmississ  steb  hoping trump   his gang...</td>\n",
       "      <td>0.190000</td>\n",
       "      <td>Positive</td>\n",
       "      <td>brianinmississ steb hoping trump gang somehow ...</td>\n",
       "      <td>brianinmississ steb hope trump gang somehow ma...</td>\n",
       "      <td>brianinmississ steb hope trump gang somehow ma...</td>\n",
       "    </tr>\n",
       "  </tbody>\n",
       "</table>\n",
       "</div>"
      ],
      "text/plain": [
       "                    id           created_at  \\\n",
       "0  1330756653721948162  2020-11-23 06:14:45   \n",
       "1  1330756652631433218  2020-11-23 06:14:44   \n",
       "2  1330756651910094849  2020-11-23 06:14:44   \n",
       "3  1330756650827911171  2020-11-23 06:14:44   \n",
       "4  1330756650584530944  2020-11-23 06:14:44   \n",
       "\n",
       "                                           full_text  Sentiment  \\\n",
       "0   excitedamerica  msnbc you are correct, the st...   0.100000   \n",
       "1   realdonaldtrump at a saturday session on inte...  -0.100000   \n",
       "2   jeepmtn  matthew trump there is integrity in ...   0.233333   \n",
       "3   meidas kelly seems kinda cheap for trump, i d...   0.400000   \n",
       "4   brianinmississ  steb  hoping trump   his gang...   0.190000   \n",
       "\n",
       "  SentimentClass                                          StopWords  \\\n",
       "0       Positive  excitedamerica msnbc correct, states elections...   \n",
       "1       Negative  realdonaldtrump saturday session international...   \n",
       "2       Positive  jeepmtn matthew trump integrity election proce...   \n",
       "3       Positive   meidas kelly seems kinda cheap trump, think want   \n",
       "4       Positive  brianinmississ steb hoping trump gang somehow ...   \n",
       "\n",
       "                                            Stemming  \\\n",
       "0  excitedamerica msnbc correct, state elections,...   \n",
       "1  realdonaldtrump saturday session intern vaccin...   \n",
       "2  jeepmtn matthew trump integr elect process. th...   \n",
       "3     meida kelli seem kinda cheap trump, think want   \n",
       "4  brianinmississ steb hope trump gang somehow ma...   \n",
       "\n",
       "                                         Lemmatizing  \n",
       "0  excitedamerica msnbc correct, state elections,...  \n",
       "1  realdonaldtrump saturday session intern vaccin...  \n",
       "2  jeepmtn matthew trump integr elect process. th...  \n",
       "3     meida kelli seem kinda cheap trump, think want  \n",
       "4  brianinmississ steb hope trump gang somehow ma...  "
      ]
     },
     "execution_count": 80,
     "metadata": {},
     "output_type": "execute_result"
    }
   ],
   "source": [
    "tweet_Trump.head()"
   ]
  },
  {
   "cell_type": "markdown",
   "metadata": {},
   "source": [
    "# Step 1) Removal of Stop Words (Cleaning)\n",
    "\n",
    "Stopwords are often added to sentences to make them grammatically correct, for example, words such as a, is, an, the, and etc. These stopwords carry minimal to no importance and are available plenty on open texts, articles, comments etc. These should be removed so machine learning algorithms can better focus on words which define the meaning/idea of the text. I am using list from nltk.corpus and this list can further be enhanced by adding or removing custom words based on the situation at hand."
   ]
  },
  {
   "cell_type": "code",
   "execution_count": 77,
   "metadata": {},
   "outputs": [
    {
     "name": "stdout",
     "output_type": "stream",
     "text": [
      "0     excitedamerica  msnbc you are correct, the st...\n",
      "1     realdonaldtrump at a saturday session on inte...\n",
      "2     jeepmtn  matthew trump there is integrity in ...\n",
      "3     meidas kelly seems kinda cheap for trump, i d...\n",
      "4     brianinmississ  steb  hoping trump   his gang...\n",
      "Name: full_text, dtype: object\n",
      "-------Remove Stop Word------\n",
      "0    excitedamerica msnbc correct, states elections...\n",
      "1    realdonaldtrump saturday session international...\n",
      "2    jeepmtn matthew trump integrity election proce...\n",
      "3     meidas kelly seems kinda cheap trump, think want\n",
      "4    brianinmississ steb hoping trump gang somehow ...\n",
      "Name: StopWords, dtype: object\n"
     ]
    }
   ],
   "source": [
    "from nltk.corpus import stopwords\n",
    "from nltk.tokenize import word_tokenize\n",
    "stop = stopwords.words(\"english\")\n",
    "\n",
    "print((tweet_Trump['full_text']).head())\n",
    "print('-------Remove Stop Word------')\n",
    "tweet_Trump['StopWords'] = tweet_Trump['full_text'].apply(lambda x: ' '.join([word for word in x.split() if word not in (stop)]))\n",
    "print((tweet_Trump['StopWords']).head())"
   ]
  },
  {
   "cell_type": "markdown",
   "metadata": {},
   "source": [
    "# Step 2) Stemming\n",
    "\n",
    "Stemming is the process of reducing inflected/derived words to their word stem, base or root form. The stem need not be identical to original word. There are many ways to perform stemming such as lookup table, suffix-stripping algorithms etc. These mainly rely on chopping-off ‘s’, ‘es’, ‘ed’, ‘ing’, ‘ly’ etc from the end of the words and sometimes the conversion is not desirable. But nonetheless, stemming helps us in standardizing text."
   ]
  },
  {
   "cell_type": "code",
   "execution_count": 3,
   "metadata": {},
   "outputs": [
    {
     "name": "stdout",
     "output_type": "stream",
     "text": [
      "0    excitedamerica msnbc correct, states elections...\n",
      "1    realdonaldtrump saturday session international...\n",
      "2    jeepmtn matthew trump integrity election proce...\n",
      "3     meidas kelly seems kinda cheap trump, think want\n",
      "4    brianinmississ steb hoping trump gang somehow ...\n",
      "Name: StopWords, dtype: object\n",
      "-------Stemming------\n",
      "0    excitedamerica msnbc correct, state elections,...\n",
      "1    realdonaldtrump saturday session intern vaccin...\n",
      "2    jeepmtn matthew trump integr elect process. th...\n",
      "3       meida kelli seem kinda cheap trump, think want\n",
      "4    brianinmississ steb hope trump gang somehow ma...\n",
      "Name: Stemming, dtype: object\n"
     ]
    }
   ],
   "source": [
    "from nltk.stem.porter import PorterStemmer\n",
    "ps = PorterStemmer()\n",
    "print((tweet_Trump['StopWords']).head())\n",
    "print('-------Stemming------')\n",
    "tweet_Trump['Stemming'] = tweet_Trump['StopWords'].apply(lambda x: ' '.join([ps.stem(word) for word in x.split()]))\n",
    "print((tweet_Trump['Stemming']).head())"
   ]
  },
  {
   "cell_type": "markdown",
   "metadata": {},
   "source": [
    "# Step 3) Lemmatization\n",
    "\n",
    "Though stemming and lemmatization both generate the root form of inflected/desired words, but lemmatization is an advanced form of stemming. Stemming might not result in actual word, whereas lemmatization does conversion properly with the use of vocabulary, normally aiming to remove inflectional endings only and to return the base or dictionary form of a word, which is known as the lemma."
   ]
  },
  {
   "cell_type": "code",
   "execution_count": 4,
   "metadata": {},
   "outputs": [
    {
     "name": "stdout",
     "output_type": "stream",
     "text": [
      "0    excitedamerica msnbc correct, state elections,...\n",
      "1    realdonaldtrump saturday session intern vaccin...\n",
      "2    jeepmtn matthew trump integr elect process. th...\n",
      "3       meida kelli seem kinda cheap trump, think want\n",
      "4    brianinmississ steb hope trump gang somehow ma...\n",
      "Name: Stemming, dtype: object\n",
      "-------Lemmazation------\n",
      "0    excitedamerica msnbc correct, state elections,...\n",
      "1    realdonaldtrump saturday session intern vaccin...\n",
      "2    jeepmtn matthew trump integr elect process. th...\n",
      "3       meida kelli seem kinda cheap trump, think want\n",
      "4    brianinmississ steb hope trump gang somehow ma...\n",
      "Name: Lemmatizing, dtype: object\n"
     ]
    }
   ],
   "source": [
    "from nltk.stem import WordNetLemmatizer\n",
    "lemmatizer = WordNetLemmatizer()\n",
    "print((tweet_Trump['Stemming']).head())\n",
    "print('-------Lemmazation------')\n",
    "tweet_Trump['Lemmatizing'] = tweet_Trump['Stemming'].apply(lambda x: ' '.join([lemmatizer.lemmatize(word) for word in x.split()]))\n",
    "print((tweet_Trump['Lemmatizing']).head())"
   ]
  },
  {
   "cell_type": "markdown",
   "metadata": {},
   "source": [
    "# Sentiment of Lemmatized Data"
   ]
  },
  {
   "cell_type": "code",
   "execution_count": 5,
   "metadata": {},
   "outputs": [],
   "source": [
    "from textblob import TextBlob\n",
    "text = tweet_Trump[\"Lemmatizing\"]\n",
    "\n",
    "for i in range(0,len(text)):\n",
    "    textB = TextBlob(text[i])\n",
    "    sentiment = textB.sentiment.polarity\n",
    "    tweet_Trump.at[i, 'Sentiment'] = sentiment\n",
    "    if sentiment <0.00:\n",
    "        SentimentClass = 'Negative'\n",
    "        tweet_Trump.at[i, 'SentimentClass'] = SentimentClass \n",
    "    elif sentiment >0.00:\n",
    "        SentimentClass = 'Positive'\n",
    "        tweet_Trump.at[i, 'SentimentClass'] = SentimentClass \n",
    "    else:\n",
    "        SentimentClass = 'Neutral'\n",
    "        tweet_Trump.at[i, 'SentimentClass'] = SentimentClass "
   ]
  },
  {
   "cell_type": "code",
   "execution_count": 5,
   "metadata": {},
   "outputs": [],
   "source": [
    "tweet = tweet_Trump.to_csv(\"/Users/bahtinur/Desktop/Tweet/Trump.csv\")"
   ]
  },
  {
   "cell_type": "code",
   "execution_count": 82,
   "metadata": {},
   "outputs": [],
   "source": [
    "import pandas as pd\n",
    "\n",
    "tweet_Trump = pd.read_csv((\"/Users/bahtinur/Desktop/Tweet/Trump.csv\"), index_col=0)"
   ]
  },
  {
   "cell_type": "markdown",
   "metadata": {},
   "source": [
    "# Dropping Irrelevant Columns"
   ]
  },
  {
   "cell_type": "code",
   "execution_count": 83,
   "metadata": {},
   "outputs": [
    {
     "data": {
      "text/html": [
       "<div>\n",
       "<style scoped>\n",
       "    .dataframe tbody tr th:only-of-type {\n",
       "        vertical-align: middle;\n",
       "    }\n",
       "\n",
       "    .dataframe tbody tr th {\n",
       "        vertical-align: top;\n",
       "    }\n",
       "\n",
       "    .dataframe thead th {\n",
       "        text-align: right;\n",
       "    }\n",
       "</style>\n",
       "<table border=\"1\" class=\"dataframe\">\n",
       "  <thead>\n",
       "    <tr style=\"text-align: right;\">\n",
       "      <th></th>\n",
       "      <th>id</th>\n",
       "      <th>created_at</th>\n",
       "      <th>Sentiment</th>\n",
       "      <th>SentimentClass</th>\n",
       "      <th>Lemmatizing</th>\n",
       "    </tr>\n",
       "  </thead>\n",
       "  <tbody>\n",
       "    <tr>\n",
       "      <th>0</th>\n",
       "      <td>1330756653721948162</td>\n",
       "      <td>2020-11-23 06:14:45</td>\n",
       "      <td>0.100000</td>\n",
       "      <td>Positive</td>\n",
       "      <td>excitedamerica msnbc correct, state elections,...</td>\n",
       "    </tr>\n",
       "    <tr>\n",
       "      <th>1</th>\n",
       "      <td>1330756652631433218</td>\n",
       "      <td>2020-11-23 06:14:44</td>\n",
       "      <td>-0.100000</td>\n",
       "      <td>Negative</td>\n",
       "      <td>realdonaldtrump saturday session intern vaccin...</td>\n",
       "    </tr>\n",
       "    <tr>\n",
       "      <th>2</th>\n",
       "      <td>1330756651910094849</td>\n",
       "      <td>2020-11-23 06:14:44</td>\n",
       "      <td>0.233333</td>\n",
       "      <td>Positive</td>\n",
       "      <td>jeepmtn matthew trump integr elect process. th...</td>\n",
       "    </tr>\n",
       "    <tr>\n",
       "      <th>3</th>\n",
       "      <td>1330756650827911171</td>\n",
       "      <td>2020-11-23 06:14:44</td>\n",
       "      <td>0.400000</td>\n",
       "      <td>Positive</td>\n",
       "      <td>meida kelli seem kinda cheap trump, think want</td>\n",
       "    </tr>\n",
       "    <tr>\n",
       "      <th>4</th>\n",
       "      <td>1330756650584530944</td>\n",
       "      <td>2020-11-23 06:14:44</td>\n",
       "      <td>0.190000</td>\n",
       "      <td>Positive</td>\n",
       "      <td>brianinmississ steb hope trump gang somehow ma...</td>\n",
       "    </tr>\n",
       "  </tbody>\n",
       "</table>\n",
       "</div>"
      ],
      "text/plain": [
       "                    id           created_at  Sentiment SentimentClass  \\\n",
       "0  1330756653721948162  2020-11-23 06:14:45   0.100000       Positive   \n",
       "1  1330756652631433218  2020-11-23 06:14:44  -0.100000       Negative   \n",
       "2  1330756651910094849  2020-11-23 06:14:44   0.233333       Positive   \n",
       "3  1330756650827911171  2020-11-23 06:14:44   0.400000       Positive   \n",
       "4  1330756650584530944  2020-11-23 06:14:44   0.190000       Positive   \n",
       "\n",
       "                                         Lemmatizing  \n",
       "0  excitedamerica msnbc correct, state elections,...  \n",
       "1  realdonaldtrump saturday session intern vaccin...  \n",
       "2  jeepmtn matthew trump integr elect process. th...  \n",
       "3     meida kelli seem kinda cheap trump, think want  \n",
       "4  brianinmississ steb hope trump gang somehow ma...  "
      ]
     },
     "execution_count": 83,
     "metadata": {},
     "output_type": "execute_result"
    }
   ],
   "source": [
    "tweet_Trump.drop(['StopWords', 'Stemming', 'full_text'], axis=1, inplace = True)\n",
    "\n",
    "tweet_Trump.head()"
   ]
  },
  {
   "cell_type": "code",
   "execution_count": 84,
   "metadata": {},
   "outputs": [],
   "source": [
    "sent = {'Positive':'1','Negative':'2','Neutral':'0'}\n",
    "tweet_Trump['SentimentClass'] = tweet_Trump['SentimentClass'].map(sent)"
   ]
  },
  {
   "cell_type": "code",
   "execution_count": 85,
   "metadata": {},
   "outputs": [
    {
     "data": {
      "text/html": [
       "<div>\n",
       "<style scoped>\n",
       "    .dataframe tbody tr th:only-of-type {\n",
       "        vertical-align: middle;\n",
       "    }\n",
       "\n",
       "    .dataframe tbody tr th {\n",
       "        vertical-align: top;\n",
       "    }\n",
       "\n",
       "    .dataframe thead th {\n",
       "        text-align: right;\n",
       "    }\n",
       "</style>\n",
       "<table border=\"1\" class=\"dataframe\">\n",
       "  <thead>\n",
       "    <tr style=\"text-align: right;\">\n",
       "      <th></th>\n",
       "      <th>id</th>\n",
       "      <th>created_at</th>\n",
       "      <th>Sentiment</th>\n",
       "      <th>SentimentClass</th>\n",
       "      <th>Lemmatizing</th>\n",
       "    </tr>\n",
       "  </thead>\n",
       "  <tbody>\n",
       "    <tr>\n",
       "      <th>0</th>\n",
       "      <td>1330756653721948162</td>\n",
       "      <td>2020-11-23 06:14:45</td>\n",
       "      <td>0.100000</td>\n",
       "      <td>1</td>\n",
       "      <td>excitedamerica msnbc correct, state elections,...</td>\n",
       "    </tr>\n",
       "    <tr>\n",
       "      <th>1</th>\n",
       "      <td>1330756652631433218</td>\n",
       "      <td>2020-11-23 06:14:44</td>\n",
       "      <td>-0.100000</td>\n",
       "      <td>2</td>\n",
       "      <td>realdonaldtrump saturday session intern vaccin...</td>\n",
       "    </tr>\n",
       "    <tr>\n",
       "      <th>2</th>\n",
       "      <td>1330756651910094849</td>\n",
       "      <td>2020-11-23 06:14:44</td>\n",
       "      <td>0.233333</td>\n",
       "      <td>1</td>\n",
       "      <td>jeepmtn matthew trump integr elect process. th...</td>\n",
       "    </tr>\n",
       "    <tr>\n",
       "      <th>3</th>\n",
       "      <td>1330756650827911171</td>\n",
       "      <td>2020-11-23 06:14:44</td>\n",
       "      <td>0.400000</td>\n",
       "      <td>1</td>\n",
       "      <td>meida kelli seem kinda cheap trump, think want</td>\n",
       "    </tr>\n",
       "    <tr>\n",
       "      <th>4</th>\n",
       "      <td>1330756650584530944</td>\n",
       "      <td>2020-11-23 06:14:44</td>\n",
       "      <td>0.190000</td>\n",
       "      <td>1</td>\n",
       "      <td>brianinmississ steb hope trump gang somehow ma...</td>\n",
       "    </tr>\n",
       "  </tbody>\n",
       "</table>\n",
       "</div>"
      ],
      "text/plain": [
       "                    id           created_at  Sentiment SentimentClass  \\\n",
       "0  1330756653721948162  2020-11-23 06:14:45   0.100000              1   \n",
       "1  1330756652631433218  2020-11-23 06:14:44  -0.100000              2   \n",
       "2  1330756651910094849  2020-11-23 06:14:44   0.233333              1   \n",
       "3  1330756650827911171  2020-11-23 06:14:44   0.400000              1   \n",
       "4  1330756650584530944  2020-11-23 06:14:44   0.190000              1   \n",
       "\n",
       "                                         Lemmatizing  \n",
       "0  excitedamerica msnbc correct, state elections,...  \n",
       "1  realdonaldtrump saturday session intern vaccin...  \n",
       "2  jeepmtn matthew trump integr elect process. th...  \n",
       "3     meida kelli seem kinda cheap trump, think want  \n",
       "4  brianinmississ steb hope trump gang somehow ma...  "
      ]
     },
     "execution_count": 85,
     "metadata": {},
     "output_type": "execute_result"
    }
   ],
   "source": [
    "tweet_Trump.head()"
   ]
  },
  {
   "cell_type": "code",
   "execution_count": 86,
   "metadata": {},
   "outputs": [],
   "source": [
    "tweet_Trump.rename(columns={'Lemmatizing':'text'}, inplace=True)\n"
   ]
  },
  {
   "cell_type": "code",
   "execution_count": 87,
   "metadata": {},
   "outputs": [
    {
     "data": {
      "text/html": [
       "<div>\n",
       "<style scoped>\n",
       "    .dataframe tbody tr th:only-of-type {\n",
       "        vertical-align: middle;\n",
       "    }\n",
       "\n",
       "    .dataframe tbody tr th {\n",
       "        vertical-align: top;\n",
       "    }\n",
       "\n",
       "    .dataframe thead th {\n",
       "        text-align: right;\n",
       "    }\n",
       "</style>\n",
       "<table border=\"1\" class=\"dataframe\">\n",
       "  <thead>\n",
       "    <tr style=\"text-align: right;\">\n",
       "      <th></th>\n",
       "      <th>id</th>\n",
       "      <th>created_at</th>\n",
       "      <th>Sentiment</th>\n",
       "      <th>SentimentClass</th>\n",
       "      <th>text</th>\n",
       "    </tr>\n",
       "  </thead>\n",
       "  <tbody>\n",
       "    <tr>\n",
       "      <th>0</th>\n",
       "      <td>1330756653721948162</td>\n",
       "      <td>2020-11-23 06:14:45</td>\n",
       "      <td>0.100000</td>\n",
       "      <td>1</td>\n",
       "      <td>excitedamerica msnbc correct, state elections,...</td>\n",
       "    </tr>\n",
       "    <tr>\n",
       "      <th>1</th>\n",
       "      <td>1330756652631433218</td>\n",
       "      <td>2020-11-23 06:14:44</td>\n",
       "      <td>-0.100000</td>\n",
       "      <td>2</td>\n",
       "      <td>realdonaldtrump saturday session intern vaccin...</td>\n",
       "    </tr>\n",
       "    <tr>\n",
       "      <th>2</th>\n",
       "      <td>1330756651910094849</td>\n",
       "      <td>2020-11-23 06:14:44</td>\n",
       "      <td>0.233333</td>\n",
       "      <td>1</td>\n",
       "      <td>jeepmtn matthew trump integr elect process. th...</td>\n",
       "    </tr>\n",
       "    <tr>\n",
       "      <th>3</th>\n",
       "      <td>1330756650827911171</td>\n",
       "      <td>2020-11-23 06:14:44</td>\n",
       "      <td>0.400000</td>\n",
       "      <td>1</td>\n",
       "      <td>meida kelli seem kinda cheap trump, think want</td>\n",
       "    </tr>\n",
       "    <tr>\n",
       "      <th>4</th>\n",
       "      <td>1330756650584530944</td>\n",
       "      <td>2020-11-23 06:14:44</td>\n",
       "      <td>0.190000</td>\n",
       "      <td>1</td>\n",
       "      <td>brianinmississ steb hope trump gang somehow ma...</td>\n",
       "    </tr>\n",
       "  </tbody>\n",
       "</table>\n",
       "</div>"
      ],
      "text/plain": [
       "                    id           created_at  Sentiment SentimentClass  \\\n",
       "0  1330756653721948162  2020-11-23 06:14:45   0.100000              1   \n",
       "1  1330756652631433218  2020-11-23 06:14:44  -0.100000              2   \n",
       "2  1330756651910094849  2020-11-23 06:14:44   0.233333              1   \n",
       "3  1330756650827911171  2020-11-23 06:14:44   0.400000              1   \n",
       "4  1330756650584530944  2020-11-23 06:14:44   0.190000              1   \n",
       "\n",
       "                                                text  \n",
       "0  excitedamerica msnbc correct, state elections,...  \n",
       "1  realdonaldtrump saturday session intern vaccin...  \n",
       "2  jeepmtn matthew trump integr elect process. th...  \n",
       "3     meida kelli seem kinda cheap trump, think want  \n",
       "4  brianinmississ steb hope trump gang somehow ma...  "
      ]
     },
     "execution_count": 87,
     "metadata": {},
     "output_type": "execute_result"
    }
   ],
   "source": [
    "tweet_Trump.head()"
   ]
  },
  {
   "cell_type": "code",
   "execution_count": 88,
   "metadata": {},
   "outputs": [
    {
     "name": "stdout",
     "output_type": "stream",
     "text": [
      "<class 'pandas.core.frame.DataFrame'>\n",
      "Int64Index: 4893 entries, 0 to 4892\n",
      "Data columns (total 5 columns):\n",
      " #   Column          Non-Null Count  Dtype  \n",
      "---  ------          --------------  -----  \n",
      " 0   id              4893 non-null   int64  \n",
      " 1   created_at      4893 non-null   object \n",
      " 2   Sentiment       4893 non-null   float64\n",
      " 3   SentimentClass  4893 non-null   object \n",
      " 4   text            4893 non-null   object \n",
      "dtypes: float64(1), int64(1), object(3)\n",
      "memory usage: 229.4+ KB\n"
     ]
    }
   ],
   "source": [
    "tweet_Trump.info()"
   ]
  },
  {
   "cell_type": "code",
   "execution_count": 93,
   "metadata": {},
   "outputs": [
    {
     "data": {
      "text/plain": [
       "Positive    1922\n",
       "Neutral     1879\n",
       "Negative    1092\n",
       "Name: SentimentClass, dtype: int64"
      ]
     },
     "execution_count": 93,
     "metadata": {},
     "output_type": "execute_result"
    }
   ],
   "source": [
    "sent = {'1':'Positive','2':'Negative','0':'Neutral'}\n",
    "tweet_Trump['SentimentClass'] = tweet_Trump['SentimentClass'].map(sent)\n",
    "tweet_Trump['SentimentClass'].value_counts()"
   ]
  },
  {
   "cell_type": "code",
   "execution_count": 94,
   "metadata": {},
   "outputs": [
    {
     "data": {
      "text/plain": [
       "<AxesSubplot:>"
      ]
     },
     "execution_count": 94,
     "metadata": {},
     "output_type": "execute_result"
    },
    {
     "data": {
      "image/png": "[encoded data removed]",
      "text/plain": [
       "<Figure size 432x288 with 1 Axes>"
      ]
     },
     "metadata": {
      "needs_background": "light"
     },
     "output_type": "display_data"
    }
   ],
   "source": [
    "import matplotlib.pyplot as plt\n",
    "tweet_Trump['SentimentClass'].value_counts().plot(kind='bar', width=0.5)"
   ]
  },
  {
   "cell_type": "markdown",
   "metadata": {},
   "source": [
    "# Let's divide our dataset into feature and label sets.\n",
    "\n",
    "Our feature set will consist of tweets only. If we look at our dataset, the 5th column contains the tweet text. Note that the index of the column will be 4 since pandas columns follow zero-based indexing scheme where the first column is called 0th column. Our label set will consist of the SentimentClass of the tweet that we have to predict. The SentimentClass of the tweet is in the 4th column (index 3). To create a feature and a label set, we can use the iloc method off the pandas data frame."
   ]
  },
  {
   "cell_type": "code",
   "execution_count": 91,
   "metadata": {},
   "outputs": [],
   "source": [
    "X = tweet_Trump.iloc[:, 4].values\n",
    "y = tweet_Trump.iloc[:, 3].values"
   ]
  },
  {
   "cell_type": "markdown",
   "metadata": {},
   "source": [
    "# Representing Text in Numeric Form\n",
    "\n",
    "Statistical algorithms use mathematics to train machine learning models. However, mathematics only work with numbers. To make statistical algorithms work with text, we first have to convert text to numbers.\n",
    "\n",
    "In our project, we will use TF-IDF for vectorization. The idea behind the TF-IDF approach is that the words that occur less in all the documents and more in individual document contribute more towards classification.\n",
    "\n",
    "Python's Scikit-Learn library contains the TfidfVectorizer class that can be used to convert text features into TF-IDF feature vectors. The following script performs this:"
   ]
  },
  {
   "cell_type": "code",
   "execution_count": 92,
   "metadata": {},
   "outputs": [],
   "source": [
    "from nltk.corpus import stopwords\n",
    "from sklearn.feature_extraction.text import TfidfVectorizer\n",
    "\n",
    "vectorizer = TfidfVectorizer (max_features=250, min_df=7, max_df=0.8)\n",
    "X = vectorizer.fit_transform(X).toarray()"
   ]
  },
  {
   "cell_type": "markdown",
   "metadata": {},
   "source": [
    "In the code above, we define that the max_features should be 250, which means that it only uses the 250 most frequently occurring words to create a bag of words feature vector. Words that occur less frequently are not very useful for classification.\n",
    "\n",
    "Similarly, max_df specifies that only use those words that occur in a maximum of 80% of the documents. Words that occur in all documents are too common and are not very useful for classification. Similarly, min-df is set to 7 which shows that include words that occur in at least 7 documents."
   ]
  },
  {
   "cell_type": "markdown",
   "metadata": {},
   "source": [
    "# Dividing Data into Training and Test Sets\n",
    "\n",
    "In the previous section, we converted the data into the numeric form. As the last step before we train our algorithms, we need to divide our data into training and testing sets. The training set will be used to train the algorithm while the test set will be used to evaluate the performance of the machine learning model.\n",
    "\n",
    "Execute the following code:"
   ]
  },
  {
   "cell_type": "code",
   "execution_count": 57,
   "metadata": {},
   "outputs": [],
   "source": [
    "from sklearn.model_selection import train_test_split\n",
    "\n",
    "X_train, X_test, y_train, y_test = train_test_split(X, y, test_size=0.1, random_state=0)"
   ]
  },
  {
   "cell_type": "markdown",
   "metadata": {},
   "source": [
    "In the code above we use the train_test_split class from the sklearn.model_selection module to divide our data into training and testing set. The method takes the feature set as the first parameter, the label set as the second parameter, and a value for the test_size parameter. We specified a value of 0.1 for test_size which means that our data set will be split into two sets of 90% and 10% data. We will use the 90% dataset for training and 10% dataset for testing."
   ]
  },
  {
   "cell_type": "code",
   "execution_count": 58,
   "metadata": {},
   "outputs": [
    {
     "data": {
      "text/plain": [
       "((4893, 250), (4893,), (4403, 250), (4403,), (490, 250), (490,))"
      ]
     },
     "execution_count": 58,
     "metadata": {},
     "output_type": "execute_result"
    }
   ],
   "source": [
    "X.shape, y.shape, X_train.shape, y_train.shape, X_test.shape, y_test.shape"
   ]
  },
  {
   "cell_type": "markdown",
   "metadata": {},
   "source": [
    "# Training the Model\n",
    "\n",
    "Once data is split into training and test set, machine learning algorithms can be used to learn from the training data. You can use any machine learning algorithm. However, we will use the Random Forest algorithm, owing to its ability to act upon non-normalized data.\n",
    "\n",
    "The sklearn.ensemble module contains the RandomForestClassifier class that can be used to train the machine learning model using the random forest algorithm. To do so, we need to call the fit method on the RandomForestClassifier class and pass it our training features and labels, as parameters. Look at the following script:"
   ]
  },
  {
   "cell_type": "code",
   "execution_count": 59,
   "metadata": {},
   "outputs": [],
   "source": [
    "from sklearn.ensemble import RandomForestClassifier\n",
    "rfc = RandomForestClassifier(n_estimators=200, random_state=0)\n",
    "rfc.fit(X_train, y_train)\n",
    "y_predRF = rfc.predict(X_test)\n",
    "score_RF = rfc.score(X_test, y_test)"
   ]
  },
  {
   "cell_type": "markdown",
   "metadata": {},
   "source": [
    "# Making Predictions and Evaluating the Model\n",
    "\n",
    "Once the model has been trained, the last step is to make predictions on the model. To do so, we need to call the predict method on the object of the RandomForestClassifier class that we used for training. \n",
    "Look at the above script."
   ]
  },
  {
   "cell_type": "markdown",
   "metadata": {},
   "source": [
    "Finally, to evaluate the performance of the machine learning models, we can use classification metrics such as a confusion metrix, F1 measure, accuracy, etc.\n",
    "\n",
    "To find the values for these metrics, we can use classification_report, confusion_matrix, and accuracy_score utilities from the sklearn.metrics library. Look a the following script:"
   ]
  },
  {
   "cell_type": "code",
   "execution_count": 60,
   "metadata": {},
   "outputs": [
    {
     "name": "stdout",
     "output_type": "stream",
     "text": [
      "[[166   9   8]\n",
      " [ 30 159   8]\n",
      " [ 55  18  37]]\n",
      "              precision    recall  f1-score   support\n",
      "\n",
      "           0       0.66      0.91      0.76       183\n",
      "           1       0.85      0.81      0.83       197\n",
      "           2       0.70      0.34      0.45       110\n",
      "\n",
      "    accuracy                           0.74       490\n",
      "   macro avg       0.74      0.68      0.68       490\n",
      "weighted avg       0.75      0.74      0.72       490\n",
      "\n",
      "0.7387755102040816\n"
     ]
    }
   ],
   "source": [
    "from sklearn.metrics import classification_report, confusion_matrix, accuracy_score\n",
    "print(confusion_matrix(y_test,y_predRF))\n",
    "print(classification_report(y_test,y_predRF))\n",
    "print(accuracy_score(y_test, y_predRF))"
   ]
  },
  {
   "cell_type": "markdown",
   "metadata": {},
   "source": [
    "From the output, you can see that our algorithm achieved an accuracy of 74%.\n",
    "\n"
   ]
  },
  {
   "cell_type": "markdown",
   "metadata": {},
   "source": [
    "I am also going to run different Machine Learning Classification Models such as Support Vector Machine, KNN, Logistic Regression and Naive Bayes in the same way I follow in Random Forest Classifier."
   ]
  },
  {
   "cell_type": "code",
   "execution_count": 62,
   "metadata": {},
   "outputs": [],
   "source": [
    "from sklearn.svm import SVC\n",
    "svclassifier = SVC(kernel='linear')\n",
    "svclassifier.fit(X_train, y_train)\n",
    "y_predSVC = svclassifier.predict(X_test)\n",
    "score_SVC = svclassifier.score(X_test, y_test)"
   ]
  },
  {
   "cell_type": "code",
   "execution_count": 63,
   "metadata": {},
   "outputs": [
    {
     "name": "stdout",
     "output_type": "stream",
     "text": [
      "[[179   1   3]\n",
      " [ 36 149  12]\n",
      " [ 61  13  36]]\n",
      "              precision    recall  f1-score   support\n",
      "\n",
      "           0       0.65      0.98      0.78       183\n",
      "           1       0.91      0.76      0.83       197\n",
      "           2       0.71      0.33      0.45       110\n",
      "\n",
      "    accuracy                           0.74       490\n",
      "   macro avg       0.76      0.69      0.68       490\n",
      "weighted avg       0.77      0.74      0.72       490\n",
      "\n",
      "0.7428571428571429\n"
     ]
    }
   ],
   "source": [
    "print(confusion_matrix(y_test,y_predSVC))\n",
    "print(classification_report(y_test,y_predSVC))\n",
    "print(accuracy_score(y_test, y_predSVC))"
   ]
  },
  {
   "cell_type": "code",
   "execution_count": 64,
   "metadata": {},
   "outputs": [
    {
     "data": {
      "text/plain": [
       "array(['1', '1', '0', '0', '0', '0', '0', '1', '0', '0'], dtype=object)"
      ]
     },
     "execution_count": 64,
     "metadata": {},
     "output_type": "execute_result"
    }
   ],
   "source": [
    "y_predSVC[0:10]"
   ]
  },
  {
   "cell_type": "code",
   "execution_count": 65,
   "metadata": {},
   "outputs": [
    {
     "name": "stdout",
     "output_type": "stream",
     "text": [
      "[[147  32   4]\n",
      " [ 35 155   7]\n",
      " [ 55  29  26]]\n",
      "              precision    recall  f1-score   support\n",
      "\n",
      "           0       0.62      0.80      0.70       183\n",
      "           1       0.72      0.79      0.75       197\n",
      "           2       0.70      0.24      0.35       110\n",
      "\n",
      "    accuracy                           0.67       490\n",
      "   macro avg       0.68      0.61      0.60       490\n",
      "weighted avg       0.68      0.67      0.64       490\n",
      "\n",
      "0.6693877551020408\n"
     ]
    }
   ],
   "source": [
    "from sklearn.naive_bayes import MultinomialNB\n",
    "from sklearn.linear_model import LogisticRegression\n",
    "from sklearn.svm import SVC\n",
    "NB_model = MultinomialNB()\n",
    "NB_model.fit(X_train, y_train)\n",
    "y_predNB = NB_model.predict(X_test)\n",
    "score_NB = NB_model.score(X_test, y_test)\n",
    "print(confusion_matrix(y_test,y_predNB))\n",
    "print(classification_report(y_test,y_predNB))\n",
    "print(accuracy_score(y_test, y_predNB))"
   ]
  },
  {
   "cell_type": "code",
   "execution_count": 66,
   "metadata": {},
   "outputs": [
    {
     "name": "stdout",
     "output_type": "stream",
     "text": [
      "[[168   7   8]\n",
      " [ 27 153  17]\n",
      " [ 54  19  37]]\n",
      "              precision    recall  f1-score   support\n",
      "\n",
      "           0       0.67      0.92      0.78       183\n",
      "           1       0.85      0.78      0.81       197\n",
      "           2       0.60      0.34      0.43       110\n",
      "\n",
      "    accuracy                           0.73       490\n",
      "   macro avg       0.71      0.68      0.67       490\n",
      "weighted avg       0.73      0.73      0.71       490\n",
      "\n",
      "0.7306122448979592\n"
     ]
    }
   ],
   "source": [
    "LR_model = LogisticRegression(solver='lbfgs')\n",
    "LR_model.fit(X_train, y_train)\n",
    "y_predLR = LR_model.predict(X_test)\n",
    "score_LR = LR_model.score(X_test, y_test)\n",
    "print(confusion_matrix(y_test,y_predLR))\n",
    "print(classification_report(y_test,y_predLR))\n",
    "print(accuracy_score(y_test, y_predLR))"
   ]
  },
  {
   "cell_type": "code",
   "execution_count": 74,
   "metadata": {},
   "outputs": [
    {
     "name": "stdout",
     "output_type": "stream",
     "text": [
      "[[166  11   6]\n",
      " [124  58  15]\n",
      " [ 83  10  17]]\n",
      "              precision    recall  f1-score   support\n",
      "\n",
      "           0       0.45      0.91      0.60       183\n",
      "           1       0.73      0.29      0.42       197\n",
      "           2       0.45      0.15      0.23       110\n",
      "\n",
      "    accuracy                           0.49       490\n",
      "   macro avg       0.54      0.45      0.42       490\n",
      "weighted avg       0.56      0.49      0.44       490\n",
      "\n",
      "0.49183673469387756\n"
     ]
    }
   ],
   "source": [
    "from sklearn.neighbors import KNeighborsClassifier #K nearest neighbors\n",
    "model_KNN = KNeighborsClassifier(n_neighbors=4)\n",
    "model_KNN.fit(X_train, y_train)\n",
    "y_predKNN = model_KNN.predict(X_test)\n",
    "score_KNN = model_KNN.score(X_test,y_test)\n",
    "\n",
    "print(confusion_matrix(y_test,y_predKNN))\n",
    "print(classification_report(y_test,y_predKNN))\n",
    "print(accuracy_score(y_test, y_predKNN))\n"
   ]
  },
  {
   "cell_type": "code",
   "execution_count": 75,
   "metadata": {},
   "outputs": [
    {
     "name": "stdout",
     "output_type": "stream",
     "text": [
      "+------------------------+----------+\n",
      "|     CLASSIFICATION     | ACCURACY |\n",
      "+========================+==========+\n",
      "| LogisticRegression     | 0.731    |\n",
      "+------------------------+----------+\n",
      "| RandomForest           | 0.739    |\n",
      "+------------------------+----------+\n",
      "| K-NearestNeighbors     | 0.492    |\n",
      "+------------------------+----------+\n",
      "| MultinominalNaiveBayes | 0.669    |\n",
      "+------------------------+----------+\n",
      "| SupportVector          | 0.743    |\n",
      "+------------------------+----------+\n"
     ]
    }
   ],
   "source": [
    "from texttable import Texttable\n",
    "# texttable takes the first reocrd in the list as the column names\n",
    "# of the table\n",
    "l = [[\"CLASSIFICATION\", \"ACCURACY\"],['LogisticRegression', score_LR],['RandomForest', score_RF],['K-NearestNeighbors',score_KNN],['MultinominalNaiveBayes',score_NB], ['SupportVector', score_SVC]]\n",
    "table = Texttable()\n",
    "table.add_rows(l)\n",
    "print(table.draw())"
   ]
  },
  {
   "cell_type": "markdown",
   "metadata": {},
   "source": [
    "The Above table reveals that Among the 5 Classifier Models, the highest accuracy belongs to Support Vector Machine where the lowest accuracy is in KNN model."
   ]
  },
  {
   "cell_type": "markdown",
   "metadata": {},
   "source": [
    "The first 5 rows of the dataset related to Trump tweets."
   ]
  },
  {
   "cell_type": "code",
   "execution_count": 304,
   "metadata": {},
   "outputs": [
    {
     "data": {
      "text/html": [
       "<div>\n",
       "<style scoped>\n",
       "    .dataframe tbody tr th:only-of-type {\n",
       "        vertical-align: middle;\n",
       "    }\n",
       "\n",
       "    .dataframe tbody tr th {\n",
       "        vertical-align: top;\n",
       "    }\n",
       "\n",
       "    .dataframe thead th {\n",
       "        text-align: right;\n",
       "    }\n",
       "</style>\n",
       "<table border=\"1\" class=\"dataframe\">\n",
       "  <thead>\n",
       "    <tr style=\"text-align: right;\">\n",
       "      <th></th>\n",
       "      <th>id</th>\n",
       "      <th>created_at</th>\n",
       "      <th>full_text</th>\n",
       "      <th>Sentiment</th>\n",
       "      <th>SentimentClass</th>\n",
       "    </tr>\n",
       "  </thead>\n",
       "  <tbody>\n",
       "    <tr>\n",
       "      <th>0</th>\n",
       "      <td>1330756653721948162</td>\n",
       "      <td>2020-11-23 06:14:45</td>\n",
       "      <td>excitedamerica  msnbc you are correct, the st...</td>\n",
       "      <td>5.00%</td>\n",
       "      <td>Positive</td>\n",
       "    </tr>\n",
       "    <tr>\n",
       "      <th>1</th>\n",
       "      <td>1330756652631433218</td>\n",
       "      <td>2020-11-23 06:14:44</td>\n",
       "      <td>realdonaldtrump at a saturday session on inte...</td>\n",
       "      <td>-6.67%</td>\n",
       "      <td>Negative</td>\n",
       "    </tr>\n",
       "    <tr>\n",
       "      <th>2</th>\n",
       "      <td>1330756651910094849</td>\n",
       "      <td>2020-11-23 06:14:44</td>\n",
       "      <td>jeepmtn  matthew trump there is integrity in ...</td>\n",
       "      <td>-5.00%</td>\n",
       "      <td>Negative</td>\n",
       "    </tr>\n",
       "    <tr>\n",
       "      <th>3</th>\n",
       "      <td>1330756650827911171</td>\n",
       "      <td>2020-11-23 06:14:44</td>\n",
       "      <td>meidas kelly seems kinda cheap for trump, i d...</td>\n",
       "      <td>45.00%</td>\n",
       "      <td>Positive</td>\n",
       "    </tr>\n",
       "    <tr>\n",
       "      <th>4</th>\n",
       "      <td>1330756650584530944</td>\n",
       "      <td>2020-11-23 06:14:44</td>\n",
       "      <td>brianinmississ  steb  hoping trump   his gang...</td>\n",
       "      <td>12.67%</td>\n",
       "      <td>Positive</td>\n",
       "    </tr>\n",
       "  </tbody>\n",
       "</table>\n",
       "</div>"
      ],
      "text/plain": [
       "                    id           created_at  \\\n",
       "0  1330756653721948162  2020-11-23 06:14:45   \n",
       "1  1330756652631433218  2020-11-23 06:14:44   \n",
       "2  1330756651910094849  2020-11-23 06:14:44   \n",
       "3  1330756650827911171  2020-11-23 06:14:44   \n",
       "4  1330756650584530944  2020-11-23 06:14:44   \n",
       "\n",
       "                                           full_text Sentiment SentimentClass  \n",
       "0   excitedamerica  msnbc you are correct, the st...     5.00%       Positive  \n",
       "1   realdonaldtrump at a saturday session on inte...    -6.67%       Negative  \n",
       "2   jeepmtn  matthew trump there is integrity in ...    -5.00%       Negative  \n",
       "3   meidas kelly seems kinda cheap for trump, i d...    45.00%       Positive  \n",
       "4   brianinmississ  steb  hoping trump   his gang...    12.67%       Positive  "
      ]
     },
     "execution_count": 304,
     "metadata": {},
     "output_type": "execute_result"
    }
   ],
   "source": [
    "tweet_Trump.head()"
   ]
  },
  {
   "cell_type": "markdown",
   "metadata": {},
   "source": [
    "In the dataset of the tweets those have subject of \"Trump\", has 4893 non-null entries and all of them are object type."
   ]
  },
  {
   "cell_type": "code",
   "execution_count": 309,
   "metadata": {},
   "outputs": [
    {
     "data": {
      "text/plain": [
       "Positive    2095\n",
       "Neutral     1465\n",
       "Negative    1333\n",
       "Name: SentimentClass, dtype: int64"
      ]
     },
     "execution_count": 309,
     "metadata": {},
     "output_type": "execute_result"
    }
   ],
   "source": [
    "tweet_Trump['SentimentClass'].value_counts()"
   ]
  },
  {
   "cell_type": "markdown",
   "metadata": {},
   "source": [
    "When we reveal the counts of the each sentiment class, the positive tweets about Trump are the highest when we compare with other two classes. "
   ]
  },
  {
   "cell_type": "code",
   "execution_count": 310,
   "metadata": {},
   "outputs": [
    {
     "data": {
      "text/plain": [
       "Positive    42.737658\n",
       "Neutral     29.885761\n",
       "Negative    27.192982\n",
       "Name: SentimentClass, dtype: float64"
      ]
     },
     "execution_count": 310,
     "metadata": {},
     "output_type": "execute_result"
    }
   ],
   "source": [
    "tweet_Trump['SentimentClass'].value_counts()/len(tweet_Covid) * 100"
   ]
  },
  {
   "cell_type": "markdown",
   "metadata": {},
   "source": [
    "The count of the each sentiment class, the dataset reveals that almost %43 of the tweets used \"Trump\" as subject are positive that reveals that users of these tweets have positive perspective on President Trump. %42 of these tweets were positive, %29 are neutral and %27 of the tweets have negative perspective."
   ]
  },
  {
   "cell_type": "markdown",
   "metadata": {},
   "source": [
    "We can also look at the highest and lowest size tweets about Trump."
   ]
  },
  {
   "cell_type": "code",
   "execution_count": null,
   "metadata": {},
   "outputs": [],
   "source": [
    "length_text = tweet_Trump['full_text'].str.len()"
   ]
  },
  {
   "cell_type": "code",
   "execution_count": 312,
   "metadata": {},
   "outputs": [
    {
     "data": {
      "text/plain": [
       "756"
      ]
     },
     "execution_count": 312,
     "metadata": {},
     "output_type": "execute_result"
    }
   ],
   "source": [
    "max(length_text)"
   ]
  },
  {
   "cell_type": "code",
   "execution_count": 313,
   "metadata": {},
   "outputs": [
    {
     "data": {
      "text/plain": [
       "5"
      ]
     },
     "execution_count": 313,
     "metadata": {},
     "output_type": "execute_result"
    }
   ],
   "source": [
    "min(length_text)"
   ]
  },
  {
   "cell_type": "markdown",
   "metadata": {},
   "source": [
    "Here is the visualization of the tweet about Trump which reveals that the count of negative and neutral tweets are almost same and positive ones have the highest number of counts."
   ]
  },
  {
   "cell_type": "code",
   "execution_count": 314,
   "metadata": {},
   "outputs": [
    {
     "data": {
      "text/plain": [
       "<AxesSubplot:>"
      ]
     },
     "execution_count": 314,
     "metadata": {},
     "output_type": "execute_result"
    },
    {
     "data": {
      "image/png": "[encoded data removed]",
      "text/plain": [
       "<Figure size 432x288 with 1 Axes>"
      ]
     },
     "metadata": {
      "needs_background": "light"
     },
     "output_type": "display_data"
    }
   ],
   "source": [
    "import matplotlib.pyplot as plt\n",
    "tweet_Trump['SentimentClass'].value_counts().plot(kind='bar', width=0.5)"
   ]
  },
  {
   "cell_type": "markdown",
   "metadata": {},
   "source": [
    "It is time to look at the 2nd subject of this project which will be the rival of the President Trump during the election: \"Biden\". \n",
    "\n",
    "As I mentioned above, I retrieved the tweets about Biden with using Twitter API and save it as a csv file."
   ]
  },
  {
   "cell_type": "code",
   "execution_count": 55,
   "metadata": {},
   "outputs": [],
   "source": [
    "tweet_Biden = pd.read_csv((\"/Users/bahtinur/Desktop/Tweet/Biden.csv\"), index_col=0)"
   ]
  },
  {
   "cell_type": "code",
   "execution_count": 56,
   "metadata": {},
   "outputs": [],
   "source": [
    "tweet_Biden['Sentiment'] = pd.Series([\"{0:.2f}%\".format(val * 100) for val in tweet_Biden['Sentiment']], index = tweet_Biden.index)"
   ]
  },
  {
   "cell_type": "code",
   "execution_count": 57,
   "metadata": {},
   "outputs": [
    {
     "data": {
      "text/html": [
       "<div>\n",
       "<style scoped>\n",
       "    .dataframe tbody tr th:only-of-type {\n",
       "        vertical-align: middle;\n",
       "    }\n",
       "\n",
       "    .dataframe tbody tr th {\n",
       "        vertical-align: top;\n",
       "    }\n",
       "\n",
       "    .dataframe thead th {\n",
       "        text-align: right;\n",
       "    }\n",
       "</style>\n",
       "<table border=\"1\" class=\"dataframe\">\n",
       "  <thead>\n",
       "    <tr style=\"text-align: right;\">\n",
       "      <th></th>\n",
       "      <th>id</th>\n",
       "      <th>created_at</th>\n",
       "      <th>full_text</th>\n",
       "      <th>Sentiment</th>\n",
       "      <th>SentimentClass</th>\n",
       "    </tr>\n",
       "  </thead>\n",
       "  <tbody>\n",
       "    <tr>\n",
       "      <th>0</th>\n",
       "      <td>1330752855066763264</td>\n",
       "      <td>2020-11-23 05:59:39</td>\n",
       "      <td>whitehouse how about u post a plan   cv , don...</td>\n",
       "      <td>25.00%</td>\n",
       "      <td>Positive</td>\n",
       "    </tr>\n",
       "    <tr>\n",
       "      <th>1</th>\n",
       "      <td>1330752854072692736</td>\n",
       "      <td>2020-11-23 05:59:39</td>\n",
       "      <td>biden and harris will have a hard time getting...</td>\n",
       "      <td>25.42%</td>\n",
       "      <td>Positive</td>\n",
       "    </tr>\n",
       "    <tr>\n",
       "      <th>2</th>\n",
       "      <td>1330752853913128960</td>\n",
       "      <td>2020-11-23 05:59:39</td>\n",
       "      <td>joenbc  jonlemire with not a shred of evidenc...</td>\n",
       "      <td>0.00%</td>\n",
       "      <td>Neutral</td>\n",
       "    </tr>\n",
       "    <tr>\n",
       "      <th>3</th>\n",
       "      <td>1330752851543470081</td>\n",
       "      <td>2020-11-23 05:59:38</td>\n",
       "      <td>blinken was a key adviser to biden when the s...</td>\n",
       "      <td>0.00%</td>\n",
       "      <td>Neutral</td>\n",
       "    </tr>\n",
       "    <tr>\n",
       "      <th>4</th>\n",
       "      <td>1330752850889203719</td>\n",
       "      <td>2020-11-23 05:59:38</td>\n",
       "      <td>snl got jim carrey to okay biden because he is...</td>\n",
       "      <td>-15.00%</td>\n",
       "      <td>Negative</td>\n",
       "    </tr>\n",
       "  </tbody>\n",
       "</table>\n",
       "</div>"
      ],
      "text/plain": [
       "                    id           created_at  \\\n",
       "0  1330752855066763264  2020-11-23 05:59:39   \n",
       "1  1330752854072692736  2020-11-23 05:59:39   \n",
       "2  1330752853913128960  2020-11-23 05:59:39   \n",
       "3  1330752851543470081  2020-11-23 05:59:38   \n",
       "4  1330752850889203719  2020-11-23 05:59:38   \n",
       "\n",
       "                                           full_text Sentiment SentimentClass  \n",
       "0   whitehouse how about u post a plan   cv , don...    25.00%       Positive  \n",
       "1  biden and harris will have a hard time getting...    25.42%       Positive  \n",
       "2   joenbc  jonlemire with not a shred of evidenc...     0.00%        Neutral  \n",
       "3   blinken was a key adviser to biden when the s...     0.00%        Neutral  \n",
       "4  snl got jim carrey to okay biden because he is...   -15.00%       Negative  "
      ]
     },
     "execution_count": 57,
     "metadata": {},
     "output_type": "execute_result"
    }
   ],
   "source": [
    "tweet_Biden.head()"
   ]
  },
  {
   "cell_type": "markdown",
   "metadata": {},
   "source": [
    "I followed the same process as I did in the previous subject during the data wrangling process."
   ]
  },
  {
   "cell_type": "code",
   "execution_count": 58,
   "metadata": {},
   "outputs": [],
   "source": [
    "del tweet_Biden['id']"
   ]
  },
  {
   "cell_type": "code",
   "execution_count": 59,
   "metadata": {},
   "outputs": [],
   "source": [
    "tweet_Biden.rename(columns={'created_at':'date'}, inplace=True)\n"
   ]
  },
  {
   "cell_type": "code",
   "execution_count": 60,
   "metadata": {},
   "outputs": [
    {
     "name": "stdout",
     "output_type": "stream",
     "text": [
      "<class 'pandas.core.frame.DataFrame'>\n",
      "Int64Index: 4862 entries, 0 to 4861\n",
      "Data columns (total 4 columns):\n",
      " #   Column          Non-Null Count  Dtype \n",
      "---  ------          --------------  ----- \n",
      " 0   date            4862 non-null   object\n",
      " 1   full_text       4861 non-null   object\n",
      " 2   Sentiment       4862 non-null   object\n",
      " 3   SentimentClass  4862 non-null   object\n",
      "dtypes: object(4)\n",
      "memory usage: 189.9+ KB\n"
     ]
    }
   ],
   "source": [
    "tweet_Biden.info()"
   ]
  },
  {
   "cell_type": "markdown",
   "metadata": {},
   "source": [
    "When I checked the counts of the each column, I realized that the column \"full_text\" has an NaN value and it has to be dropped."
   ]
  },
  {
   "cell_type": "code",
   "execution_count": 67,
   "metadata": {},
   "outputs": [],
   "source": [
    "tweet_Biden[tweet_Biden.isna().any(axis=1)]\n",
    "tweet_Biden = tweet_Biden.dropna(how='any')"
   ]
  },
  {
   "cell_type": "code",
   "execution_count": 68,
   "metadata": {},
   "outputs": [
    {
     "name": "stdout",
     "output_type": "stream",
     "text": [
      "<class 'pandas.core.frame.DataFrame'>\n",
      "Int64Index: 4861 entries, 0 to 4861\n",
      "Data columns (total 4 columns):\n",
      " #   Column          Non-Null Count  Dtype \n",
      "---  ------          --------------  ----- \n",
      " 0   date            4861 non-null   object\n",
      " 1   full_text       4861 non-null   object\n",
      " 2   Sentiment       4861 non-null   object\n",
      " 3   SentimentClass  4861 non-null   object\n",
      "dtypes: object(4)\n",
      "memory usage: 189.9+ KB\n"
     ]
    }
   ],
   "source": [
    "tweet_Biden.info()"
   ]
  },
  {
   "cell_type": "code",
   "execution_count": 69,
   "metadata": {},
   "outputs": [
    {
     "data": {
      "text/plain": [
       "Neutral     2051\n",
       "Positive    1881\n",
       "Negative     929\n",
       "Name: SentimentClass, dtype: int64"
      ]
     },
     "execution_count": 69,
     "metadata": {},
     "output_type": "execute_result"
    }
   ],
   "source": [
    "tweet_Biden['SentimentClass'].value_counts()"
   ]
  },
  {
   "cell_type": "code",
   "execution_count": 70,
   "metadata": {},
   "outputs": [
    {
     "data": {
      "text/plain": [
       "Neutral     42.192964\n",
       "Positive    38.695742\n",
       "Negative    19.111294\n",
       "Name: SentimentClass, dtype: float64"
      ]
     },
     "execution_count": 70,
     "metadata": {},
     "output_type": "execute_result"
    }
   ],
   "source": [
    "tweet_Biden['SentimentClass'].value_counts()/len(tweet_Biden) * 100"
   ]
  },
  {
   "cell_type": "markdown",
   "metadata": {},
   "source": [
    "The count of the each sentiment class, the dataset reveals that almost %42 of the tweets used \"Biden\" as subject are neutral that reveals that users of these tweets have neutral perspective on President-elect Biden. %39 of these tweets were positive, %19 of the tweets have negative perspective. We can understand that, most of the tweets about Biden have neutral and positive emotion."
   ]
  },
  {
   "cell_type": "code",
   "execution_count": 346,
   "metadata": {},
   "outputs": [],
   "source": [
    "length_text = tweet_Biden['full_text'].str.len()"
   ]
  },
  {
   "cell_type": "code",
   "execution_count": 347,
   "metadata": {},
   "outputs": [
    {
     "data": {
      "text/plain": [
       "140.0"
      ]
     },
     "execution_count": 347,
     "metadata": {},
     "output_type": "execute_result"
    }
   ],
   "source": [
    "max(length_text)"
   ]
  },
  {
   "cell_type": "code",
   "execution_count": 348,
   "metadata": {},
   "outputs": [
    {
     "data": {
      "text/plain": [
       "7.0"
      ]
     },
     "execution_count": 348,
     "metadata": {},
     "output_type": "execute_result"
    }
   ],
   "source": [
    "min(length_text)"
   ]
  },
  {
   "cell_type": "code",
   "execution_count": 349,
   "metadata": {},
   "outputs": [
    {
     "data": {
      "text/plain": [
       "<AxesSubplot:>"
      ]
     },
     "execution_count": 349,
     "metadata": {},
     "output_type": "execute_result"
    },
    {
     "data": {
      "image/png": "[encoded data removed]",
      "text/plain": [
       "<Figure size 432x288 with 1 Axes>"
      ]
     },
     "metadata": {
      "needs_background": "light"
     },
     "output_type": "display_data"
    }
   ],
   "source": [
    "import matplotlib.pyplot as plt\n",
    "tweet_Biden['SentimentClass'].value_counts().plot(kind='bar', width=0.5)"
   ]
  },
  {
   "cell_type": "code",
   "execution_count": 14,
   "metadata": {},
   "outputs": [],
   "source": [
    "tweet_Covid = pd.read_csv((\"/Users/bahtinur/Desktop/Tweet/Covid.csv\"), index_col=0)"
   ]
  },
  {
   "cell_type": "code",
   "execution_count": 15,
   "metadata": {},
   "outputs": [],
   "source": [
    "tweet_Covid['Sentiment'] = pd.Series([\"{0:.2f}%\".format(val * 100) for val in tweet_Covid['Sentiment']], index = tweet_Covid.index)"
   ]
  },
  {
   "cell_type": "code",
   "execution_count": 16,
   "metadata": {},
   "outputs": [
    {
     "data": {
      "text/html": [
       "<div>\n",
       "<style scoped>\n",
       "    .dataframe tbody tr th:only-of-type {\n",
       "        vertical-align: middle;\n",
       "    }\n",
       "\n",
       "    .dataframe tbody tr th {\n",
       "        vertical-align: top;\n",
       "    }\n",
       "\n",
       "    .dataframe thead th {\n",
       "        text-align: right;\n",
       "    }\n",
       "</style>\n",
       "<table border=\"1\" class=\"dataframe\">\n",
       "  <thead>\n",
       "    <tr style=\"text-align: right;\">\n",
       "      <th></th>\n",
       "      <th>id</th>\n",
       "      <th>created_at</th>\n",
       "      <th>full_text</th>\n",
       "      <th>Sentiment</th>\n",
       "      <th>SentimentClass</th>\n",
       "    </tr>\n",
       "  </thead>\n",
       "  <tbody>\n",
       "    <tr>\n",
       "      <th>0</th>\n",
       "      <td>1330567120091025412</td>\n",
       "      <td>2020-11-22 17:41:36</td>\n",
       "      <td>hairymarx   keithwmacdonal   maajidnawaz  lbc...</td>\n",
       "      <td>-60.00%</td>\n",
       "      <td>Negative</td>\n",
       "    </tr>\n",
       "    <tr>\n",
       "      <th>1</th>\n",
       "      <td>1330567119264681985</td>\n",
       "      <td>2020-11-22 17:41:36</td>\n",
       "      <td>anti vaxxers think that if they don t get the ...</td>\n",
       "      <td>45.62%</td>\n",
       "      <td>Positive</td>\n",
       "    </tr>\n",
       "    <tr>\n",
       "      <th>2</th>\n",
       "      <td>1330567118765506560</td>\n",
       "      <td>2020-11-22 17:41:36</td>\n",
       "      <td>joncoopertweets i ve said all along if it s d...</td>\n",
       "      <td>0.00%</td>\n",
       "      <td>Neutral</td>\n",
       "    </tr>\n",
       "    <tr>\n",
       "      <th>3</th>\n",
       "      <td>1330567113078169606</td>\n",
       "      <td>2020-11-22 17:41:35</td>\n",
       "      <td>lkgwin  mmpadellan will that trigger drumoft?...</td>\n",
       "      <td>50.00%</td>\n",
       "      <td>Positive</td>\n",
       "    </tr>\n",
       "    <tr>\n",
       "      <th>4</th>\n",
       "      <td>1330567108707676162</td>\n",
       "      <td>2020-11-22 17:41:34</td>\n",
       "      <td>government exploring modalities of emergency a...</td>\n",
       "      <td>0.00%</td>\n",
       "      <td>Neutral</td>\n",
       "    </tr>\n",
       "  </tbody>\n",
       "</table>\n",
       "</div>"
      ],
      "text/plain": [
       "                    id           created_at  \\\n",
       "0  1330567120091025412  2020-11-22 17:41:36   \n",
       "1  1330567119264681985  2020-11-22 17:41:36   \n",
       "2  1330567118765506560  2020-11-22 17:41:36   \n",
       "3  1330567113078169606  2020-11-22 17:41:35   \n",
       "4  1330567108707676162  2020-11-22 17:41:34   \n",
       "\n",
       "                                           full_text Sentiment SentimentClass  \n",
       "0   hairymarx   keithwmacdonal   maajidnawaz  lbc...   -60.00%       Negative  \n",
       "1  anti vaxxers think that if they don t get the ...    45.62%       Positive  \n",
       "2   joncoopertweets i ve said all along if it s d...     0.00%        Neutral  \n",
       "3   lkgwin  mmpadellan will that trigger drumoft?...    50.00%       Positive  \n",
       "4  government exploring modalities of emergency a...     0.00%        Neutral  "
      ]
     },
     "execution_count": 16,
     "metadata": {},
     "output_type": "execute_result"
    }
   ],
   "source": [
    "tweet_Covid.head()"
   ]
  },
  {
   "cell_type": "code",
   "execution_count": 17,
   "metadata": {},
   "outputs": [],
   "source": [
    "del tweet_Covid['id']\n",
    "tweet_Covid.rename(columns={'created_at':'date'}, inplace=True)"
   ]
  },
  {
   "cell_type": "code",
   "execution_count": 18,
   "metadata": {},
   "outputs": [
    {
     "name": "stdout",
     "output_type": "stream",
     "text": [
      "<class 'pandas.core.frame.DataFrame'>\n",
      "Int64Index: 4813 entries, 0 to 4812\n",
      "Data columns (total 4 columns):\n",
      " #   Column          Non-Null Count  Dtype \n",
      "---  ------          --------------  ----- \n",
      " 0   date            4813 non-null   object\n",
      " 1   full_text       4813 non-null   object\n",
      " 2   Sentiment       4813 non-null   object\n",
      " 3   SentimentClass  4813 non-null   object\n",
      "dtypes: object(4)\n",
      "memory usage: 188.0+ KB\n"
     ]
    }
   ],
   "source": [
    "tweet_Covid.info()"
   ]
  },
  {
   "cell_type": "code",
   "execution_count": 19,
   "metadata": {},
   "outputs": [
    {
     "data": {
      "text/plain": [
       "Positive    2403\n",
       "Neutral     1350\n",
       "Negative    1060\n",
       "Name: SentimentClass, dtype: int64"
      ]
     },
     "execution_count": 19,
     "metadata": {},
     "output_type": "execute_result"
    }
   ],
   "source": [
    "tweet_Covid['SentimentClass'].value_counts()"
   ]
  },
  {
   "cell_type": "code",
   "execution_count": 20,
   "metadata": {},
   "outputs": [
    {
     "data": {
      "text/plain": [
       "Positive    49.927280\n",
       "Neutral     28.049034\n",
       "Negative    22.023686\n",
       "Name: SentimentClass, dtype: float64"
      ]
     },
     "execution_count": 20,
     "metadata": {},
     "output_type": "execute_result"
    }
   ],
   "source": [
    "tweet_Covid['SentimentClass'].value_counts()/len(tweet_Covid) * 100"
   ]
  },
  {
   "cell_type": "markdown",
   "metadata": {},
   "source": [
    "When I look at the count of the each sentiment class, the dataset reveals that half of the tweets used \"Covid\" as subject are positive that reveals that users of these tweets have positive perspective on Covid pandamic. %50 of these tweets were positive, %28 are neutral and %22 of the tweets have negative emotion."
   ]
  },
  {
   "cell_type": "code",
   "execution_count": 21,
   "metadata": {},
   "outputs": [
    {
     "data": {
      "text/plain": [
       "Positive    49.927280\n",
       "Neutral     28.049034\n",
       "Negative    22.023686\n",
       "Name: SentimentClass, dtype: float64"
      ]
     },
     "execution_count": 21,
     "metadata": {},
     "output_type": "execute_result"
    }
   ],
   "source": [
    "tweet_Covid['SentimentClass'].value_counts()/len(tweet_Covid) * 100"
   ]
  },
  {
   "cell_type": "code",
   "execution_count": 22,
   "metadata": {},
   "outputs": [],
   "source": [
    "length_text = tweet_Covid['full_text'].str.len()"
   ]
  },
  {
   "cell_type": "code",
   "execution_count": 23,
   "metadata": {},
   "outputs": [
    {
     "data": {
      "text/plain": [
       "908"
      ]
     },
     "execution_count": 23,
     "metadata": {},
     "output_type": "execute_result"
    }
   ],
   "source": [
    "max(length_text)"
   ]
  },
  {
   "cell_type": "code",
   "execution_count": 24,
   "metadata": {},
   "outputs": [
    {
     "data": {
      "text/plain": [
       "4"
      ]
     },
     "execution_count": 24,
     "metadata": {},
     "output_type": "execute_result"
    }
   ],
   "source": [
    "min(length_text)"
   ]
  },
  {
   "cell_type": "code",
   "execution_count": 25,
   "metadata": {},
   "outputs": [
    {
     "data": {
      "text/plain": [
       "<AxesSubplot:>"
      ]
     },
     "execution_count": 25,
     "metadata": {},
     "output_type": "execute_result"
    },
    {
     "data": {
      "image/png": "[encoded data removed]",
      "text/plain": [
       "<Figure size 432x288 with 1 Axes>"
      ]
     },
     "metadata": {
      "needs_background": "light"
     },
     "output_type": "display_data"
    }
   ],
   "source": [
    "import matplotlib.pyplot as plt\n",
    "tweet_Covid['SentimentClass'].value_counts().plot(kind='bar', width=0.5)"
   ]
  },
  {
   "cell_type": "code",
   "execution_count": 26,
   "metadata": {},
   "outputs": [],
   "source": [
    "import tweepy\n",
    "import json\n",
    "from tweepy import StreamListener\n",
    "import tweepy as tw\n",
    "import pandas as pd"
   ]
  },
  {
   "cell_type": "code",
   "execution_count": 27,
   "metadata": {},
   "outputs": [],
   "source": [
    "tweet_stimulus = pd.read_csv((\"/Users/bahtinur/Desktop/Tweet/stimulus.csv\"), index_col=0)"
   ]
  },
  {
   "cell_type": "code",
   "execution_count": 28,
   "metadata": {},
   "outputs": [],
   "source": [
    "tweet_stimulus['Sentiment'] = pd.Series([\"{0:.2f}%\".format(val * 100) for val in tweet_stimulus['Sentiment']], index = tweet_stimulus.index)"
   ]
  },
  {
   "cell_type": "code",
   "execution_count": 29,
   "metadata": {},
   "outputs": [
    {
     "data": {
      "text/html": [
       "<div>\n",
       "<style scoped>\n",
       "    .dataframe tbody tr th:only-of-type {\n",
       "        vertical-align: middle;\n",
       "    }\n",
       "\n",
       "    .dataframe tbody tr th {\n",
       "        vertical-align: top;\n",
       "    }\n",
       "\n",
       "    .dataframe thead th {\n",
       "        text-align: right;\n",
       "    }\n",
       "</style>\n",
       "<table border=\"1\" class=\"dataframe\">\n",
       "  <thead>\n",
       "    <tr style=\"text-align: right;\">\n",
       "      <th></th>\n",
       "      <th>id</th>\n",
       "      <th>created_at</th>\n",
       "      <th>full_text</th>\n",
       "      <th>Sentiment</th>\n",
       "      <th>SentimentClass</th>\n",
       "    </tr>\n",
       "  </thead>\n",
       "  <tbody>\n",
       "    <tr>\n",
       "      <th>0</th>\n",
       "      <td>1330775252339572737</td>\n",
       "      <td>2020-11-23 07:28:39</td>\n",
       "      <td>pandemic stimulus: cancel student loans by exe...</td>\n",
       "      <td>0.00%</td>\n",
       "      <td>Neutral</td>\n",
       "    </tr>\n",
       "    <tr>\n",
       "      <th>1</th>\n",
       "      <td>1330775251664429061</td>\n",
       "      <td>2020-11-23 07:28:39</td>\n",
       "      <td>repmichaelwaltz  senrickscott  spaceforcedod ...</td>\n",
       "      <td>0.00%</td>\n",
       "      <td>Neutral</td>\n",
       "    </tr>\n",
       "    <tr>\n",
       "      <th>2</th>\n",
       "      <td>1330775152179752964</td>\n",
       "      <td>2020-11-23 07:28:15</td>\n",
       "      <td>senrickscott  america   stimulus now   .  mil...</td>\n",
       "      <td>6.82%</td>\n",
       "      <td>Positive</td>\n",
       "    </tr>\n",
       "    <tr>\n",
       "      <th>3</th>\n",
       "      <td>1330775041685020672</td>\n",
       "      <td>2020-11-23 07:27:49</td>\n",
       "      <td>markets move higher as investors eye the   ele...</td>\n",
       "      <td>25.00%</td>\n",
       "      <td>Positive</td>\n",
       "    </tr>\n",
       "    <tr>\n",
       "      <th>4</th>\n",
       "      <td>1330775013746733057</td>\n",
       "      <td>2020-11-23 07:27:42</td>\n",
       "      <td>aerosol may not be good for the environment, b...</td>\n",
       "      <td>60.00%</td>\n",
       "      <td>Positive</td>\n",
       "    </tr>\n",
       "  </tbody>\n",
       "</table>\n",
       "</div>"
      ],
      "text/plain": [
       "                    id           created_at  \\\n",
       "0  1330775252339572737  2020-11-23 07:28:39   \n",
       "1  1330775251664429061  2020-11-23 07:28:39   \n",
       "2  1330775152179752964  2020-11-23 07:28:15   \n",
       "3  1330775041685020672  2020-11-23 07:27:49   \n",
       "4  1330775013746733057  2020-11-23 07:27:42   \n",
       "\n",
       "                                           full_text Sentiment SentimentClass  \n",
       "0  pandemic stimulus: cancel student loans by exe...     0.00%        Neutral  \n",
       "1   repmichaelwaltz  senrickscott  spaceforcedod ...     0.00%        Neutral  \n",
       "2   senrickscott  america   stimulus now   .  mil...     6.82%       Positive  \n",
       "3  markets move higher as investors eye the   ele...    25.00%       Positive  \n",
       "4  aerosol may not be good for the environment, b...    60.00%       Positive  "
      ]
     },
     "execution_count": 29,
     "metadata": {},
     "output_type": "execute_result"
    }
   ],
   "source": [
    "tweet_stimulus.head()"
   ]
  },
  {
   "cell_type": "code",
   "execution_count": 30,
   "metadata": {},
   "outputs": [],
   "source": [
    "del tweet_stimulus['id']\n",
    "tweet_stimulus.rename(columns={'created_at':'date'}, inplace=True)"
   ]
  },
  {
   "cell_type": "code",
   "execution_count": 31,
   "metadata": {},
   "outputs": [
    {
     "name": "stdout",
     "output_type": "stream",
     "text": [
      "<class 'pandas.core.frame.DataFrame'>\n",
      "Int64Index: 4690 entries, 0 to 4689\n",
      "Data columns (total 4 columns):\n",
      " #   Column          Non-Null Count  Dtype \n",
      "---  ------          --------------  ----- \n",
      " 0   date            4690 non-null   object\n",
      " 1   full_text       4690 non-null   object\n",
      " 2   Sentiment       4690 non-null   object\n",
      " 3   SentimentClass  4690 non-null   object\n",
      "dtypes: object(4)\n",
      "memory usage: 183.2+ KB\n"
     ]
    }
   ],
   "source": [
    "tweet_stimulus.info()"
   ]
  },
  {
   "cell_type": "code",
   "execution_count": 32,
   "metadata": {},
   "outputs": [
    {
     "data": {
      "text/plain": [
       "Neutral     2103\n",
       "Positive    1723\n",
       "Negative     864\n",
       "Name: SentimentClass, dtype: int64"
      ]
     },
     "execution_count": 32,
     "metadata": {},
     "output_type": "execute_result"
    }
   ],
   "source": [
    "tweet_stimulus['SentimentClass'].value_counts()"
   ]
  },
  {
   "cell_type": "markdown",
   "metadata": {},
   "source": [
    "The count of the each sentiment class, the dataset reveals that almost %45 of the tweets used \"stimulus\" as subject are neutral that reveals that users of these tweets have neutral perspective on stimulus relief package. %38 of these tweets were positive, %18 of the tweets have negative perspective. We can understand that, most of the tweets about stimulus have neutral and positive emotion."
   ]
  },
  {
   "cell_type": "code",
   "execution_count": 33,
   "metadata": {},
   "outputs": [
    {
     "data": {
      "text/plain": [
       "Neutral     44.840085\n",
       "Positive    36.737740\n",
       "Negative    18.422175\n",
       "Name: SentimentClass, dtype: float64"
      ]
     },
     "execution_count": 33,
     "metadata": {},
     "output_type": "execute_result"
    }
   ],
   "source": [
    "tweet_stimulus['SentimentClass'].value_counts()/len(tweet_stimulus) * 100"
   ]
  },
  {
   "cell_type": "code",
   "execution_count": 37,
   "metadata": {},
   "outputs": [],
   "source": [
    "length_text = tweet_stimulus['full_text'].str.len()"
   ]
  },
  {
   "cell_type": "code",
   "execution_count": 38,
   "metadata": {},
   "outputs": [
    {
     "data": {
      "text/plain": [
       "143"
      ]
     },
     "execution_count": 38,
     "metadata": {},
     "output_type": "execute_result"
    }
   ],
   "source": [
    "max(length_text)"
   ]
  },
  {
   "cell_type": "code",
   "execution_count": 39,
   "metadata": {},
   "outputs": [
    {
     "data": {
      "text/plain": [
       "12"
      ]
     },
     "execution_count": 39,
     "metadata": {},
     "output_type": "execute_result"
    }
   ],
   "source": [
    "min(length_text)"
   ]
  },
  {
   "cell_type": "code",
   "execution_count": 40,
   "metadata": {},
   "outputs": [
    {
     "data": {
      "text/plain": [
       "<AxesSubplot:>"
      ]
     },
     "execution_count": 40,
     "metadata": {},
     "output_type": "execute_result"
    },
    {
     "data": {
      "image/png": "[encoded data removed]",
      "text/plain": [
       "<Figure size 432x288 with 1 Axes>"
      ]
     },
     "metadata": {
      "needs_background": "light"
     },
     "output_type": "display_data"
    }
   ],
   "source": [
    "import matplotlib.pyplot as plt\n",
    "tweet_stimulus['SentimentClass'].value_counts().plot(kind='bar', width=0.5)"
   ]
  },
  {
   "cell_type": "code",
   "execution_count": 41,
   "metadata": {},
   "outputs": [],
   "source": [
    "tweet_vaccine = pd.read_csv((\"/Users/bahtinur/Desktop/Tweet/vaccine.csv\"), index_col=0)"
   ]
  },
  {
   "cell_type": "code",
   "execution_count": 42,
   "metadata": {},
   "outputs": [],
   "source": [
    "tweet_vaccine['Sentiment'] = pd.Series([\"{0:.2f}%\".format(val * 100) for val in tweet_vaccine['Sentiment']], index = tweet_vaccine.index)"
   ]
  },
  {
   "cell_type": "code",
   "execution_count": 43,
   "metadata": {},
   "outputs": [
    {
     "data": {
      "text/html": [
       "<div>\n",
       "<style scoped>\n",
       "    .dataframe tbody tr th:only-of-type {\n",
       "        vertical-align: middle;\n",
       "    }\n",
       "\n",
       "    .dataframe tbody tr th {\n",
       "        vertical-align: top;\n",
       "    }\n",
       "\n",
       "    .dataframe thead th {\n",
       "        text-align: right;\n",
       "    }\n",
       "</style>\n",
       "<table border=\"1\" class=\"dataframe\">\n",
       "  <thead>\n",
       "    <tr style=\"text-align: right;\">\n",
       "      <th></th>\n",
       "      <th>id</th>\n",
       "      <th>created_at</th>\n",
       "      <th>full_text</th>\n",
       "      <th>Sentiment</th>\n",
       "      <th>SentimentClass</th>\n",
       "    </tr>\n",
       "  </thead>\n",
       "  <tbody>\n",
       "    <tr>\n",
       "      <th>0</th>\n",
       "      <td>1330833397120454656</td>\n",
       "      <td>2020-11-23 11:19:42</td>\n",
       "      <td>oxford uni newsletter confirms the key princip...</td>\n",
       "      <td>-20.00%</td>\n",
       "      <td>Negative</td>\n",
       "    </tr>\n",
       "    <tr>\n",
       "      <th>1</th>\n",
       "      <td>1330833393026621441</td>\n",
       "      <td>2020-11-23 11:19:41</td>\n",
       "      <td>kaarnama   vinayak jain bcoz vaccine isafe by...</td>\n",
       "      <td>0.00%</td>\n",
       "      <td>Neutral</td>\n",
       "    </tr>\n",
       "    <tr>\n",
       "      <th>2</th>\n",
       "      <td>1330833388987699201</td>\n",
       "      <td>2020-11-23 11:19:40</td>\n",
       "      <td>kieranmurphy   lilyallen yes it is. this is t...</td>\n",
       "      <td>13.64%</td>\n",
       "      <td>Positive</td>\n",
       "    </tr>\n",
       "    <tr>\n",
       "      <th>3</th>\n",
       "      <td>1330833387469332485</td>\n",
       "      <td>2020-11-23 11:19:39</td>\n",
       "      <td>lynnehall  uniofoxford   is enough to protect...</td>\n",
       "      <td>10.00%</td>\n",
       "      <td>Positive</td>\n",
       "    </tr>\n",
       "    <tr>\n",
       "      <th>4</th>\n",
       "      <td>1330833386185908225</td>\n",
       "      <td>2020-11-23 11:19:39</td>\n",
       "      <td>cjhancock ah, vaccine peak. one standout sess...</td>\n",
       "      <td>0.00%</td>\n",
       "      <td>Neutral</td>\n",
       "    </tr>\n",
       "  </tbody>\n",
       "</table>\n",
       "</div>"
      ],
      "text/plain": [
       "                    id           created_at  \\\n",
       "0  1330833397120454656  2020-11-23 11:19:42   \n",
       "1  1330833393026621441  2020-11-23 11:19:41   \n",
       "2  1330833388987699201  2020-11-23 11:19:40   \n",
       "3  1330833387469332485  2020-11-23 11:19:39   \n",
       "4  1330833386185908225  2020-11-23 11:19:39   \n",
       "\n",
       "                                           full_text Sentiment SentimentClass  \n",
       "0  oxford uni newsletter confirms the key princip...   -20.00%       Negative  \n",
       "1   kaarnama   vinayak jain bcoz vaccine isafe by...     0.00%        Neutral  \n",
       "2   kieranmurphy   lilyallen yes it is. this is t...    13.64%       Positive  \n",
       "3   lynnehall  uniofoxford   is enough to protect...    10.00%       Positive  \n",
       "4   cjhancock ah, vaccine peak. one standout sess...     0.00%        Neutral  "
      ]
     },
     "execution_count": 43,
     "metadata": {},
     "output_type": "execute_result"
    }
   ],
   "source": [
    "tweet_vaccine.head()"
   ]
  },
  {
   "cell_type": "code",
   "execution_count": 44,
   "metadata": {},
   "outputs": [
    {
     "name": "stdout",
     "output_type": "stream",
     "text": [
      "<class 'pandas.core.frame.DataFrame'>\n",
      "Int64Index: 4670 entries, 0 to 4669\n",
      "Data columns (total 5 columns):\n",
      " #   Column          Non-Null Count  Dtype \n",
      "---  ------          --------------  ----- \n",
      " 0   id              4670 non-null   int64 \n",
      " 1   created_at      4670 non-null   object\n",
      " 2   full_text       4670 non-null   object\n",
      " 3   Sentiment       4670 non-null   object\n",
      " 4   SentimentClass  4670 non-null   object\n",
      "dtypes: int64(1), object(4)\n",
      "memory usage: 218.9+ KB\n"
     ]
    }
   ],
   "source": [
    "tweet_vaccine.info()"
   ]
  },
  {
   "cell_type": "code",
   "execution_count": 45,
   "metadata": {},
   "outputs": [
    {
     "data": {
      "text/plain": [
       "Positive    2139\n",
       "Neutral     1867\n",
       "Negative     664\n",
       "Name: SentimentClass, dtype: int64"
      ]
     },
     "execution_count": 45,
     "metadata": {},
     "output_type": "execute_result"
    }
   ],
   "source": [
    "tweet_vaccine['SentimentClass'].value_counts()"
   ]
  },
  {
   "cell_type": "markdown",
   "metadata": {},
   "source": [
    "The count of the each sentiment class, the dataset reveals that almost %46 of the tweets used \"vaccine\" as subject are positive that reveals that users of these tweets have positive perspective on vaccine about Covid-19. %40 of these tweets were neutral, %15 of the tweets have negative perspective. We can understand that, most of the tweets about vaccine have neutral and positive emotion."
   ]
  },
  {
   "cell_type": "code",
   "execution_count": 46,
   "metadata": {},
   "outputs": [
    {
     "data": {
      "text/plain": [
       "Positive    45.802998\n",
       "Neutral     39.978587\n",
       "Negative    14.218415\n",
       "Name: SentimentClass, dtype: float64"
      ]
     },
     "execution_count": 46,
     "metadata": {},
     "output_type": "execute_result"
    }
   ],
   "source": [
    "tweet_vaccine['SentimentClass'].value_counts()/len(tweet_vaccine) * 100"
   ]
  },
  {
   "cell_type": "code",
   "execution_count": 47,
   "metadata": {},
   "outputs": [],
   "source": [
    "length_text = tweet_vaccine['full_text'].str.len()"
   ]
  },
  {
   "cell_type": "code",
   "execution_count": 48,
   "metadata": {},
   "outputs": [
    {
     "data": {
      "text/plain": [
       "140"
      ]
     },
     "execution_count": 48,
     "metadata": {},
     "output_type": "execute_result"
    }
   ],
   "source": [
    "max(length_text)"
   ]
  },
  {
   "cell_type": "code",
   "execution_count": 49,
   "metadata": {},
   "outputs": [
    {
     "data": {
      "text/plain": [
       "7"
      ]
     },
     "execution_count": 49,
     "metadata": {},
     "output_type": "execute_result"
    }
   ],
   "source": [
    "min(length_text)"
   ]
  },
  {
   "cell_type": "code",
   "execution_count": 50,
   "metadata": {},
   "outputs": [
    {
     "data": {
      "text/plain": [
       "<AxesSubplot:>"
      ]
     },
     "execution_count": 50,
     "metadata": {},
     "output_type": "execute_result"
    },
    {
     "data": {
      "image/png": "[encoded data removed]",
      "text/plain": [
       "<Figure size 432x288 with 1 Axes>"
      ]
     },
     "metadata": {
      "needs_background": "light"
     },
     "output_type": "display_data"
    }
   ],
   "source": [
    "import matplotlib.pyplot as plt\n",
    "tweet_vaccine['SentimentClass'].value_counts().plot(kind='bar', width=0.5)"
   ]
  },
  {
   "cell_type": "markdown",
   "metadata": {},
   "source": [
    "# Findings"
   ]
  },
  {
   "cell_type": "markdown",
   "metadata": {},
   "source": [
    "This project applied Natural Language Proceessing Sentiment Analysis Model to understand the emotions of tweeteer users especailly about 5 trendy subjects in the U.S. Twitter sentiment Analysis provided many exciting opportunities like being able to analyze tweets in real-time, and determine the sentiment that underlies each message, adds a new dimension to social media monitoring.\n",
    "\n",
    "In our project, between 11/22/2020 and 11/23/2020, the dataset reveals that almost %43 of the tweets as a subject of \"Trump\" are positive, %29 are neutral and %27 of the tweets have negative perspective. \n",
    "\n",
    "As an opponent of \"Trump\" during the election, %42 of the tweets used \"Biden\" as subject are neutral, %39 of these tweets were positive, %19 of the tweets have negative perspective. \n",
    "\n",
    "As a 3rd selected subject, %50 of the tweets about \"Covid\" positive, %28 are neutral and %22 of the tweets have negative emotion. Related to the current circumstances of the public and society, the dataset reveals that almost %45 of the tweets used \"stimulus\" as subject are neutral that reveals that users of these tweets have neutral perspective on stimulus relief package. %38 of these tweets were positive, %18 of the tweets have negative perspective. \n",
    "\n",
    "The dataset reveals that almost %46 of the tweets used \"vaccine\" as subject are positive that reveals that users of these tweets have positive perspective on vaccine about Covid-19. %40 of these tweets were neutral, %15 of the tweets have negative perspective. We can understand that, most of the tweets about vaccine have neutral and positive emotion.\n",
    "\n",
    "The results reveal that the highest number of negative tweets among the 5 subjects are belong to tweets about Trump and highest positive tweets among the 5 subjects are belong to Covid where twitter users have positive emotions about the \"Covid\"."
   ]
  },
  {
   "cell_type": "markdown",
   "metadata": {},
   "source": [
    "# Conclusion"
   ]
  },
  {
   "cell_type": "markdown",
   "metadata": {},
   "source": [
    "Real-time responses especially in the social media are essential for businesses, politics, markets and stakeholders. Sentiment Analysis Model of Natural Language Processing is an important tool to get these outcomes in a precise method. Although, %80 of the social media data are unorganized, sentiment analysis make sense of all this unstructured text automatically understandable, processable and able to tag it.\n",
    "\n",
    "Sentiment Analysis is one of the hardest tasks in Natural Language Processing because even humans struggle to analyze sentiments accurately. Data scientists are getting better at creating more accurate sentiment classifiers, but there is still a long way to go."
   ]
  }
 ],
 "metadata": {
  "kernelspec": {
   "display_name": "Python 3",
   "language": "python",
   "name": "python3"
  },
  "language_info": {
   "codemirror_mode": {
    "name": "ipython",
    "version": 3
   },
   "file_extension": ".py",
   "mimetype": "text/x-python",
   "name": "python",
   "nbconvert_exporter": "python",
   "pygments_lexer": "ipython3",
   "version": "3.7.6"
  }
 },
 "nbformat": 4,
 "nbformat_minor": 4
}
